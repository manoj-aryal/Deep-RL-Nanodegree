{
 "cells": [
  {
   "cell_type": "markdown",
   "metadata": {},
   "source": [
    "# Initialize a game"
   ]
  },
  {
   "cell_type": "code",
   "execution_count": 1,
   "metadata": {},
   "outputs": [],
   "source": [
    "from ConnectN import ConnectN\n",
    "\n",
    "game_setting = {'size':(6,6), 'N':4, 'pie_rule':True}\n",
    "game = ConnectN(**game_setting)\n"
   ]
  },
  {
   "cell_type": "code",
   "execution_count": 2,
   "metadata": {},
   "outputs": [
    {
     "data": {
      "application/javascript": [
       "/* Put everything inside the global mpl namespace */\n",
       "window.mpl = {};\n",
       "\n",
       "\n",
       "mpl.get_websocket_type = function() {\n",
       "    if (typeof(WebSocket) !== 'undefined') {\n",
       "        return WebSocket;\n",
       "    } else if (typeof(MozWebSocket) !== 'undefined') {\n",
       "        return MozWebSocket;\n",
       "    } else {\n",
       "        alert('Your browser does not have WebSocket support.' +\n",
       "              'Please try Chrome, Safari or Firefox ≥ 6. ' +\n",
       "              'Firefox 4 and 5 are also supported but you ' +\n",
       "              'have to enable WebSockets in about:config.');\n",
       "    };\n",
       "}\n",
       "\n",
       "mpl.figure = function(figure_id, websocket, ondownload, parent_element) {\n",
       "    this.id = figure_id;\n",
       "\n",
       "    this.ws = websocket;\n",
       "\n",
       "    this.supports_binary = (this.ws.binaryType != undefined);\n",
       "\n",
       "    if (!this.supports_binary) {\n",
       "        var warnings = document.getElementById(\"mpl-warnings\");\n",
       "        if (warnings) {\n",
       "            warnings.style.display = 'block';\n",
       "            warnings.textContent = (\n",
       "                \"This browser does not support binary websocket messages. \" +\n",
       "                    \"Performance may be slow.\");\n",
       "        }\n",
       "    }\n",
       "\n",
       "    this.imageObj = new Image();\n",
       "\n",
       "    this.context = undefined;\n",
       "    this.message = undefined;\n",
       "    this.canvas = undefined;\n",
       "    this.rubberband_canvas = undefined;\n",
       "    this.rubberband_context = undefined;\n",
       "    this.format_dropdown = undefined;\n",
       "\n",
       "    this.image_mode = 'full';\n",
       "\n",
       "    this.root = $('<div/>');\n",
       "    this._root_extra_style(this.root)\n",
       "    this.root.attr('style', 'display: inline-block');\n",
       "\n",
       "    $(parent_element).append(this.root);\n",
       "\n",
       "    this._init_header(this);\n",
       "    this._init_canvas(this);\n",
       "    this._init_toolbar(this);\n",
       "\n",
       "    var fig = this;\n",
       "\n",
       "    this.waiting = false;\n",
       "\n",
       "    this.ws.onopen =  function () {\n",
       "            fig.send_message(\"supports_binary\", {value: fig.supports_binary});\n",
       "            fig.send_message(\"send_image_mode\", {});\n",
       "            if (mpl.ratio != 1) {\n",
       "                fig.send_message(\"set_dpi_ratio\", {'dpi_ratio': mpl.ratio});\n",
       "            }\n",
       "            fig.send_message(\"refresh\", {});\n",
       "        }\n",
       "\n",
       "    this.imageObj.onload = function() {\n",
       "            if (fig.image_mode == 'full') {\n",
       "                // Full images could contain transparency (where diff images\n",
       "                // almost always do), so we need to clear the canvas so that\n",
       "                // there is no ghosting.\n",
       "                fig.context.clearRect(0, 0, fig.canvas.width, fig.canvas.height);\n",
       "            }\n",
       "            fig.context.drawImage(fig.imageObj, 0, 0);\n",
       "        };\n",
       "\n",
       "    this.imageObj.onunload = function() {\n",
       "        fig.ws.close();\n",
       "    }\n",
       "\n",
       "    this.ws.onmessage = this._make_on_message_function(this);\n",
       "\n",
       "    this.ondownload = ondownload;\n",
       "}\n",
       "\n",
       "mpl.figure.prototype._init_header = function() {\n",
       "    var titlebar = $(\n",
       "        '<div class=\"ui-dialog-titlebar ui-widget-header ui-corner-all ' +\n",
       "        'ui-helper-clearfix\"/>');\n",
       "    var titletext = $(\n",
       "        '<div class=\"ui-dialog-title\" style=\"width: 100%; ' +\n",
       "        'text-align: center; padding: 3px;\"/>');\n",
       "    titlebar.append(titletext)\n",
       "    this.root.append(titlebar);\n",
       "    this.header = titletext[0];\n",
       "}\n",
       "\n",
       "\n",
       "\n",
       "mpl.figure.prototype._canvas_extra_style = function(canvas_div) {\n",
       "\n",
       "}\n",
       "\n",
       "\n",
       "mpl.figure.prototype._root_extra_style = function(canvas_div) {\n",
       "\n",
       "}\n",
       "\n",
       "mpl.figure.prototype._init_canvas = function() {\n",
       "    var fig = this;\n",
       "\n",
       "    var canvas_div = $('<div/>');\n",
       "\n",
       "    canvas_div.attr('style', 'position: relative; clear: both; outline: 0');\n",
       "\n",
       "    function canvas_keyboard_event(event) {\n",
       "        return fig.key_event(event, event['data']);\n",
       "    }\n",
       "\n",
       "    canvas_div.keydown('key_press', canvas_keyboard_event);\n",
       "    canvas_div.keyup('key_release', canvas_keyboard_event);\n",
       "    this.canvas_div = canvas_div\n",
       "    this._canvas_extra_style(canvas_div)\n",
       "    this.root.append(canvas_div);\n",
       "\n",
       "    var canvas = $('<canvas/>');\n",
       "    canvas.addClass('mpl-canvas');\n",
       "    canvas.attr('style', \"left: 0; top: 0; z-index: 0; outline: 0\")\n",
       "\n",
       "    this.canvas = canvas[0];\n",
       "    this.context = canvas[0].getContext(\"2d\");\n",
       "\n",
       "    var backingStore = this.context.backingStorePixelRatio ||\n",
       "\tthis.context.webkitBackingStorePixelRatio ||\n",
       "\tthis.context.mozBackingStorePixelRatio ||\n",
       "\tthis.context.msBackingStorePixelRatio ||\n",
       "\tthis.context.oBackingStorePixelRatio ||\n",
       "\tthis.context.backingStorePixelRatio || 1;\n",
       "\n",
       "    mpl.ratio = (window.devicePixelRatio || 1) / backingStore;\n",
       "\n",
       "    var rubberband = $('<canvas/>');\n",
       "    rubberband.attr('style', \"position: absolute; left: 0; top: 0; z-index: 1;\")\n",
       "\n",
       "    var pass_mouse_events = true;\n",
       "\n",
       "    canvas_div.resizable({\n",
       "        start: function(event, ui) {\n",
       "            pass_mouse_events = false;\n",
       "        },\n",
       "        resize: function(event, ui) {\n",
       "            fig.request_resize(ui.size.width, ui.size.height);\n",
       "        },\n",
       "        stop: function(event, ui) {\n",
       "            pass_mouse_events = true;\n",
       "            fig.request_resize(ui.size.width, ui.size.height);\n",
       "        },\n",
       "    });\n",
       "\n",
       "    function mouse_event_fn(event) {\n",
       "        if (pass_mouse_events)\n",
       "            return fig.mouse_event(event, event['data']);\n",
       "    }\n",
       "\n",
       "    rubberband.mousedown('button_press', mouse_event_fn);\n",
       "    rubberband.mouseup('button_release', mouse_event_fn);\n",
       "    // Throttle sequential mouse events to 1 every 20ms.\n",
       "    rubberband.mousemove('motion_notify', mouse_event_fn);\n",
       "\n",
       "    rubberband.mouseenter('figure_enter', mouse_event_fn);\n",
       "    rubberband.mouseleave('figure_leave', mouse_event_fn);\n",
       "\n",
       "    canvas_div.on(\"wheel\", function (event) {\n",
       "        event = event.originalEvent;\n",
       "        event['data'] = 'scroll'\n",
       "        if (event.deltaY < 0) {\n",
       "            event.step = 1;\n",
       "        } else {\n",
       "            event.step = -1;\n",
       "        }\n",
       "        mouse_event_fn(event);\n",
       "    });\n",
       "\n",
       "    canvas_div.append(canvas);\n",
       "    canvas_div.append(rubberband);\n",
       "\n",
       "    this.rubberband = rubberband;\n",
       "    this.rubberband_canvas = rubberband[0];\n",
       "    this.rubberband_context = rubberband[0].getContext(\"2d\");\n",
       "    this.rubberband_context.strokeStyle = \"#000000\";\n",
       "\n",
       "    this._resize_canvas = function(width, height) {\n",
       "        // Keep the size of the canvas, canvas container, and rubber band\n",
       "        // canvas in synch.\n",
       "        canvas_div.css('width', width)\n",
       "        canvas_div.css('height', height)\n",
       "\n",
       "        canvas.attr('width', width * mpl.ratio);\n",
       "        canvas.attr('height', height * mpl.ratio);\n",
       "        canvas.attr('style', 'width: ' + width + 'px; height: ' + height + 'px;');\n",
       "\n",
       "        rubberband.attr('width', width);\n",
       "        rubberband.attr('height', height);\n",
       "    }\n",
       "\n",
       "    // Set the figure to an initial 600x600px, this will subsequently be updated\n",
       "    // upon first draw.\n",
       "    this._resize_canvas(600, 600);\n",
       "\n",
       "    // Disable right mouse context menu.\n",
       "    $(this.rubberband_canvas).bind(\"contextmenu\",function(e){\n",
       "        return false;\n",
       "    });\n",
       "\n",
       "    function set_focus () {\n",
       "        canvas.focus();\n",
       "        canvas_div.focus();\n",
       "    }\n",
       "\n",
       "    window.setTimeout(set_focus, 100);\n",
       "}\n",
       "\n",
       "mpl.figure.prototype._init_toolbar = function() {\n",
       "    var fig = this;\n",
       "\n",
       "    var nav_element = $('<div/>')\n",
       "    nav_element.attr('style', 'width: 100%');\n",
       "    this.root.append(nav_element);\n",
       "\n",
       "    // Define a callback function for later on.\n",
       "    function toolbar_event(event) {\n",
       "        return fig.toolbar_button_onclick(event['data']);\n",
       "    }\n",
       "    function toolbar_mouse_event(event) {\n",
       "        return fig.toolbar_button_onmouseover(event['data']);\n",
       "    }\n",
       "\n",
       "    for(var toolbar_ind in mpl.toolbar_items) {\n",
       "        var name = mpl.toolbar_items[toolbar_ind][0];\n",
       "        var tooltip = mpl.toolbar_items[toolbar_ind][1];\n",
       "        var image = mpl.toolbar_items[toolbar_ind][2];\n",
       "        var method_name = mpl.toolbar_items[toolbar_ind][3];\n",
       "\n",
       "        if (!name) {\n",
       "            // put a spacer in here.\n",
       "            continue;\n",
       "        }\n",
       "        var button = $('<button/>');\n",
       "        button.addClass('ui-button ui-widget ui-state-default ui-corner-all ' +\n",
       "                        'ui-button-icon-only');\n",
       "        button.attr('role', 'button');\n",
       "        button.attr('aria-disabled', 'false');\n",
       "        button.click(method_name, toolbar_event);\n",
       "        button.mouseover(tooltip, toolbar_mouse_event);\n",
       "\n",
       "        var icon_img = $('<span/>');\n",
       "        icon_img.addClass('ui-button-icon-primary ui-icon');\n",
       "        icon_img.addClass(image);\n",
       "        icon_img.addClass('ui-corner-all');\n",
       "\n",
       "        var tooltip_span = $('<span/>');\n",
       "        tooltip_span.addClass('ui-button-text');\n",
       "        tooltip_span.html(tooltip);\n",
       "\n",
       "        button.append(icon_img);\n",
       "        button.append(tooltip_span);\n",
       "\n",
       "        nav_element.append(button);\n",
       "    }\n",
       "\n",
       "    var fmt_picker_span = $('<span/>');\n",
       "\n",
       "    var fmt_picker = $('<select/>');\n",
       "    fmt_picker.addClass('mpl-toolbar-option ui-widget ui-widget-content');\n",
       "    fmt_picker_span.append(fmt_picker);\n",
       "    nav_element.append(fmt_picker_span);\n",
       "    this.format_dropdown = fmt_picker[0];\n",
       "\n",
       "    for (var ind in mpl.extensions) {\n",
       "        var fmt = mpl.extensions[ind];\n",
       "        var option = $(\n",
       "            '<option/>', {selected: fmt === mpl.default_extension}).html(fmt);\n",
       "        fmt_picker.append(option)\n",
       "    }\n",
       "\n",
       "    // Add hover states to the ui-buttons\n",
       "    $( \".ui-button\" ).hover(\n",
       "        function() { $(this).addClass(\"ui-state-hover\");},\n",
       "        function() { $(this).removeClass(\"ui-state-hover\");}\n",
       "    );\n",
       "\n",
       "    var status_bar = $('<span class=\"mpl-message\"/>');\n",
       "    nav_element.append(status_bar);\n",
       "    this.message = status_bar[0];\n",
       "}\n",
       "\n",
       "mpl.figure.prototype.request_resize = function(x_pixels, y_pixels) {\n",
       "    // Request matplotlib to resize the figure. Matplotlib will then trigger a resize in the client,\n",
       "    // which will in turn request a refresh of the image.\n",
       "    this.send_message('resize', {'width': x_pixels, 'height': y_pixels});\n",
       "}\n",
       "\n",
       "mpl.figure.prototype.send_message = function(type, properties) {\n",
       "    properties['type'] = type;\n",
       "    properties['figure_id'] = this.id;\n",
       "    this.ws.send(JSON.stringify(properties));\n",
       "}\n",
       "\n",
       "mpl.figure.prototype.send_draw_message = function() {\n",
       "    if (!this.waiting) {\n",
       "        this.waiting = true;\n",
       "        this.ws.send(JSON.stringify({type: \"draw\", figure_id: this.id}));\n",
       "    }\n",
       "}\n",
       "\n",
       "\n",
       "mpl.figure.prototype.handle_save = function(fig, msg) {\n",
       "    var format_dropdown = fig.format_dropdown;\n",
       "    var format = format_dropdown.options[format_dropdown.selectedIndex].value;\n",
       "    fig.ondownload(fig, format);\n",
       "}\n",
       "\n",
       "\n",
       "mpl.figure.prototype.handle_resize = function(fig, msg) {\n",
       "    var size = msg['size'];\n",
       "    if (size[0] != fig.canvas.width || size[1] != fig.canvas.height) {\n",
       "        fig._resize_canvas(size[0], size[1]);\n",
       "        fig.send_message(\"refresh\", {});\n",
       "    };\n",
       "}\n",
       "\n",
       "mpl.figure.prototype.handle_rubberband = function(fig, msg) {\n",
       "    var x0 = msg['x0'] / mpl.ratio;\n",
       "    var y0 = (fig.canvas.height - msg['y0']) / mpl.ratio;\n",
       "    var x1 = msg['x1'] / mpl.ratio;\n",
       "    var y1 = (fig.canvas.height - msg['y1']) / mpl.ratio;\n",
       "    x0 = Math.floor(x0) + 0.5;\n",
       "    y0 = Math.floor(y0) + 0.5;\n",
       "    x1 = Math.floor(x1) + 0.5;\n",
       "    y1 = Math.floor(y1) + 0.5;\n",
       "    var min_x = Math.min(x0, x1);\n",
       "    var min_y = Math.min(y0, y1);\n",
       "    var width = Math.abs(x1 - x0);\n",
       "    var height = Math.abs(y1 - y0);\n",
       "\n",
       "    fig.rubberband_context.clearRect(\n",
       "        0, 0, fig.canvas.width, fig.canvas.height);\n",
       "\n",
       "    fig.rubberband_context.strokeRect(min_x, min_y, width, height);\n",
       "}\n",
       "\n",
       "mpl.figure.prototype.handle_figure_label = function(fig, msg) {\n",
       "    // Updates the figure title.\n",
       "    fig.header.textContent = msg['label'];\n",
       "}\n",
       "\n",
       "mpl.figure.prototype.handle_cursor = function(fig, msg) {\n",
       "    var cursor = msg['cursor'];\n",
       "    switch(cursor)\n",
       "    {\n",
       "    case 0:\n",
       "        cursor = 'pointer';\n",
       "        break;\n",
       "    case 1:\n",
       "        cursor = 'default';\n",
       "        break;\n",
       "    case 2:\n",
       "        cursor = 'crosshair';\n",
       "        break;\n",
       "    case 3:\n",
       "        cursor = 'move';\n",
       "        break;\n",
       "    }\n",
       "    fig.rubberband_canvas.style.cursor = cursor;\n",
       "}\n",
       "\n",
       "mpl.figure.prototype.handle_message = function(fig, msg) {\n",
       "    fig.message.textContent = msg['message'];\n",
       "}\n",
       "\n",
       "mpl.figure.prototype.handle_draw = function(fig, msg) {\n",
       "    // Request the server to send over a new figure.\n",
       "    fig.send_draw_message();\n",
       "}\n",
       "\n",
       "mpl.figure.prototype.handle_image_mode = function(fig, msg) {\n",
       "    fig.image_mode = msg['mode'];\n",
       "}\n",
       "\n",
       "mpl.figure.prototype.updated_canvas_event = function() {\n",
       "    // Called whenever the canvas gets updated.\n",
       "    this.send_message(\"ack\", {});\n",
       "}\n",
       "\n",
       "// A function to construct a web socket function for onmessage handling.\n",
       "// Called in the figure constructor.\n",
       "mpl.figure.prototype._make_on_message_function = function(fig) {\n",
       "    return function socket_on_message(evt) {\n",
       "        if (evt.data instanceof Blob) {\n",
       "            /* FIXME: We get \"Resource interpreted as Image but\n",
       "             * transferred with MIME type text/plain:\" errors on\n",
       "             * Chrome.  But how to set the MIME type?  It doesn't seem\n",
       "             * to be part of the websocket stream */\n",
       "            evt.data.type = \"image/png\";\n",
       "\n",
       "            /* Free the memory for the previous frames */\n",
       "            if (fig.imageObj.src) {\n",
       "                (window.URL || window.webkitURL).revokeObjectURL(\n",
       "                    fig.imageObj.src);\n",
       "            }\n",
       "\n",
       "            fig.imageObj.src = (window.URL || window.webkitURL).createObjectURL(\n",
       "                evt.data);\n",
       "            fig.updated_canvas_event();\n",
       "            fig.waiting = false;\n",
       "            return;\n",
       "        }\n",
       "        else if (typeof evt.data === 'string' && evt.data.slice(0, 21) == \"data:image/png;base64\") {\n",
       "            fig.imageObj.src = evt.data;\n",
       "            fig.updated_canvas_event();\n",
       "            fig.waiting = false;\n",
       "            return;\n",
       "        }\n",
       "\n",
       "        var msg = JSON.parse(evt.data);\n",
       "        var msg_type = msg['type'];\n",
       "\n",
       "        // Call the  \"handle_{type}\" callback, which takes\n",
       "        // the figure and JSON message as its only arguments.\n",
       "        try {\n",
       "            var callback = fig[\"handle_\" + msg_type];\n",
       "        } catch (e) {\n",
       "            console.log(\"No handler for the '\" + msg_type + \"' message type: \", msg);\n",
       "            return;\n",
       "        }\n",
       "\n",
       "        if (callback) {\n",
       "            try {\n",
       "                // console.log(\"Handling '\" + msg_type + \"' message: \", msg);\n",
       "                callback(fig, msg);\n",
       "            } catch (e) {\n",
       "                console.log(\"Exception inside the 'handler_\" + msg_type + \"' callback:\", e, e.stack, msg);\n",
       "            }\n",
       "        }\n",
       "    };\n",
       "}\n",
       "\n",
       "// from http://stackoverflow.com/questions/1114465/getting-mouse-location-in-canvas\n",
       "mpl.findpos = function(e) {\n",
       "    //this section is from http://www.quirksmode.org/js/events_properties.html\n",
       "    var targ;\n",
       "    if (!e)\n",
       "        e = window.event;\n",
       "    if (e.target)\n",
       "        targ = e.target;\n",
       "    else if (e.srcElement)\n",
       "        targ = e.srcElement;\n",
       "    if (targ.nodeType == 3) // defeat Safari bug\n",
       "        targ = targ.parentNode;\n",
       "\n",
       "    // jQuery normalizes the pageX and pageY\n",
       "    // pageX,Y are the mouse positions relative to the document\n",
       "    // offset() returns the position of the element relative to the document\n",
       "    var x = e.pageX - $(targ).offset().left;\n",
       "    var y = e.pageY - $(targ).offset().top;\n",
       "\n",
       "    return {\"x\": x, \"y\": y};\n",
       "};\n",
       "\n",
       "/*\n",
       " * return a copy of an object with only non-object keys\n",
       " * we need this to avoid circular references\n",
       " * http://stackoverflow.com/a/24161582/3208463\n",
       " */\n",
       "function simpleKeys (original) {\n",
       "  return Object.keys(original).reduce(function (obj, key) {\n",
       "    if (typeof original[key] !== 'object')\n",
       "        obj[key] = original[key]\n",
       "    return obj;\n",
       "  }, {});\n",
       "}\n",
       "\n",
       "mpl.figure.prototype.mouse_event = function(event, name) {\n",
       "    var canvas_pos = mpl.findpos(event)\n",
       "\n",
       "    if (name === 'button_press')\n",
       "    {\n",
       "        this.canvas.focus();\n",
       "        this.canvas_div.focus();\n",
       "    }\n",
       "\n",
       "    var x = canvas_pos.x * mpl.ratio;\n",
       "    var y = canvas_pos.y * mpl.ratio;\n",
       "\n",
       "    this.send_message(name, {x: x, y: y, button: event.button,\n",
       "                             step: event.step,\n",
       "                             guiEvent: simpleKeys(event)});\n",
       "\n",
       "    /* This prevents the web browser from automatically changing to\n",
       "     * the text insertion cursor when the button is pressed.  We want\n",
       "     * to control all of the cursor setting manually through the\n",
       "     * 'cursor' event from matplotlib */\n",
       "    event.preventDefault();\n",
       "    return false;\n",
       "}\n",
       "\n",
       "mpl.figure.prototype._key_event_extra = function(event, name) {\n",
       "    // Handle any extra behaviour associated with a key event\n",
       "}\n",
       "\n",
       "mpl.figure.prototype.key_event = function(event, name) {\n",
       "\n",
       "    // Prevent repeat events\n",
       "    if (name == 'key_press')\n",
       "    {\n",
       "        if (event.which === this._key)\n",
       "            return;\n",
       "        else\n",
       "            this._key = event.which;\n",
       "    }\n",
       "    if (name == 'key_release')\n",
       "        this._key = null;\n",
       "\n",
       "    var value = '';\n",
       "    if (event.ctrlKey && event.which != 17)\n",
       "        value += \"ctrl+\";\n",
       "    if (event.altKey && event.which != 18)\n",
       "        value += \"alt+\";\n",
       "    if (event.shiftKey && event.which != 16)\n",
       "        value += \"shift+\";\n",
       "\n",
       "    value += 'k';\n",
       "    value += event.which.toString();\n",
       "\n",
       "    this._key_event_extra(event, name);\n",
       "\n",
       "    this.send_message(name, {key: value,\n",
       "                             guiEvent: simpleKeys(event)});\n",
       "    return false;\n",
       "}\n",
       "\n",
       "mpl.figure.prototype.toolbar_button_onclick = function(name) {\n",
       "    if (name == 'download') {\n",
       "        this.handle_save(this, null);\n",
       "    } else {\n",
       "        this.send_message(\"toolbar_button\", {name: name});\n",
       "    }\n",
       "};\n",
       "\n",
       "mpl.figure.prototype.toolbar_button_onmouseover = function(tooltip) {\n",
       "    this.message.textContent = tooltip;\n",
       "};\n",
       "mpl.toolbar_items = [[\"Home\", \"Reset original view\", \"fa fa-home icon-home\", \"home\"], [\"Back\", \"Back to  previous view\", \"fa fa-arrow-left icon-arrow-left\", \"back\"], [\"Forward\", \"Forward to next view\", \"fa fa-arrow-right icon-arrow-right\", \"forward\"], [\"\", \"\", \"\", \"\"], [\"Pan\", \"Pan axes with left mouse, zoom with right\", \"fa fa-arrows icon-move\", \"pan\"], [\"Zoom\", \"Zoom to rectangle\", \"fa fa-square-o icon-check-empty\", \"zoom\"], [\"\", \"\", \"\", \"\"], [\"Download\", \"Download plot\", \"fa fa-floppy-o icon-save\", \"download\"]];\n",
       "\n",
       "mpl.extensions = [\"eps\", \"jpeg\", \"pdf\", \"png\", \"ps\", \"raw\", \"svg\", \"tif\"];\n",
       "\n",
       "mpl.default_extension = \"png\";var comm_websocket_adapter = function(comm) {\n",
       "    // Create a \"websocket\"-like object which calls the given IPython comm\n",
       "    // object with the appropriate methods. Currently this is a non binary\n",
       "    // socket, so there is still some room for performance tuning.\n",
       "    var ws = {};\n",
       "\n",
       "    ws.close = function() {\n",
       "        comm.close()\n",
       "    };\n",
       "    ws.send = function(m) {\n",
       "        //console.log('sending', m);\n",
       "        comm.send(m);\n",
       "    };\n",
       "    // Register the callback with on_msg.\n",
       "    comm.on_msg(function(msg) {\n",
       "        //console.log('receiving', msg['content']['data'], msg);\n",
       "        // Pass the mpl event to the overriden (by mpl) onmessage function.\n",
       "        ws.onmessage(msg['content']['data'])\n",
       "    });\n",
       "    return ws;\n",
       "}\n",
       "\n",
       "mpl.mpl_figure_comm = function(comm, msg) {\n",
       "    // This is the function which gets called when the mpl process\n",
       "    // starts-up an IPython Comm through the \"matplotlib\" channel.\n",
       "\n",
       "    var id = msg.content.data.id;\n",
       "    // Get hold of the div created by the display call when the Comm\n",
       "    // socket was opened in Python.\n",
       "    var element = $(\"#\" + id);\n",
       "    var ws_proxy = comm_websocket_adapter(comm)\n",
       "\n",
       "    function ondownload(figure, format) {\n",
       "        window.open(figure.imageObj.src);\n",
       "    }\n",
       "\n",
       "    var fig = new mpl.figure(id, ws_proxy,\n",
       "                           ondownload,\n",
       "                           element.get(0));\n",
       "\n",
       "    // Call onopen now - mpl needs it, as it is assuming we've passed it a real\n",
       "    // web socket which is closed, not our websocket->open comm proxy.\n",
       "    ws_proxy.onopen();\n",
       "\n",
       "    fig.parent_element = element.get(0);\n",
       "    fig.cell_info = mpl.find_output_cell(\"<div id='\" + id + \"'></div>\");\n",
       "    if (!fig.cell_info) {\n",
       "        console.error(\"Failed to find cell for figure\", id, fig);\n",
       "        return;\n",
       "    }\n",
       "\n",
       "    var output_index = fig.cell_info[2]\n",
       "    var cell = fig.cell_info[0];\n",
       "\n",
       "};\n",
       "\n",
       "mpl.figure.prototype.handle_close = function(fig, msg) {\n",
       "    var width = fig.canvas.width/mpl.ratio\n",
       "    fig.root.unbind('remove')\n",
       "\n",
       "    // Update the output cell to use the data from the current canvas.\n",
       "    fig.push_to_output();\n",
       "    var dataURL = fig.canvas.toDataURL();\n",
       "    // Re-enable the keyboard manager in IPython - without this line, in FF,\n",
       "    // the notebook keyboard shortcuts fail.\n",
       "    IPython.keyboard_manager.enable()\n",
       "    $(fig.parent_element).html('<img src=\"' + dataURL + '\" width=\"' + width + '\">');\n",
       "    fig.close_ws(fig, msg);\n",
       "}\n",
       "\n",
       "mpl.figure.prototype.close_ws = function(fig, msg){\n",
       "    fig.send_message('closing', msg);\n",
       "    // fig.ws.close()\n",
       "}\n",
       "\n",
       "mpl.figure.prototype.push_to_output = function(remove_interactive) {\n",
       "    // Turn the data on the canvas into data in the output cell.\n",
       "    var width = this.canvas.width/mpl.ratio\n",
       "    var dataURL = this.canvas.toDataURL();\n",
       "    this.cell_info[1]['text/html'] = '<img src=\"' + dataURL + '\" width=\"' + width + '\">';\n",
       "}\n",
       "\n",
       "mpl.figure.prototype.updated_canvas_event = function() {\n",
       "    // Tell IPython that the notebook contents must change.\n",
       "    IPython.notebook.set_dirty(true);\n",
       "    this.send_message(\"ack\", {});\n",
       "    var fig = this;\n",
       "    // Wait a second, then push the new image to the DOM so\n",
       "    // that it is saved nicely (might be nice to debounce this).\n",
       "    setTimeout(function () { fig.push_to_output() }, 1000);\n",
       "}\n",
       "\n",
       "mpl.figure.prototype._init_toolbar = function() {\n",
       "    var fig = this;\n",
       "\n",
       "    var nav_element = $('<div/>')\n",
       "    nav_element.attr('style', 'width: 100%');\n",
       "    this.root.append(nav_element);\n",
       "\n",
       "    // Define a callback function for later on.\n",
       "    function toolbar_event(event) {\n",
       "        return fig.toolbar_button_onclick(event['data']);\n",
       "    }\n",
       "    function toolbar_mouse_event(event) {\n",
       "        return fig.toolbar_button_onmouseover(event['data']);\n",
       "    }\n",
       "\n",
       "    for(var toolbar_ind in mpl.toolbar_items){\n",
       "        var name = mpl.toolbar_items[toolbar_ind][0];\n",
       "        var tooltip = mpl.toolbar_items[toolbar_ind][1];\n",
       "        var image = mpl.toolbar_items[toolbar_ind][2];\n",
       "        var method_name = mpl.toolbar_items[toolbar_ind][3];\n",
       "\n",
       "        if (!name) { continue; };\n",
       "\n",
       "        var button = $('<button class=\"btn btn-default\" href=\"#\" title=\"' + name + '\"><i class=\"fa ' + image + ' fa-lg\"></i></button>');\n",
       "        button.click(method_name, toolbar_event);\n",
       "        button.mouseover(tooltip, toolbar_mouse_event);\n",
       "        nav_element.append(button);\n",
       "    }\n",
       "\n",
       "    // Add the status bar.\n",
       "    var status_bar = $('<span class=\"mpl-message\" style=\"text-align:right; float: right;\"/>');\n",
       "    nav_element.append(status_bar);\n",
       "    this.message = status_bar[0];\n",
       "\n",
       "    // Add the close button to the window.\n",
       "    var buttongrp = $('<div class=\"btn-group inline pull-right\"></div>');\n",
       "    var button = $('<button class=\"btn btn-mini btn-primary\" href=\"#\" title=\"Stop Interaction\"><i class=\"fa fa-power-off icon-remove icon-large\"></i></button>');\n",
       "    button.click(function (evt) { fig.handle_close(fig, {}); } );\n",
       "    button.mouseover('Stop Interaction', toolbar_mouse_event);\n",
       "    buttongrp.append(button);\n",
       "    var titlebar = this.root.find($('.ui-dialog-titlebar'));\n",
       "    titlebar.prepend(buttongrp);\n",
       "}\n",
       "\n",
       "mpl.figure.prototype._root_extra_style = function(el){\n",
       "    var fig = this\n",
       "    el.on(\"remove\", function(){\n",
       "\tfig.close_ws(fig, {});\n",
       "    });\n",
       "}\n",
       "\n",
       "mpl.figure.prototype._canvas_extra_style = function(el){\n",
       "    // this is important to make the div 'focusable\n",
       "    el.attr('tabindex', 0)\n",
       "    // reach out to IPython and tell the keyboard manager to turn it's self\n",
       "    // off when our div gets focus\n",
       "\n",
       "    // location in version 3\n",
       "    if (IPython.notebook.keyboard_manager) {\n",
       "        IPython.notebook.keyboard_manager.register_events(el);\n",
       "    }\n",
       "    else {\n",
       "        // location in version 2\n",
       "        IPython.keyboard_manager.register_events(el);\n",
       "    }\n",
       "\n",
       "}\n",
       "\n",
       "mpl.figure.prototype._key_event_extra = function(event, name) {\n",
       "    var manager = IPython.notebook.keyboard_manager;\n",
       "    if (!manager)\n",
       "        manager = IPython.keyboard_manager;\n",
       "\n",
       "    // Check for shift+enter\n",
       "    if (event.shiftKey && event.which == 13) {\n",
       "        this.canvas_div.blur();\n",
       "        event.shiftKey = false;\n",
       "        // Send a \"J\" for go to next cell\n",
       "        event.which = 74;\n",
       "        event.keyCode = 74;\n",
       "        manager.command_mode();\n",
       "        manager.handle_keydown(event);\n",
       "    }\n",
       "}\n",
       "\n",
       "mpl.figure.prototype.handle_save = function(fig, msg) {\n",
       "    fig.ondownload(fig, null);\n",
       "}\n",
       "\n",
       "\n",
       "mpl.find_output_cell = function(html_output) {\n",
       "    // Return the cell and output element which can be found *uniquely* in the notebook.\n",
       "    // Note - this is a bit hacky, but it is done because the \"notebook_saving.Notebook\"\n",
       "    // IPython event is triggered only after the cells have been serialised, which for\n",
       "    // our purposes (turning an active figure into a static one), is too late.\n",
       "    var cells = IPython.notebook.get_cells();\n",
       "    var ncells = cells.length;\n",
       "    for (var i=0; i<ncells; i++) {\n",
       "        var cell = cells[i];\n",
       "        if (cell.cell_type === 'code'){\n",
       "            for (var j=0; j<cell.output_area.outputs.length; j++) {\n",
       "                var data = cell.output_area.outputs[j];\n",
       "                if (data.data) {\n",
       "                    // IPython >= 3 moved mimebundle to data attribute of output\n",
       "                    data = data.data;\n",
       "                }\n",
       "                if (data['text/html'] == html_output) {\n",
       "                    return [cell, data, j];\n",
       "                }\n",
       "            }\n",
       "        }\n",
       "    }\n",
       "}\n",
       "\n",
       "// Register the function which deals with the matplotlib target/channel.\n",
       "// The kernel may be null if the page has been refreshed.\n",
       "if (IPython.notebook.kernel != null) {\n",
       "    IPython.notebook.kernel.comm_manager.register_target('matplotlib', mpl.mpl_figure_comm);\n",
       "}\n"
      ],
      "text/plain": [
       "<IPython.core.display.Javascript object>"
      ]
     },
     "metadata": {},
     "output_type": "display_data"
    },
    {
     "data": {
      "text/html": [
       "<img src=\"data:image/png;base64,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\" width=\"285.5\">"
      ],
      "text/plain": [
       "<IPython.core.display.HTML object>"
      ]
     },
     "metadata": {},
     "output_type": "display_data"
    }
   ],
   "source": [
    "% matplotlib notebook\n",
    "\n",
    "from Play import Play\n",
    "\n",
    "\n",
    "gameplay=Play(ConnectN(**game_setting), \n",
    "              player1=None, \n",
    "              player2=None)\n"
   ]
  },
  {
   "cell_type": "markdown",
   "metadata": {},
   "source": [
    "# Define our policy\n",
    "\n",
    "Please go ahead and define your own policy! See if you can train it under 1000 games and with only 1000 steps of exploration in each move."
   ]
  },
  {
   "cell_type": "code",
   "execution_count": 3,
   "metadata": {},
   "outputs": [],
   "source": [
    "import torch\n",
    "import torch.nn as nn\n",
    "import torch.nn.functional as F\n",
    "from math import *\n",
    "import numpy as np\n",
    "\n",
    "from ConnectN import ConnectN\n",
    "game_setting = {'size':(6,6), 'N':4}\n",
    "game = ConnectN(**game_setting)\n",
    "\n",
    "class Policy(nn.Module):\n",
    "\n",
    "    def __init__(self, game):\n",
    "        super(Policy, self).__init__()\n",
    "\n",
    "        # input = 6x6 board\n",
    "        # convert to 5x5x8\n",
    "        self.conv1 = nn.Conv2d(1, 16, kernel_size=2, stride=1, bias=False)\n",
    "        # 5x5x16 to 3x3x32\n",
    "        self.conv2 = nn.Conv2d(16, 32, kernel_size=3, stride=1, bias=False)\n",
    "\n",
    "        self.size=3*3*32\n",
    "        \n",
    "        # the part for actions\n",
    "        self.fc_action1 = nn.Linear(self.size, self.size//4)\n",
    "        self.fc_action2 = nn.Linear(self.size//4, 36)\n",
    "        \n",
    "        # the part for the value function\n",
    "        self.fc_value1 = nn.Linear(self.size, self.size//6)\n",
    "        self.fc_value2 = nn.Linear(self.size//6, 1)\n",
    "        self.tanh_value = nn.Tanh()\n",
    "        \n",
    "    def forward(self, x):\n",
    "\n",
    "        y = F.leaky_relu(self.conv1(x))\n",
    "        y = F.leaky_relu(self.conv2(y))\n",
    "        y = y.view(-1, self.size)\n",
    "        \n",
    "        # action head\n",
    "        a = self.fc_action2(F.leaky_relu(self.fc_action1(y)))\n",
    "        \n",
    "        avail = (torch.abs(x.squeeze())!=1).type(torch.FloatTensor)\n",
    "        avail = avail.view(-1, 36)\n",
    "        maxa = torch.max(a)\n",
    "        exp = avail*torch.exp(a-maxa)\n",
    "        prob = exp/torch.sum(exp)\n",
    "        \n",
    "        # value head\n",
    "        value = self.tanh_value(self.fc_value2(F.leaky_relu( self.fc_value1(y) )))\n",
    "        return prob.view(6,6), value\n",
    "\n",
    "policy = Policy(game)\n"
   ]
  },
  {
   "cell_type": "markdown",
   "metadata": {},
   "source": [
    "# Define a MCTS player for Play"
   ]
  },
  {
   "cell_type": "code",
   "execution_count": 4,
   "metadata": {},
   "outputs": [],
   "source": [
    "import MCTS\n",
    "\n",
    "from copy import copy\n",
    "\n",
    "def Policy_Player_MCTS(game):\n",
    "    mytree = MCTS.Node(copy(game))\n",
    "    for _ in range(1000):\n",
    "        mytree.explore(policy)\n",
    "       \n",
    "    mytreenext, (v, nn_v, p, nn_p) = mytree.next(temperature=0.1)\n",
    "    \n",
    "    return mytreenext.game.last_move\n",
    "\n",
    "import random\n",
    "\n",
    "def Random_Player(game):\n",
    "    return random.choice(game.available_moves())    \n"
   ]
  },
  {
   "cell_type": "markdown",
   "metadata": {},
   "source": [
    "# Play a game against a random policy"
   ]
  },
  {
   "cell_type": "code",
   "execution_count": 6,
   "metadata": {},
   "outputs": [
    {
     "data": {
      "application/javascript": [
       "/* Put everything inside the global mpl namespace */\n",
       "window.mpl = {};\n",
       "\n",
       "\n",
       "mpl.get_websocket_type = function() {\n",
       "    if (typeof(WebSocket) !== 'undefined') {\n",
       "        return WebSocket;\n",
       "    } else if (typeof(MozWebSocket) !== 'undefined') {\n",
       "        return MozWebSocket;\n",
       "    } else {\n",
       "        alert('Your browser does not have WebSocket support.' +\n",
       "              'Please try Chrome, Safari or Firefox ≥ 6. ' +\n",
       "              'Firefox 4 and 5 are also supported but you ' +\n",
       "              'have to enable WebSockets in about:config.');\n",
       "    };\n",
       "}\n",
       "\n",
       "mpl.figure = function(figure_id, websocket, ondownload, parent_element) {\n",
       "    this.id = figure_id;\n",
       "\n",
       "    this.ws = websocket;\n",
       "\n",
       "    this.supports_binary = (this.ws.binaryType != undefined);\n",
       "\n",
       "    if (!this.supports_binary) {\n",
       "        var warnings = document.getElementById(\"mpl-warnings\");\n",
       "        if (warnings) {\n",
       "            warnings.style.display = 'block';\n",
       "            warnings.textContent = (\n",
       "                \"This browser does not support binary websocket messages. \" +\n",
       "                    \"Performance may be slow.\");\n",
       "        }\n",
       "    }\n",
       "\n",
       "    this.imageObj = new Image();\n",
       "\n",
       "    this.context = undefined;\n",
       "    this.message = undefined;\n",
       "    this.canvas = undefined;\n",
       "    this.rubberband_canvas = undefined;\n",
       "    this.rubberband_context = undefined;\n",
       "    this.format_dropdown = undefined;\n",
       "\n",
       "    this.image_mode = 'full';\n",
       "\n",
       "    this.root = $('<div/>');\n",
       "    this._root_extra_style(this.root)\n",
       "    this.root.attr('style', 'display: inline-block');\n",
       "\n",
       "    $(parent_element).append(this.root);\n",
       "\n",
       "    this._init_header(this);\n",
       "    this._init_canvas(this);\n",
       "    this._init_toolbar(this);\n",
       "\n",
       "    var fig = this;\n",
       "\n",
       "    this.waiting = false;\n",
       "\n",
       "    this.ws.onopen =  function () {\n",
       "            fig.send_message(\"supports_binary\", {value: fig.supports_binary});\n",
       "            fig.send_message(\"send_image_mode\", {});\n",
       "            if (mpl.ratio != 1) {\n",
       "                fig.send_message(\"set_dpi_ratio\", {'dpi_ratio': mpl.ratio});\n",
       "            }\n",
       "            fig.send_message(\"refresh\", {});\n",
       "        }\n",
       "\n",
       "    this.imageObj.onload = function() {\n",
       "            if (fig.image_mode == 'full') {\n",
       "                // Full images could contain transparency (where diff images\n",
       "                // almost always do), so we need to clear the canvas so that\n",
       "                // there is no ghosting.\n",
       "                fig.context.clearRect(0, 0, fig.canvas.width, fig.canvas.height);\n",
       "            }\n",
       "            fig.context.drawImage(fig.imageObj, 0, 0);\n",
       "        };\n",
       "\n",
       "    this.imageObj.onunload = function() {\n",
       "        fig.ws.close();\n",
       "    }\n",
       "\n",
       "    this.ws.onmessage = this._make_on_message_function(this);\n",
       "\n",
       "    this.ondownload = ondownload;\n",
       "}\n",
       "\n",
       "mpl.figure.prototype._init_header = function() {\n",
       "    var titlebar = $(\n",
       "        '<div class=\"ui-dialog-titlebar ui-widget-header ui-corner-all ' +\n",
       "        'ui-helper-clearfix\"/>');\n",
       "    var titletext = $(\n",
       "        '<div class=\"ui-dialog-title\" style=\"width: 100%; ' +\n",
       "        'text-align: center; padding: 3px;\"/>');\n",
       "    titlebar.append(titletext)\n",
       "    this.root.append(titlebar);\n",
       "    this.header = titletext[0];\n",
       "}\n",
       "\n",
       "\n",
       "\n",
       "mpl.figure.prototype._canvas_extra_style = function(canvas_div) {\n",
       "\n",
       "}\n",
       "\n",
       "\n",
       "mpl.figure.prototype._root_extra_style = function(canvas_div) {\n",
       "\n",
       "}\n",
       "\n",
       "mpl.figure.prototype._init_canvas = function() {\n",
       "    var fig = this;\n",
       "\n",
       "    var canvas_div = $('<div/>');\n",
       "\n",
       "    canvas_div.attr('style', 'position: relative; clear: both; outline: 0');\n",
       "\n",
       "    function canvas_keyboard_event(event) {\n",
       "        return fig.key_event(event, event['data']);\n",
       "    }\n",
       "\n",
       "    canvas_div.keydown('key_press', canvas_keyboard_event);\n",
       "    canvas_div.keyup('key_release', canvas_keyboard_event);\n",
       "    this.canvas_div = canvas_div\n",
       "    this._canvas_extra_style(canvas_div)\n",
       "    this.root.append(canvas_div);\n",
       "\n",
       "    var canvas = $('<canvas/>');\n",
       "    canvas.addClass('mpl-canvas');\n",
       "    canvas.attr('style', \"left: 0; top: 0; z-index: 0; outline: 0\")\n",
       "\n",
       "    this.canvas = canvas[0];\n",
       "    this.context = canvas[0].getContext(\"2d\");\n",
       "\n",
       "    var backingStore = this.context.backingStorePixelRatio ||\n",
       "\tthis.context.webkitBackingStorePixelRatio ||\n",
       "\tthis.context.mozBackingStorePixelRatio ||\n",
       "\tthis.context.msBackingStorePixelRatio ||\n",
       "\tthis.context.oBackingStorePixelRatio ||\n",
       "\tthis.context.backingStorePixelRatio || 1;\n",
       "\n",
       "    mpl.ratio = (window.devicePixelRatio || 1) / backingStore;\n",
       "\n",
       "    var rubberband = $('<canvas/>');\n",
       "    rubberband.attr('style', \"position: absolute; left: 0; top: 0; z-index: 1;\")\n",
       "\n",
       "    var pass_mouse_events = true;\n",
       "\n",
       "    canvas_div.resizable({\n",
       "        start: function(event, ui) {\n",
       "            pass_mouse_events = false;\n",
       "        },\n",
       "        resize: function(event, ui) {\n",
       "            fig.request_resize(ui.size.width, ui.size.height);\n",
       "        },\n",
       "        stop: function(event, ui) {\n",
       "            pass_mouse_events = true;\n",
       "            fig.request_resize(ui.size.width, ui.size.height);\n",
       "        },\n",
       "    });\n",
       "\n",
       "    function mouse_event_fn(event) {\n",
       "        if (pass_mouse_events)\n",
       "            return fig.mouse_event(event, event['data']);\n",
       "    }\n",
       "\n",
       "    rubberband.mousedown('button_press', mouse_event_fn);\n",
       "    rubberband.mouseup('button_release', mouse_event_fn);\n",
       "    // Throttle sequential mouse events to 1 every 20ms.\n",
       "    rubberband.mousemove('motion_notify', mouse_event_fn);\n",
       "\n",
       "    rubberband.mouseenter('figure_enter', mouse_event_fn);\n",
       "    rubberband.mouseleave('figure_leave', mouse_event_fn);\n",
       "\n",
       "    canvas_div.on(\"wheel\", function (event) {\n",
       "        event = event.originalEvent;\n",
       "        event['data'] = 'scroll'\n",
       "        if (event.deltaY < 0) {\n",
       "            event.step = 1;\n",
       "        } else {\n",
       "            event.step = -1;\n",
       "        }\n",
       "        mouse_event_fn(event);\n",
       "    });\n",
       "\n",
       "    canvas_div.append(canvas);\n",
       "    canvas_div.append(rubberband);\n",
       "\n",
       "    this.rubberband = rubberband;\n",
       "    this.rubberband_canvas = rubberband[0];\n",
       "    this.rubberband_context = rubberband[0].getContext(\"2d\");\n",
       "    this.rubberband_context.strokeStyle = \"#000000\";\n",
       "\n",
       "    this._resize_canvas = function(width, height) {\n",
       "        // Keep the size of the canvas, canvas container, and rubber band\n",
       "        // canvas in synch.\n",
       "        canvas_div.css('width', width)\n",
       "        canvas_div.css('height', height)\n",
       "\n",
       "        canvas.attr('width', width * mpl.ratio);\n",
       "        canvas.attr('height', height * mpl.ratio);\n",
       "        canvas.attr('style', 'width: ' + width + 'px; height: ' + height + 'px;');\n",
       "\n",
       "        rubberband.attr('width', width);\n",
       "        rubberband.attr('height', height);\n",
       "    }\n",
       "\n",
       "    // Set the figure to an initial 600x600px, this will subsequently be updated\n",
       "    // upon first draw.\n",
       "    this._resize_canvas(600, 600);\n",
       "\n",
       "    // Disable right mouse context menu.\n",
       "    $(this.rubberband_canvas).bind(\"contextmenu\",function(e){\n",
       "        return false;\n",
       "    });\n",
       "\n",
       "    function set_focus () {\n",
       "        canvas.focus();\n",
       "        canvas_div.focus();\n",
       "    }\n",
       "\n",
       "    window.setTimeout(set_focus, 100);\n",
       "}\n",
       "\n",
       "mpl.figure.prototype._init_toolbar = function() {\n",
       "    var fig = this;\n",
       "\n",
       "    var nav_element = $('<div/>')\n",
       "    nav_element.attr('style', 'width: 100%');\n",
       "    this.root.append(nav_element);\n",
       "\n",
       "    // Define a callback function for later on.\n",
       "    function toolbar_event(event) {\n",
       "        return fig.toolbar_button_onclick(event['data']);\n",
       "    }\n",
       "    function toolbar_mouse_event(event) {\n",
       "        return fig.toolbar_button_onmouseover(event['data']);\n",
       "    }\n",
       "\n",
       "    for(var toolbar_ind in mpl.toolbar_items) {\n",
       "        var name = mpl.toolbar_items[toolbar_ind][0];\n",
       "        var tooltip = mpl.toolbar_items[toolbar_ind][1];\n",
       "        var image = mpl.toolbar_items[toolbar_ind][2];\n",
       "        var method_name = mpl.toolbar_items[toolbar_ind][3];\n",
       "\n",
       "        if (!name) {\n",
       "            // put a spacer in here.\n",
       "            continue;\n",
       "        }\n",
       "        var button = $('<button/>');\n",
       "        button.addClass('ui-button ui-widget ui-state-default ui-corner-all ' +\n",
       "                        'ui-button-icon-only');\n",
       "        button.attr('role', 'button');\n",
       "        button.attr('aria-disabled', 'false');\n",
       "        button.click(method_name, toolbar_event);\n",
       "        button.mouseover(tooltip, toolbar_mouse_event);\n",
       "\n",
       "        var icon_img = $('<span/>');\n",
       "        icon_img.addClass('ui-button-icon-primary ui-icon');\n",
       "        icon_img.addClass(image);\n",
       "        icon_img.addClass('ui-corner-all');\n",
       "\n",
       "        var tooltip_span = $('<span/>');\n",
       "        tooltip_span.addClass('ui-button-text');\n",
       "        tooltip_span.html(tooltip);\n",
       "\n",
       "        button.append(icon_img);\n",
       "        button.append(tooltip_span);\n",
       "\n",
       "        nav_element.append(button);\n",
       "    }\n",
       "\n",
       "    var fmt_picker_span = $('<span/>');\n",
       "\n",
       "    var fmt_picker = $('<select/>');\n",
       "    fmt_picker.addClass('mpl-toolbar-option ui-widget ui-widget-content');\n",
       "    fmt_picker_span.append(fmt_picker);\n",
       "    nav_element.append(fmt_picker_span);\n",
       "    this.format_dropdown = fmt_picker[0];\n",
       "\n",
       "    for (var ind in mpl.extensions) {\n",
       "        var fmt = mpl.extensions[ind];\n",
       "        var option = $(\n",
       "            '<option/>', {selected: fmt === mpl.default_extension}).html(fmt);\n",
       "        fmt_picker.append(option)\n",
       "    }\n",
       "\n",
       "    // Add hover states to the ui-buttons\n",
       "    $( \".ui-button\" ).hover(\n",
       "        function() { $(this).addClass(\"ui-state-hover\");},\n",
       "        function() { $(this).removeClass(\"ui-state-hover\");}\n",
       "    );\n",
       "\n",
       "    var status_bar = $('<span class=\"mpl-message\"/>');\n",
       "    nav_element.append(status_bar);\n",
       "    this.message = status_bar[0];\n",
       "}\n",
       "\n",
       "mpl.figure.prototype.request_resize = function(x_pixels, y_pixels) {\n",
       "    // Request matplotlib to resize the figure. Matplotlib will then trigger a resize in the client,\n",
       "    // which will in turn request a refresh of the image.\n",
       "    this.send_message('resize', {'width': x_pixels, 'height': y_pixels});\n",
       "}\n",
       "\n",
       "mpl.figure.prototype.send_message = function(type, properties) {\n",
       "    properties['type'] = type;\n",
       "    properties['figure_id'] = this.id;\n",
       "    this.ws.send(JSON.stringify(properties));\n",
       "}\n",
       "\n",
       "mpl.figure.prototype.send_draw_message = function() {\n",
       "    if (!this.waiting) {\n",
       "        this.waiting = true;\n",
       "        this.ws.send(JSON.stringify({type: \"draw\", figure_id: this.id}));\n",
       "    }\n",
       "}\n",
       "\n",
       "\n",
       "mpl.figure.prototype.handle_save = function(fig, msg) {\n",
       "    var format_dropdown = fig.format_dropdown;\n",
       "    var format = format_dropdown.options[format_dropdown.selectedIndex].value;\n",
       "    fig.ondownload(fig, format);\n",
       "}\n",
       "\n",
       "\n",
       "mpl.figure.prototype.handle_resize = function(fig, msg) {\n",
       "    var size = msg['size'];\n",
       "    if (size[0] != fig.canvas.width || size[1] != fig.canvas.height) {\n",
       "        fig._resize_canvas(size[0], size[1]);\n",
       "        fig.send_message(\"refresh\", {});\n",
       "    };\n",
       "}\n",
       "\n",
       "mpl.figure.prototype.handle_rubberband = function(fig, msg) {\n",
       "    var x0 = msg['x0'] / mpl.ratio;\n",
       "    var y0 = (fig.canvas.height - msg['y0']) / mpl.ratio;\n",
       "    var x1 = msg['x1'] / mpl.ratio;\n",
       "    var y1 = (fig.canvas.height - msg['y1']) / mpl.ratio;\n",
       "    x0 = Math.floor(x0) + 0.5;\n",
       "    y0 = Math.floor(y0) + 0.5;\n",
       "    x1 = Math.floor(x1) + 0.5;\n",
       "    y1 = Math.floor(y1) + 0.5;\n",
       "    var min_x = Math.min(x0, x1);\n",
       "    var min_y = Math.min(y0, y1);\n",
       "    var width = Math.abs(x1 - x0);\n",
       "    var height = Math.abs(y1 - y0);\n",
       "\n",
       "    fig.rubberband_context.clearRect(\n",
       "        0, 0, fig.canvas.width, fig.canvas.height);\n",
       "\n",
       "    fig.rubberband_context.strokeRect(min_x, min_y, width, height);\n",
       "}\n",
       "\n",
       "mpl.figure.prototype.handle_figure_label = function(fig, msg) {\n",
       "    // Updates the figure title.\n",
       "    fig.header.textContent = msg['label'];\n",
       "}\n",
       "\n",
       "mpl.figure.prototype.handle_cursor = function(fig, msg) {\n",
       "    var cursor = msg['cursor'];\n",
       "    switch(cursor)\n",
       "    {\n",
       "    case 0:\n",
       "        cursor = 'pointer';\n",
       "        break;\n",
       "    case 1:\n",
       "        cursor = 'default';\n",
       "        break;\n",
       "    case 2:\n",
       "        cursor = 'crosshair';\n",
       "        break;\n",
       "    case 3:\n",
       "        cursor = 'move';\n",
       "        break;\n",
       "    }\n",
       "    fig.rubberband_canvas.style.cursor = cursor;\n",
       "}\n",
       "\n",
       "mpl.figure.prototype.handle_message = function(fig, msg) {\n",
       "    fig.message.textContent = msg['message'];\n",
       "}\n",
       "\n",
       "mpl.figure.prototype.handle_draw = function(fig, msg) {\n",
       "    // Request the server to send over a new figure.\n",
       "    fig.send_draw_message();\n",
       "}\n",
       "\n",
       "mpl.figure.prototype.handle_image_mode = function(fig, msg) {\n",
       "    fig.image_mode = msg['mode'];\n",
       "}\n",
       "\n",
       "mpl.figure.prototype.updated_canvas_event = function() {\n",
       "    // Called whenever the canvas gets updated.\n",
       "    this.send_message(\"ack\", {});\n",
       "}\n",
       "\n",
       "// A function to construct a web socket function for onmessage handling.\n",
       "// Called in the figure constructor.\n",
       "mpl.figure.prototype._make_on_message_function = function(fig) {\n",
       "    return function socket_on_message(evt) {\n",
       "        if (evt.data instanceof Blob) {\n",
       "            /* FIXME: We get \"Resource interpreted as Image but\n",
       "             * transferred with MIME type text/plain:\" errors on\n",
       "             * Chrome.  But how to set the MIME type?  It doesn't seem\n",
       "             * to be part of the websocket stream */\n",
       "            evt.data.type = \"image/png\";\n",
       "\n",
       "            /* Free the memory for the previous frames */\n",
       "            if (fig.imageObj.src) {\n",
       "                (window.URL || window.webkitURL).revokeObjectURL(\n",
       "                    fig.imageObj.src);\n",
       "            }\n",
       "\n",
       "            fig.imageObj.src = (window.URL || window.webkitURL).createObjectURL(\n",
       "                evt.data);\n",
       "            fig.updated_canvas_event();\n",
       "            fig.waiting = false;\n",
       "            return;\n",
       "        }\n",
       "        else if (typeof evt.data === 'string' && evt.data.slice(0, 21) == \"data:image/png;base64\") {\n",
       "            fig.imageObj.src = evt.data;\n",
       "            fig.updated_canvas_event();\n",
       "            fig.waiting = false;\n",
       "            return;\n",
       "        }\n",
       "\n",
       "        var msg = JSON.parse(evt.data);\n",
       "        var msg_type = msg['type'];\n",
       "\n",
       "        // Call the  \"handle_{type}\" callback, which takes\n",
       "        // the figure and JSON message as its only arguments.\n",
       "        try {\n",
       "            var callback = fig[\"handle_\" + msg_type];\n",
       "        } catch (e) {\n",
       "            console.log(\"No handler for the '\" + msg_type + \"' message type: \", msg);\n",
       "            return;\n",
       "        }\n",
       "\n",
       "        if (callback) {\n",
       "            try {\n",
       "                // console.log(\"Handling '\" + msg_type + \"' message: \", msg);\n",
       "                callback(fig, msg);\n",
       "            } catch (e) {\n",
       "                console.log(\"Exception inside the 'handler_\" + msg_type + \"' callback:\", e, e.stack, msg);\n",
       "            }\n",
       "        }\n",
       "    };\n",
       "}\n",
       "\n",
       "// from http://stackoverflow.com/questions/1114465/getting-mouse-location-in-canvas\n",
       "mpl.findpos = function(e) {\n",
       "    //this section is from http://www.quirksmode.org/js/events_properties.html\n",
       "    var targ;\n",
       "    if (!e)\n",
       "        e = window.event;\n",
       "    if (e.target)\n",
       "        targ = e.target;\n",
       "    else if (e.srcElement)\n",
       "        targ = e.srcElement;\n",
       "    if (targ.nodeType == 3) // defeat Safari bug\n",
       "        targ = targ.parentNode;\n",
       "\n",
       "    // jQuery normalizes the pageX and pageY\n",
       "    // pageX,Y are the mouse positions relative to the document\n",
       "    // offset() returns the position of the element relative to the document\n",
       "    var x = e.pageX - $(targ).offset().left;\n",
       "    var y = e.pageY - $(targ).offset().top;\n",
       "\n",
       "    return {\"x\": x, \"y\": y};\n",
       "};\n",
       "\n",
       "/*\n",
       " * return a copy of an object with only non-object keys\n",
       " * we need this to avoid circular references\n",
       " * http://stackoverflow.com/a/24161582/3208463\n",
       " */\n",
       "function simpleKeys (original) {\n",
       "  return Object.keys(original).reduce(function (obj, key) {\n",
       "    if (typeof original[key] !== 'object')\n",
       "        obj[key] = original[key]\n",
       "    return obj;\n",
       "  }, {});\n",
       "}\n",
       "\n",
       "mpl.figure.prototype.mouse_event = function(event, name) {\n",
       "    var canvas_pos = mpl.findpos(event)\n",
       "\n",
       "    if (name === 'button_press')\n",
       "    {\n",
       "        this.canvas.focus();\n",
       "        this.canvas_div.focus();\n",
       "    }\n",
       "\n",
       "    var x = canvas_pos.x * mpl.ratio;\n",
       "    var y = canvas_pos.y * mpl.ratio;\n",
       "\n",
       "    this.send_message(name, {x: x, y: y, button: event.button,\n",
       "                             step: event.step,\n",
       "                             guiEvent: simpleKeys(event)});\n",
       "\n",
       "    /* This prevents the web browser from automatically changing to\n",
       "     * the text insertion cursor when the button is pressed.  We want\n",
       "     * to control all of the cursor setting manually through the\n",
       "     * 'cursor' event from matplotlib */\n",
       "    event.preventDefault();\n",
       "    return false;\n",
       "}\n",
       "\n",
       "mpl.figure.prototype._key_event_extra = function(event, name) {\n",
       "    // Handle any extra behaviour associated with a key event\n",
       "}\n",
       "\n",
       "mpl.figure.prototype.key_event = function(event, name) {\n",
       "\n",
       "    // Prevent repeat events\n",
       "    if (name == 'key_press')\n",
       "    {\n",
       "        if (event.which === this._key)\n",
       "            return;\n",
       "        else\n",
       "            this._key = event.which;\n",
       "    }\n",
       "    if (name == 'key_release')\n",
       "        this._key = null;\n",
       "\n",
       "    var value = '';\n",
       "    if (event.ctrlKey && event.which != 17)\n",
       "        value += \"ctrl+\";\n",
       "    if (event.altKey && event.which != 18)\n",
       "        value += \"alt+\";\n",
       "    if (event.shiftKey && event.which != 16)\n",
       "        value += \"shift+\";\n",
       "\n",
       "    value += 'k';\n",
       "    value += event.which.toString();\n",
       "\n",
       "    this._key_event_extra(event, name);\n",
       "\n",
       "    this.send_message(name, {key: value,\n",
       "                             guiEvent: simpleKeys(event)});\n",
       "    return false;\n",
       "}\n",
       "\n",
       "mpl.figure.prototype.toolbar_button_onclick = function(name) {\n",
       "    if (name == 'download') {\n",
       "        this.handle_save(this, null);\n",
       "    } else {\n",
       "        this.send_message(\"toolbar_button\", {name: name});\n",
       "    }\n",
       "};\n",
       "\n",
       "mpl.figure.prototype.toolbar_button_onmouseover = function(tooltip) {\n",
       "    this.message.textContent = tooltip;\n",
       "};\n",
       "mpl.toolbar_items = [[\"Home\", \"Reset original view\", \"fa fa-home icon-home\", \"home\"], [\"Back\", \"Back to  previous view\", \"fa fa-arrow-left icon-arrow-left\", \"back\"], [\"Forward\", \"Forward to next view\", \"fa fa-arrow-right icon-arrow-right\", \"forward\"], [\"\", \"\", \"\", \"\"], [\"Pan\", \"Pan axes with left mouse, zoom with right\", \"fa fa-arrows icon-move\", \"pan\"], [\"Zoom\", \"Zoom to rectangle\", \"fa fa-square-o icon-check-empty\", \"zoom\"], [\"\", \"\", \"\", \"\"], [\"Download\", \"Download plot\", \"fa fa-floppy-o icon-save\", \"download\"]];\n",
       "\n",
       "mpl.extensions = [\"eps\", \"jpeg\", \"pdf\", \"png\", \"ps\", \"raw\", \"svg\", \"tif\"];\n",
       "\n",
       "mpl.default_extension = \"png\";var comm_websocket_adapter = function(comm) {\n",
       "    // Create a \"websocket\"-like object which calls the given IPython comm\n",
       "    // object with the appropriate methods. Currently this is a non binary\n",
       "    // socket, so there is still some room for performance tuning.\n",
       "    var ws = {};\n",
       "\n",
       "    ws.close = function() {\n",
       "        comm.close()\n",
       "    };\n",
       "    ws.send = function(m) {\n",
       "        //console.log('sending', m);\n",
       "        comm.send(m);\n",
       "    };\n",
       "    // Register the callback with on_msg.\n",
       "    comm.on_msg(function(msg) {\n",
       "        //console.log('receiving', msg['content']['data'], msg);\n",
       "        // Pass the mpl event to the overriden (by mpl) onmessage function.\n",
       "        ws.onmessage(msg['content']['data'])\n",
       "    });\n",
       "    return ws;\n",
       "}\n",
       "\n",
       "mpl.mpl_figure_comm = function(comm, msg) {\n",
       "    // This is the function which gets called when the mpl process\n",
       "    // starts-up an IPython Comm through the \"matplotlib\" channel.\n",
       "\n",
       "    var id = msg.content.data.id;\n",
       "    // Get hold of the div created by the display call when the Comm\n",
       "    // socket was opened in Python.\n",
       "    var element = $(\"#\" + id);\n",
       "    var ws_proxy = comm_websocket_adapter(comm)\n",
       "\n",
       "    function ondownload(figure, format) {\n",
       "        window.open(figure.imageObj.src);\n",
       "    }\n",
       "\n",
       "    var fig = new mpl.figure(id, ws_proxy,\n",
       "                           ondownload,\n",
       "                           element.get(0));\n",
       "\n",
       "    // Call onopen now - mpl needs it, as it is assuming we've passed it a real\n",
       "    // web socket which is closed, not our websocket->open comm proxy.\n",
       "    ws_proxy.onopen();\n",
       "\n",
       "    fig.parent_element = element.get(0);\n",
       "    fig.cell_info = mpl.find_output_cell(\"<div id='\" + id + \"'></div>\");\n",
       "    if (!fig.cell_info) {\n",
       "        console.error(\"Failed to find cell for figure\", id, fig);\n",
       "        return;\n",
       "    }\n",
       "\n",
       "    var output_index = fig.cell_info[2]\n",
       "    var cell = fig.cell_info[0];\n",
       "\n",
       "};\n",
       "\n",
       "mpl.figure.prototype.handle_close = function(fig, msg) {\n",
       "    var width = fig.canvas.width/mpl.ratio\n",
       "    fig.root.unbind('remove')\n",
       "\n",
       "    // Update the output cell to use the data from the current canvas.\n",
       "    fig.push_to_output();\n",
       "    var dataURL = fig.canvas.toDataURL();\n",
       "    // Re-enable the keyboard manager in IPython - without this line, in FF,\n",
       "    // the notebook keyboard shortcuts fail.\n",
       "    IPython.keyboard_manager.enable()\n",
       "    $(fig.parent_element).html('<img src=\"' + dataURL + '\" width=\"' + width + '\">');\n",
       "    fig.close_ws(fig, msg);\n",
       "}\n",
       "\n",
       "mpl.figure.prototype.close_ws = function(fig, msg){\n",
       "    fig.send_message('closing', msg);\n",
       "    // fig.ws.close()\n",
       "}\n",
       "\n",
       "mpl.figure.prototype.push_to_output = function(remove_interactive) {\n",
       "    // Turn the data on the canvas into data in the output cell.\n",
       "    var width = this.canvas.width/mpl.ratio\n",
       "    var dataURL = this.canvas.toDataURL();\n",
       "    this.cell_info[1]['text/html'] = '<img src=\"' + dataURL + '\" width=\"' + width + '\">';\n",
       "}\n",
       "\n",
       "mpl.figure.prototype.updated_canvas_event = function() {\n",
       "    // Tell IPython that the notebook contents must change.\n",
       "    IPython.notebook.set_dirty(true);\n",
       "    this.send_message(\"ack\", {});\n",
       "    var fig = this;\n",
       "    // Wait a second, then push the new image to the DOM so\n",
       "    // that it is saved nicely (might be nice to debounce this).\n",
       "    setTimeout(function () { fig.push_to_output() }, 1000);\n",
       "}\n",
       "\n",
       "mpl.figure.prototype._init_toolbar = function() {\n",
       "    var fig = this;\n",
       "\n",
       "    var nav_element = $('<div/>')\n",
       "    nav_element.attr('style', 'width: 100%');\n",
       "    this.root.append(nav_element);\n",
       "\n",
       "    // Define a callback function for later on.\n",
       "    function toolbar_event(event) {\n",
       "        return fig.toolbar_button_onclick(event['data']);\n",
       "    }\n",
       "    function toolbar_mouse_event(event) {\n",
       "        return fig.toolbar_button_onmouseover(event['data']);\n",
       "    }\n",
       "\n",
       "    for(var toolbar_ind in mpl.toolbar_items){\n",
       "        var name = mpl.toolbar_items[toolbar_ind][0];\n",
       "        var tooltip = mpl.toolbar_items[toolbar_ind][1];\n",
       "        var image = mpl.toolbar_items[toolbar_ind][2];\n",
       "        var method_name = mpl.toolbar_items[toolbar_ind][3];\n",
       "\n",
       "        if (!name) { continue; };\n",
       "\n",
       "        var button = $('<button class=\"btn btn-default\" href=\"#\" title=\"' + name + '\"><i class=\"fa ' + image + ' fa-lg\"></i></button>');\n",
       "        button.click(method_name, toolbar_event);\n",
       "        button.mouseover(tooltip, toolbar_mouse_event);\n",
       "        nav_element.append(button);\n",
       "    }\n",
       "\n",
       "    // Add the status bar.\n",
       "    var status_bar = $('<span class=\"mpl-message\" style=\"text-align:right; float: right;\"/>');\n",
       "    nav_element.append(status_bar);\n",
       "    this.message = status_bar[0];\n",
       "\n",
       "    // Add the close button to the window.\n",
       "    var buttongrp = $('<div class=\"btn-group inline pull-right\"></div>');\n",
       "    var button = $('<button class=\"btn btn-mini btn-primary\" href=\"#\" title=\"Stop Interaction\"><i class=\"fa fa-power-off icon-remove icon-large\"></i></button>');\n",
       "    button.click(function (evt) { fig.handle_close(fig, {}); } );\n",
       "    button.mouseover('Stop Interaction', toolbar_mouse_event);\n",
       "    buttongrp.append(button);\n",
       "    var titlebar = this.root.find($('.ui-dialog-titlebar'));\n",
       "    titlebar.prepend(buttongrp);\n",
       "}\n",
       "\n",
       "mpl.figure.prototype._root_extra_style = function(el){\n",
       "    var fig = this\n",
       "    el.on(\"remove\", function(){\n",
       "\tfig.close_ws(fig, {});\n",
       "    });\n",
       "}\n",
       "\n",
       "mpl.figure.prototype._canvas_extra_style = function(el){\n",
       "    // this is important to make the div 'focusable\n",
       "    el.attr('tabindex', 0)\n",
       "    // reach out to IPython and tell the keyboard manager to turn it's self\n",
       "    // off when our div gets focus\n",
       "\n",
       "    // location in version 3\n",
       "    if (IPython.notebook.keyboard_manager) {\n",
       "        IPython.notebook.keyboard_manager.register_events(el);\n",
       "    }\n",
       "    else {\n",
       "        // location in version 2\n",
       "        IPython.keyboard_manager.register_events(el);\n",
       "    }\n",
       "\n",
       "}\n",
       "\n",
       "mpl.figure.prototype._key_event_extra = function(event, name) {\n",
       "    var manager = IPython.notebook.keyboard_manager;\n",
       "    if (!manager)\n",
       "        manager = IPython.keyboard_manager;\n",
       "\n",
       "    // Check for shift+enter\n",
       "    if (event.shiftKey && event.which == 13) {\n",
       "        this.canvas_div.blur();\n",
       "        event.shiftKey = false;\n",
       "        // Send a \"J\" for go to next cell\n",
       "        event.which = 74;\n",
       "        event.keyCode = 74;\n",
       "        manager.command_mode();\n",
       "        manager.handle_keydown(event);\n",
       "    }\n",
       "}\n",
       "\n",
       "mpl.figure.prototype.handle_save = function(fig, msg) {\n",
       "    fig.ondownload(fig, null);\n",
       "}\n",
       "\n",
       "\n",
       "mpl.find_output_cell = function(html_output) {\n",
       "    // Return the cell and output element which can be found *uniquely* in the notebook.\n",
       "    // Note - this is a bit hacky, but it is done because the \"notebook_saving.Notebook\"\n",
       "    // IPython event is triggered only after the cells have been serialised, which for\n",
       "    // our purposes (turning an active figure into a static one), is too late.\n",
       "    var cells = IPython.notebook.get_cells();\n",
       "    var ncells = cells.length;\n",
       "    for (var i=0; i<ncells; i++) {\n",
       "        var cell = cells[i];\n",
       "        if (cell.cell_type === 'code'){\n",
       "            for (var j=0; j<cell.output_area.outputs.length; j++) {\n",
       "                var data = cell.output_area.outputs[j];\n",
       "                if (data.data) {\n",
       "                    // IPython >= 3 moved mimebundle to data attribute of output\n",
       "                    data = data.data;\n",
       "                }\n",
       "                if (data['text/html'] == html_output) {\n",
       "                    return [cell, data, j];\n",
       "                }\n",
       "            }\n",
       "        }\n",
       "    }\n",
       "}\n",
       "\n",
       "// Register the function which deals with the matplotlib target/channel.\n",
       "// The kernel may be null if the page has been refreshed.\n",
       "if (IPython.notebook.kernel != null) {\n",
       "    IPython.notebook.kernel.comm_manager.register_target('matplotlib', mpl.mpl_figure_comm);\n",
       "}\n"
      ],
      "text/plain": [
       "<IPython.core.display.Javascript object>"
      ]
     },
     "metadata": {},
     "output_type": "display_data"
    },
    {
     "data": {
      "text/html": [
       "<img src=\"data:image/png;base64,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\" width=\"285.5\">"
      ],
      "text/plain": [
       "<IPython.core.display.HTML object>"
      ]
     },
     "metadata": {},
     "output_type": "display_data"
    }
   ],
   "source": [
    "% matplotlib notebook\n",
    "\n",
    "from Play import Play\n",
    "\n",
    "\n",
    "gameplay=Play(ConnectN(**game_setting), \n",
    "              player1=Policy_Player_MCTS, \n",
    "              player2=None)\n"
   ]
  },
  {
   "cell_type": "markdown",
   "metadata": {},
   "source": [
    "# Training"
   ]
  },
  {
   "cell_type": "code",
   "execution_count": 7,
   "metadata": {},
   "outputs": [
    {
     "name": "stdout",
     "output_type": "stream",
     "text": [
      "Requirement already satisfied: progressbar in /opt/conda/lib/python3.6/site-packages (2.5)\r\n"
     ]
    }
   ],
   "source": [
    "# initialize our alphazero agent and optimizer\n",
    "import torch.optim as optim\n",
    "\n",
    "game=ConnectN(**game_setting)\n",
    "policy = Policy(game)\n",
    "optimizer = optim.Adam(policy.parameters(), lr=.01, weight_decay=1.e-5)\n",
    "\n",
    "! pip install progressbar"
   ]
  },
  {
   "cell_type": "code",
   "execution_count": 8,
   "metadata": {},
   "outputs": [
    {
     "name": "stderr",
     "output_type": "stream",
     "text": [
      "/opt/conda/lib/python3.6/site-packages/torch/serialization.py:193: UserWarning: Couldn't retrieve source code for container of type Policy. It won't be checked for correctness upon loading.\n",
      "  \"type \" + obj.__name__ + \". It won't be checked \"\n",
      "training loop:   0% |                                          | ETA:  17:26:39\r"
     ]
    },
    {
     "name": "stdout",
     "output_type": "stream",
     "text": [
      "game:  1 , mean loss: 18.58 , recent outcomes:  [-1]\n"
     ]
    },
    {
     "name": "stderr",
     "output_type": "stream",
     "text": [
      "training loop:   0% |                                          | ETA:  10:39:56\r"
     ]
    },
    {
     "name": "stdout",
     "output_type": "stream",
     "text": [
      "game:  11 , mean loss: 31.02 , recent outcomes:  [-1, 1, -1, 1, -1, -1, -1, 1, 1, 1]\n"
     ]
    },
    {
     "name": "stderr",
     "output_type": "stream",
     "text": [
      "training loop:   1% |                                           | ETA:  8:44:24\r"
     ]
    },
    {
     "name": "stdout",
     "output_type": "stream",
     "text": [
      "game:  21 , mean loss: 25.46 , recent outcomes:  [1, 1, 1, 1, 1, 1, 1, 1, 1, 1]\n"
     ]
    },
    {
     "name": "stderr",
     "output_type": "stream",
     "text": [
      "training loop:   1% |                                           | ETA:  7:17:03\r"
     ]
    },
    {
     "name": "stdout",
     "output_type": "stream",
     "text": [
      "game:  31 , mean loss: 17.20 , recent outcomes:  [1, 1, 1, 1, 1, 1, 1, -1, -1, -1]\n"
     ]
    },
    {
     "name": "stderr",
     "output_type": "stream",
     "text": [
      "training loop:   2% |                                           | ETA:  6:20:54\r"
     ]
    },
    {
     "name": "stdout",
     "output_type": "stream",
     "text": [
      "game:  41 , mean loss: 13.82 , recent outcomes:  [1, 1, 1, 1, 1, -1, 1, 1, 1, 1]\n"
     ]
    },
    {
     "name": "stderr",
     "output_type": "stream",
     "text": [
      "training loop:   2% |#                                          | ETA:  5:50:45\r"
     ]
    },
    {
     "name": "stdout",
     "output_type": "stream",
     "text": [
      "game:  51 , mean loss: 10.35 , recent outcomes:  [1, 1, 1, 1, 1, 1, 1, 1, 1, 1]\n"
     ]
    },
    {
     "name": "stderr",
     "output_type": "stream",
     "text": [
      "training loop:   3% |#                                          | ETA:  5:22:26\r"
     ]
    },
    {
     "name": "stdout",
     "output_type": "stream",
     "text": [
      "game:  61 , mean loss: 9.66 , recent outcomes:  [-1, -1, 1, 1, 1, 1, 1, 1, 1, 1]\n"
     ]
    },
    {
     "name": "stderr",
     "output_type": "stream",
     "text": [
      "training loop:   3% |#                                          | ETA:  4:55:51\r"
     ]
    },
    {
     "name": "stdout",
     "output_type": "stream",
     "text": [
      "game:  71 , mean loss: 8.02 , recent outcomes:  [1, 1, 1, 1, 1, 1, 1, 1, 1, 1]\n"
     ]
    },
    {
     "name": "stderr",
     "output_type": "stream",
     "text": [
      "training loop:   4% |#                                          | ETA:  4:38:40\r"
     ]
    },
    {
     "name": "stdout",
     "output_type": "stream",
     "text": [
      "game:  81 , mean loss: 5.36 , recent outcomes:  [1, 1, 1, 1, 1, 1, 1, 1, 1, 1]\n"
     ]
    },
    {
     "name": "stderr",
     "output_type": "stream",
     "text": [
      "training loop:   4% |#                                          | ETA:  4:22:32\r"
     ]
    },
    {
     "name": "stdout",
     "output_type": "stream",
     "text": [
      "game:  91 , mean loss: 4.98 , recent outcomes:  [1, 1, 1, 1, 1, 1, 1, 1, 1, 1]\n"
     ]
    },
    {
     "name": "stderr",
     "output_type": "stream",
     "text": [
      "training loop:   5% |##                                         | ETA:  4:16:47\r"
     ]
    },
    {
     "name": "stdout",
     "output_type": "stream",
     "text": [
      "game:  101 , mean loss: 5.61 , recent outcomes:  [1, 1, 1, 1, 1, 1, 1, 1, 1, 1]\n"
     ]
    },
    {
     "name": "stderr",
     "output_type": "stream",
     "text": [
      "training loop:   5% |##                                         | ETA:  4:02:51\r"
     ]
    },
    {
     "name": "stdout",
     "output_type": "stream",
     "text": [
      "game:  111 , mean loss: 5.31 , recent outcomes:  [1, 1, 1, 1, 1, 1, 1, 1, 1, 1]\n"
     ]
    },
    {
     "name": "stderr",
     "output_type": "stream",
     "text": [
      "training loop:   6% |##                                         | ETA:  3:50:47\r"
     ]
    },
    {
     "name": "stdout",
     "output_type": "stream",
     "text": [
      "game:  121 , mean loss: 3.92 , recent outcomes:  [1, 1, 1, 1, 1, 1, 1, 1, 1, 1]\n"
     ]
    },
    {
     "name": "stderr",
     "output_type": "stream",
     "text": [
      "training loop:   6% |##                                         | ETA:  3:41:17\r"
     ]
    },
    {
     "name": "stdout",
     "output_type": "stream",
     "text": [
      "game:  131 , mean loss: 3.72 , recent outcomes:  [1, 1, 1, 1, 1, 1, 1, 1, 1, 1]\n"
     ]
    },
    {
     "name": "stderr",
     "output_type": "stream",
     "text": [
      "training loop:   7% |###                                        | ETA:  3:32:45\r"
     ]
    },
    {
     "name": "stdout",
     "output_type": "stream",
     "text": [
      "game:  141 , mean loss: 3.24 , recent outcomes:  [1, 1, 1, 1, 1, 1, 1, 1, 1, 1]\n"
     ]
    },
    {
     "name": "stderr",
     "output_type": "stream",
     "text": [
      "training loop:   7% |###                                        | ETA:  3:25:31\r"
     ]
    },
    {
     "name": "stdout",
     "output_type": "stream",
     "text": [
      "game:  151 , mean loss: 2.86 , recent outcomes:  [1, 1, 1, 1, 1, 1, 1, 1, 1, 1]\n"
     ]
    },
    {
     "name": "stderr",
     "output_type": "stream",
     "text": [
      "training loop:   8% |###                                        | ETA:  3:20:36\r"
     ]
    },
    {
     "name": "stdout",
     "output_type": "stream",
     "text": [
      "game:  161 , mean loss: 3.96 , recent outcomes:  [1, 1, 1, 1, 1, 1, 1, 1, 1, 1]\n"
     ]
    },
    {
     "name": "stderr",
     "output_type": "stream",
     "text": [
      "training loop:   8% |###                                        | ETA:  3:17:32\r"
     ]
    },
    {
     "name": "stdout",
     "output_type": "stream",
     "text": [
      "game:  171 , mean loss: 4.60 , recent outcomes:  [1, 1, 1, 1, 1, 1, 1, 1, 1, 1]\n"
     ]
    },
    {
     "name": "stderr",
     "output_type": "stream",
     "text": [
      "training loop:   9% |###                                        | ETA:  3:14:36\r"
     ]
    },
    {
     "name": "stdout",
     "output_type": "stream",
     "text": [
      "game:  181 , mean loss: 4.34 , recent outcomes:  [1, 1, 1, 1, 1, 1, 1, 1, 1, 1]\n"
     ]
    },
    {
     "name": "stderr",
     "output_type": "stream",
     "text": [
      "training loop:   9% |####                                       | ETA:  3:13:49\r"
     ]
    },
    {
     "name": "stdout",
     "output_type": "stream",
     "text": [
      "game:  191 , mean loss: 4.39 , recent outcomes:  [1, 1, 1, 1, 1, 1, 1, 1, 1, 1]\n"
     ]
    },
    {
     "name": "stderr",
     "output_type": "stream",
     "text": [
      "training loop:  10% |####                                       | ETA:  3:10:50\r"
     ]
    },
    {
     "name": "stdout",
     "output_type": "stream",
     "text": [
      "game:  201 , mean loss: 4.93 , recent outcomes:  [1, 1, 1, 1, 1, 1, 1, 1, -1, 1]\n"
     ]
    },
    {
     "name": "stderr",
     "output_type": "stream",
     "text": [
      "training loop:  10% |####                                       | ETA:  3:05:57\r"
     ]
    },
    {
     "name": "stdout",
     "output_type": "stream",
     "text": [
      "game:  211 , mean loss: 3.72 , recent outcomes:  [1, 1, 1, 1, 1, 1, 1, 1, 1, 1]\n"
     ]
    },
    {
     "name": "stderr",
     "output_type": "stream",
     "text": [
      "training loop:  11% |####                                       | ETA:  3:01:42\r"
     ]
    },
    {
     "name": "stdout",
     "output_type": "stream",
     "text": [
      "game:  221 , mean loss: 1.84 , recent outcomes:  [1, 1, 1, 1, 1, 1, 1, 1, 1, 1]\n"
     ]
    },
    {
     "name": "stderr",
     "output_type": "stream",
     "text": [
      "training loop:  11% |####                                       | ETA:  2:59:41\r"
     ]
    },
    {
     "name": "stdout",
     "output_type": "stream",
     "text": [
      "game:  231 , mean loss: 2.58 , recent outcomes:  [1, 1, 1, 1, 1, 1, 1, 1, 1, 1]\n"
     ]
    },
    {
     "name": "stderr",
     "output_type": "stream",
     "text": [
      "training loop:  12% |#####                                      | ETA:  2:56:17\r"
     ]
    },
    {
     "name": "stdout",
     "output_type": "stream",
     "text": [
      "game:  241 , mean loss: 2.57 , recent outcomes:  [1, 1, 1, 1, 1, 1, 1, 1, 1, 1]\n"
     ]
    },
    {
     "name": "stderr",
     "output_type": "stream",
     "text": [
      "training loop:  12% |#####                                      | ETA:  2:53:27\r"
     ]
    },
    {
     "name": "stdout",
     "output_type": "stream",
     "text": [
      "game:  251 , mean loss: 1.88 , recent outcomes:  [1, 1, 1, 1, 1, 1, 1, 1, 1, 1]\n"
     ]
    },
    {
     "name": "stderr",
     "output_type": "stream",
     "text": [
      "training loop:  13% |#####                                      | ETA:  2:52:32\r"
     ]
    },
    {
     "name": "stdout",
     "output_type": "stream",
     "text": [
      "game:  261 , mean loss: 2.51 , recent outcomes:  [1, 1, 1, 1, 1, 1, 1, 1, 1, 1]\n"
     ]
    },
    {
     "name": "stderr",
     "output_type": "stream",
     "text": [
      "training loop:  13% |#####                                      | ETA:  2:50:31\r"
     ]
    },
    {
     "name": "stdout",
     "output_type": "stream",
     "text": [
      "game:  271 , mean loss: 2.39 , recent outcomes:  [1, 1, 1, 1, 1, 1, 1, 1, 1, 1]\n"
     ]
    },
    {
     "name": "stderr",
     "output_type": "stream",
     "text": [
      "training loop:  14% |######                                     | ETA:  2:47:21\r"
     ]
    },
    {
     "name": "stdout",
     "output_type": "stream",
     "text": [
      "game:  281 , mean loss: 1.94 , recent outcomes:  [1, 1, 1, 1, 1, 1, 1, 1, 1, 1]\n"
     ]
    },
    {
     "name": "stderr",
     "output_type": "stream",
     "text": [
      "training loop:  14% |######                                     | ETA:  2:44:34\r"
     ]
    },
    {
     "name": "stdout",
     "output_type": "stream",
     "text": [
      "game:  291 , mean loss: 2.64 , recent outcomes:  [1, 1, 1, 1, 1, 1, 1, 1, 1, 1]\n"
     ]
    },
    {
     "name": "stderr",
     "output_type": "stream",
     "text": [
      "training loop:  15% |######                                     | ETA:  2:42:56\r"
     ]
    },
    {
     "name": "stdout",
     "output_type": "stream",
     "text": [
      "game:  301 , mean loss: 3.99 , recent outcomes:  [1, 1, 1, 1, 1, 1, 1, 1, 1, 1]\n"
     ]
    },
    {
     "name": "stderr",
     "output_type": "stream",
     "text": [
      "training loop:  15% |######                                     | ETA:  2:41:09\r"
     ]
    },
    {
     "name": "stdout",
     "output_type": "stream",
     "text": [
      "game:  311 , mean loss: 6.48 , recent outcomes:  [1, 1, 1, 1, 1, 1, 1, 1, -1, 1]\n"
     ]
    },
    {
     "name": "stderr",
     "output_type": "stream",
     "text": [
      "training loop:  16% |######                                     | ETA:  2:39:52\r"
     ]
    },
    {
     "name": "stdout",
     "output_type": "stream",
     "text": [
      "game:  321 , mean loss: 6.19 , recent outcomes:  [1, 1, 1, 1, 1, 1, 1, 1, 1, 1]\n"
     ]
    },
    {
     "name": "stderr",
     "output_type": "stream",
     "text": [
      "training loop:  16% |#######                                    | ETA:  2:39:08\r"
     ]
    },
    {
     "name": "stdout",
     "output_type": "stream",
     "text": [
      "game:  331 , mean loss: 3.11 , recent outcomes:  [1, 1, 1, 1, 1, 1, 1, 1, 1, 1]\n"
     ]
    },
    {
     "name": "stderr",
     "output_type": "stream",
     "text": [
      "training loop:  17% |#######                                    | ETA:  2:37:52\r"
     ]
    },
    {
     "name": "stdout",
     "output_type": "stream",
     "text": [
      "game:  341 , mean loss: 1.70 , recent outcomes:  [1, 1, 1, 1, 1, 1, 1, 1, 1, 1]\n"
     ]
    },
    {
     "name": "stderr",
     "output_type": "stream",
     "text": [
      "training loop:  17% |#######                                    | ETA:  2:36:20\r"
     ]
    },
    {
     "name": "stdout",
     "output_type": "stream",
     "text": [
      "game:  351 , mean loss: 1.28 , recent outcomes:  [1, 1, 1, 1, 1, 1, 1, 1, 1, 1]\n"
     ]
    },
    {
     "name": "stderr",
     "output_type": "stream",
     "text": [
      "training loop:  18% |#######                                    | ETA:  2:34:36\r"
     ]
    },
    {
     "name": "stdout",
     "output_type": "stream",
     "text": [
      "game:  361 , mean loss: 1.24 , recent outcomes:  [1, 1, 1, 1, 1, 1, 1, 1, 1, 1]\n"
     ]
    },
    {
     "name": "stderr",
     "output_type": "stream",
     "text": [
      "training loop:  18% |#######                                    | ETA:  2:32:52\r"
     ]
    },
    {
     "name": "stdout",
     "output_type": "stream",
     "text": [
      "game:  371 , mean loss: 0.99 , recent outcomes:  [1, 1, 1, 1, 1, 1, 1, 1, 1, 1]\n"
     ]
    },
    {
     "name": "stderr",
     "output_type": "stream",
     "text": [
      "training loop:  19% |########                                   | ETA:  2:31:16\r"
     ]
    },
    {
     "name": "stdout",
     "output_type": "stream",
     "text": [
      "game:  381 , mean loss: 1.09 , recent outcomes:  [1, 1, 1, 1, 1, 1, 1, 1, 1, 1]\n"
     ]
    },
    {
     "name": "stderr",
     "output_type": "stream",
     "text": [
      "training loop:  19% |########                                   | ETA:  2:29:15\r"
     ]
    },
    {
     "name": "stdout",
     "output_type": "stream",
     "text": [
      "game:  391 , mean loss: 1.16 , recent outcomes:  [1, 1, 1, 1, 1, 1, 1, 1, 1, 1]\n"
     ]
    },
    {
     "name": "stderr",
     "output_type": "stream",
     "text": [
      "training loop:  20% |########                                   | ETA:  2:27:50\r"
     ]
    },
    {
     "name": "stdout",
     "output_type": "stream",
     "text": [
      "game:  401 , mean loss: 1.04 , recent outcomes:  [1, 1, 1, 1, 1, 1, 1, 1, 1, 1]\n"
     ]
    },
    {
     "name": "stderr",
     "output_type": "stream",
     "text": [
      "training loop:  20% |########                                   | ETA:  2:26:31\r"
     ]
    },
    {
     "name": "stdout",
     "output_type": "stream",
     "text": [
      "game:  411 , mean loss: 1.14 , recent outcomes:  [1, 1, 1, 1, 1, 1, 1, 1, 1, 1]\n"
     ]
    },
    {
     "name": "stderr",
     "output_type": "stream",
     "text": [
      "training loop:  21% |#########                                  | ETA:  2:24:38\r"
     ]
    },
    {
     "name": "stdout",
     "output_type": "stream",
     "text": [
      "game:  421 , mean loss: 1.15 , recent outcomes:  [1, 1, 1, 1, 1, 1, 1, 1, 1, 1]\n"
     ]
    },
    {
     "name": "stderr",
     "output_type": "stream",
     "text": [
      "training loop:  21% |#########                                  | ETA:  2:23:36\r"
     ]
    },
    {
     "name": "stdout",
     "output_type": "stream",
     "text": [
      "game:  431 , mean loss: 1.19 , recent outcomes:  [1, 1, 1, 1, 1, 1, 1, 1, 1, 1]\n"
     ]
    },
    {
     "name": "stderr",
     "output_type": "stream",
     "text": [
      "training loop:  22% |#########                                  | ETA:  2:23:09\r"
     ]
    },
    {
     "name": "stdout",
     "output_type": "stream",
     "text": [
      "game:  441 , mean loss: 1.14 , recent outcomes:  [1, 1, 1, 1, 1, 1, 1, 1, 1, 1]\n"
     ]
    },
    {
     "name": "stderr",
     "output_type": "stream",
     "text": [
      "training loop:  22% |#########                                  | ETA:  2:22:33\r"
     ]
    },
    {
     "name": "stdout",
     "output_type": "stream",
     "text": [
      "game:  451 , mean loss: 1.94 , recent outcomes:  [1, 1, 1, 1, 1, 1, 1, 1, 1, 1]\n"
     ]
    },
    {
     "name": "stderr",
     "output_type": "stream",
     "text": [
      "training loop:  23% |#########                                  | ETA:  2:21:55\r"
     ]
    },
    {
     "name": "stdout",
     "output_type": "stream",
     "text": [
      "game:  461 , mean loss: 2.34 , recent outcomes:  [1, 1, 1, 1, 1, 1, 1, 1, 1, 1]\n"
     ]
    },
    {
     "name": "stderr",
     "output_type": "stream",
     "text": [
      "training loop:  23% |##########                                 | ETA:  2:20:55\r"
     ]
    },
    {
     "name": "stdout",
     "output_type": "stream",
     "text": [
      "game:  471 , mean loss: 1.98 , recent outcomes:  [1, 1, 1, 1, 1, 1, 1, 1, 1, 1]\n"
     ]
    },
    {
     "name": "stderr",
     "output_type": "stream",
     "text": [
      "training loop:  24% |##########                                 | ETA:  2:19:55\r"
     ]
    },
    {
     "name": "stdout",
     "output_type": "stream",
     "text": [
      "game:  481 , mean loss: 2.77 , recent outcomes:  [1, 1, 1, 1, 1, 1, 1, 1, 1, 1]\n"
     ]
    },
    {
     "name": "stderr",
     "output_type": "stream",
     "text": [
      "training loop:  24% |##########                                 | ETA:  2:19:31\r"
     ]
    },
    {
     "name": "stdout",
     "output_type": "stream",
     "text": [
      "game:  491 , mean loss: 2.65 , recent outcomes:  [1, 1, 1, 1, 1, 1, 1, 1, 1, 1]\n"
     ]
    },
    {
     "name": "stderr",
     "output_type": "stream",
     "text": [
      "training loop:  25% |##########                                 | ETA:  2:18:41\r"
     ]
    },
    {
     "name": "stdout",
     "output_type": "stream",
     "text": [
      "game:  501 , mean loss: 1.40 , recent outcomes:  [1, 1, 1, 1, 1, 1, 1, 1, 1, 1]\n"
     ]
    },
    {
     "name": "stderr",
     "output_type": "stream",
     "text": [
      "training loop:  25% |##########                                 | ETA:  2:17:18\r"
     ]
    },
    {
     "name": "stdout",
     "output_type": "stream",
     "text": [
      "game:  511 , mean loss: 0.99 , recent outcomes:  [1, 1, 1, 1, 1, 1, 1, 1, 1, 1]\n"
     ]
    },
    {
     "name": "stderr",
     "output_type": "stream",
     "text": [
      "training loop:  26% |###########                                | ETA:  2:16:11\r"
     ]
    },
    {
     "name": "stdout",
     "output_type": "stream",
     "text": [
      "game:  521 , mean loss: 0.92 , recent outcomes:  [1, 1, 1, 1, 1, 1, 1, 1, 1, 1]\n"
     ]
    },
    {
     "name": "stderr",
     "output_type": "stream",
     "text": [
      "training loop:  26% |###########                                | ETA:  2:14:53\r"
     ]
    },
    {
     "name": "stdout",
     "output_type": "stream",
     "text": [
      "game:  531 , mean loss: 0.66 , recent outcomes:  [1, 1, 1, 1, 1, 1, 1, 1, 1, 1]\n"
     ]
    },
    {
     "name": "stderr",
     "output_type": "stream",
     "text": [
      "training loop:  27% |###########                                | ETA:  2:13:44\r"
     ]
    },
    {
     "name": "stdout",
     "output_type": "stream",
     "text": [
      "game:  541 , mean loss: 2.91 , recent outcomes:  [1, 1, 1, 1, 1, 1, 1, 1, 1, -1]\n"
     ]
    },
    {
     "name": "stderr",
     "output_type": "stream",
     "text": [
      "training loop:  27% |###########                                | ETA:  2:13:23\r"
     ]
    },
    {
     "name": "stdout",
     "output_type": "stream",
     "text": [
      "game:  551 , mean loss: 3.36 , recent outcomes:  [1, 1, 1, 1, 1, 1, 1, 1, 1, 1]\n"
     ]
    },
    {
     "name": "stderr",
     "output_type": "stream",
     "text": [
      "training loop:  28% |############                               | ETA:  2:12:34\r"
     ]
    },
    {
     "name": "stdout",
     "output_type": "stream",
     "text": [
      "game:  561 , mean loss: 2.25 , recent outcomes:  [1, 1, 1, 1, 1, 1, -1, 1, 1, 1]\n"
     ]
    },
    {
     "name": "stderr",
     "output_type": "stream",
     "text": [
      "training loop:  28% |############                               | ETA:  2:12:05\r"
     ]
    },
    {
     "name": "stdout",
     "output_type": "stream",
     "text": [
      "game:  571 , mean loss: 2.22 , recent outcomes:  [1, 1, 1, 1, 1, 1, 1, 1, 1, 1]\n"
     ]
    },
    {
     "name": "stderr",
     "output_type": "stream",
     "text": [
      "training loop:  29% |############                               | ETA:  2:11:51\r"
     ]
    },
    {
     "name": "stdout",
     "output_type": "stream",
     "text": [
      "game:  581 , mean loss: 2.16 , recent outcomes:  [1, 1, 1, 1, 1, 1, 1, 1, 1, 1]\n"
     ]
    },
    {
     "name": "stderr",
     "output_type": "stream",
     "text": [
      "training loop:  29% |############                               | ETA:  2:11:12\r"
     ]
    },
    {
     "name": "stdout",
     "output_type": "stream",
     "text": [
      "game:  591 , mean loss: 2.33 , recent outcomes:  [1, 1, 1, 1, 1, 1, 1, 1, 1, 1]\n"
     ]
    },
    {
     "name": "stderr",
     "output_type": "stream",
     "text": [
      "training loop:  30% |############                               | ETA:  2:10:15\r"
     ]
    },
    {
     "name": "stdout",
     "output_type": "stream",
     "text": [
      "game:  601 , mean loss: 1.75 , recent outcomes:  [1, 1, 1, 1, 1, 1, 1, 1, 1, 1]\n"
     ]
    },
    {
     "name": "stderr",
     "output_type": "stream",
     "text": [
      "training loop:  30% |#############                              | ETA:  2:09:06\r"
     ]
    },
    {
     "name": "stdout",
     "output_type": "stream",
     "text": [
      "game:  611 , mean loss: 1.23 , recent outcomes:  [1, 1, 1, 1, 1, 1, 1, 1, 1, 1]\n"
     ]
    },
    {
     "name": "stderr",
     "output_type": "stream",
     "text": [
      "training loop:  31% |#############                              | ETA:  2:08:22\r"
     ]
    },
    {
     "name": "stdout",
     "output_type": "stream",
     "text": [
      "game:  621 , mean loss: 1.01 , recent outcomes:  [1, 1, 1, 1, 1, 1, 1, 1, 1, 1]\n"
     ]
    },
    {
     "name": "stderr",
     "output_type": "stream",
     "text": [
      "training loop:  31% |#############                              | ETA:  2:07:44\r"
     ]
    },
    {
     "name": "stdout",
     "output_type": "stream",
     "text": [
      "game:  631 , mean loss: 1.18 , recent outcomes:  [1, 1, 1, 1, 1, 1, 1, 1, 1, 1]\n"
     ]
    },
    {
     "name": "stderr",
     "output_type": "stream",
     "text": [
      "training loop:  32% |#############                              | ETA:  2:06:54\r"
     ]
    },
    {
     "name": "stdout",
     "output_type": "stream",
     "text": [
      "game:  641 , mean loss: 0.91 , recent outcomes:  [1, 1, 1, 1, 1, 1, 1, 1, 1, 1]\n"
     ]
    },
    {
     "name": "stderr",
     "output_type": "stream",
     "text": [
      "training loop:  32% |#############                              | ETA:  2:06:06\r"
     ]
    },
    {
     "name": "stdout",
     "output_type": "stream",
     "text": [
      "game:  651 , mean loss: 1.79 , recent outcomes:  [1, 1, 1, 1, 1, 1, 1, 1, 1, 1]\n"
     ]
    },
    {
     "name": "stderr",
     "output_type": "stream",
     "text": [
      "training loop:  33% |##############                             | ETA:  2:05:17\r"
     ]
    },
    {
     "name": "stdout",
     "output_type": "stream",
     "text": [
      "game:  661 , mean loss: 1.63 , recent outcomes:  [1, 1, 1, 1, 1, 1, 1, 1, 1, 1]\n"
     ]
    },
    {
     "name": "stderr",
     "output_type": "stream",
     "text": [
      "training loop:  33% |##############                             | ETA:  2:04:04\r"
     ]
    },
    {
     "name": "stdout",
     "output_type": "stream",
     "text": [
      "game:  671 , mean loss: 0.50 , recent outcomes:  [1, 1, 1, 1, 1, 1, 1, 1, 1, 1]\n"
     ]
    },
    {
     "name": "stderr",
     "output_type": "stream",
     "text": [
      "training loop:  34% |##############                             | ETA:  2:03:05\r"
     ]
    },
    {
     "name": "stdout",
     "output_type": "stream",
     "text": [
      "game:  681 , mean loss: 0.65 , recent outcomes:  [1, 1, 1, 1, 1, 1, 1, 1, 1, 1]\n"
     ]
    },
    {
     "name": "stderr",
     "output_type": "stream",
     "text": [
      "training loop:  34% |##############                             | ETA:  2:01:51\r"
     ]
    },
    {
     "name": "stdout",
     "output_type": "stream",
     "text": [
      "game:  691 , mean loss: 0.66 , recent outcomes:  [1, 1, 1, 1, 1, 1, 1, 1, 1, 1]\n"
     ]
    },
    {
     "name": "stderr",
     "output_type": "stream",
     "text": [
      "training loop:  35% |###############                            | ETA:  2:00:46\r"
     ]
    },
    {
     "name": "stdout",
     "output_type": "stream",
     "text": [
      "game:  701 , mean loss: 0.58 , recent outcomes:  [1, 1, 1, 1, 1, 1, 1, 1, 1, 1]\n"
     ]
    },
    {
     "name": "stderr",
     "output_type": "stream",
     "text": [
      "training loop:  35% |###############                            | ETA:  1:59:49\r"
     ]
    },
    {
     "name": "stdout",
     "output_type": "stream",
     "text": [
      "game:  711 , mean loss: 0.68 , recent outcomes:  [1, 1, 1, 1, 1, 1, 1, 1, 1, 1]\n"
     ]
    },
    {
     "name": "stderr",
     "output_type": "stream",
     "text": [
      "training loop:  36% |###############                            | ETA:  1:58:35\r"
     ]
    },
    {
     "name": "stdout",
     "output_type": "stream",
     "text": [
      "game:  721 , mean loss: 0.57 , recent outcomes:  [1, 1, 1, 1, 1, 1, 1, 1, 1, 1]\n"
     ]
    },
    {
     "name": "stderr",
     "output_type": "stream",
     "text": [
      "training loop:  36% |###############                            | ETA:  1:57:14\r"
     ]
    },
    {
     "name": "stdout",
     "output_type": "stream",
     "text": [
      "game:  731 , mean loss: 0.45 , recent outcomes:  [1, 1, 1, 1, 1, 1, 1, 1, 1, 1]\n"
     ]
    },
    {
     "name": "stderr",
     "output_type": "stream",
     "text": [
      "training loop:  37% |###############                            | ETA:  1:55:57\r"
     ]
    },
    {
     "name": "stdout",
     "output_type": "stream",
     "text": [
      "game:  741 , mean loss: 0.57 , recent outcomes:  [1, 1, 1, 1, 1, 1, 1, 1, 1, 1]\n"
     ]
    },
    {
     "name": "stderr",
     "output_type": "stream",
     "text": [
      "training loop:  37% |################                           | ETA:  1:54:48\r"
     ]
    },
    {
     "name": "stdout",
     "output_type": "stream",
     "text": [
      "game:  751 , mean loss: 0.74 , recent outcomes:  [1, 1, 1, 1, 1, 1, 1, 1, 1, 1]\n"
     ]
    },
    {
     "name": "stderr",
     "output_type": "stream",
     "text": [
      "training loop:  38% |################                           | ETA:  1:53:51\r"
     ]
    },
    {
     "name": "stdout",
     "output_type": "stream",
     "text": [
      "game:  761 , mean loss: 3.33 , recent outcomes:  [1, 1, 1, 1, 1, 1, 1, 1, 1, 1]\n"
     ]
    },
    {
     "name": "stderr",
     "output_type": "stream",
     "text": [
      "training loop:  38% |################                           | ETA:  1:52:58\r"
     ]
    },
    {
     "name": "stdout",
     "output_type": "stream",
     "text": [
      "game:  771 , mean loss: 4.62 , recent outcomes:  [1, 1, 1, 1, 1, 1, 1, 1, 1, 1]\n"
     ]
    },
    {
     "name": "stderr",
     "output_type": "stream",
     "text": [
      "training loop:  39% |################                           | ETA:  1:52:31\r"
     ]
    },
    {
     "name": "stdout",
     "output_type": "stream",
     "text": [
      "game:  781 , mean loss: 5.64 , recent outcomes:  [1, 1, 1, 1, 1, 1, 1, -1, 1, 1]\n"
     ]
    },
    {
     "name": "stderr",
     "output_type": "stream",
     "text": [
      "training loop:  39% |#################                          | ETA:  1:51:30\r"
     ]
    },
    {
     "name": "stdout",
     "output_type": "stream",
     "text": [
      "game:  791 , mean loss: 4.70 , recent outcomes:  [1, 1, 1, 1, 1, 1, 1, 1, 1, 1]\n"
     ]
    },
    {
     "name": "stderr",
     "output_type": "stream",
     "text": [
      "training loop:  40% |#################                          | ETA:  1:50:45\r"
     ]
    },
    {
     "name": "stdout",
     "output_type": "stream",
     "text": [
      "game:  801 , mean loss: 1.18 , recent outcomes:  [1, 1, 1, 1, 1, 1, 1, 1, 1, 1]\n"
     ]
    },
    {
     "name": "stderr",
     "output_type": "stream",
     "text": [
      "training loop:  40% |#################                          | ETA:  1:49:42\r"
     ]
    },
    {
     "name": "stdout",
     "output_type": "stream",
     "text": [
      "game:  811 , mean loss: 1.25 , recent outcomes:  [1, 1, 1, 1, 1, 1, 1, 1, 1, 1]\n"
     ]
    },
    {
     "name": "stderr",
     "output_type": "stream",
     "text": [
      "training loop:  41% |#################                          | ETA:  1:48:42\r"
     ]
    },
    {
     "name": "stdout",
     "output_type": "stream",
     "text": [
      "game:  821 , mean loss: 2.56 , recent outcomes:  [1, 1, 1, 1, 1, 1, 1, 1, 1, 1]\n"
     ]
    },
    {
     "name": "stderr",
     "output_type": "stream",
     "text": [
      "training loop:  41% |#################                          | ETA:  1:47:54\r"
     ]
    },
    {
     "name": "stdout",
     "output_type": "stream",
     "text": [
      "game:  831 , mean loss: 7.14 , recent outcomes:  [1, 1, 1, 1, 1, 1, 1, -1, 1, 1]\n"
     ]
    },
    {
     "name": "stderr",
     "output_type": "stream",
     "text": [
      "training loop:  42% |##################                         | ETA:  1:47:39\r"
     ]
    },
    {
     "name": "stdout",
     "output_type": "stream",
     "text": [
      "game:  841 , mean loss: 10.48 , recent outcomes:  [1, 1, 1, 1, 1, 1, 1, -1, 1, 1]\n"
     ]
    },
    {
     "name": "stderr",
     "output_type": "stream",
     "text": [
      "training loop:  42% |##################                         | ETA:  1:46:43\r"
     ]
    },
    {
     "name": "stdout",
     "output_type": "stream",
     "text": [
      "game:  851 , mean loss: 6.70 , recent outcomes:  [1, 1, 1, 1, 1, 1, 1, 1, 1, 1]\n"
     ]
    },
    {
     "name": "stderr",
     "output_type": "stream",
     "text": [
      "training loop:  43% |##################                         | ETA:  1:46:27\r"
     ]
    },
    {
     "name": "stdout",
     "output_type": "stream",
     "text": [
      "game:  861 , mean loss: 3.42 , recent outcomes:  [1, 1, 1, 1, 1, 1, 1, 1, 1, 1]\n"
     ]
    },
    {
     "name": "stderr",
     "output_type": "stream",
     "text": [
      "training loop:  43% |##################                         | ETA:  1:45:38\r"
     ]
    },
    {
     "name": "stdout",
     "output_type": "stream",
     "text": [
      "game:  871 , mean loss: 2.54 , recent outcomes:  [1, 1, 1, 1, 1, 1, 1, 1, 1, 1]\n"
     ]
    },
    {
     "name": "stderr",
     "output_type": "stream",
     "text": [
      "training loop:  44% |##################                         | ETA:  1:44:41\r"
     ]
    },
    {
     "name": "stdout",
     "output_type": "stream",
     "text": [
      "game:  881 , mean loss: 1.36 , recent outcomes:  [1, 1, 1, 1, 1, 1, 1, 1, 1, 1]\n"
     ]
    },
    {
     "name": "stderr",
     "output_type": "stream",
     "text": [
      "training loop:  44% |###################                        | ETA:  1:43:50\r"
     ]
    },
    {
     "name": "stdout",
     "output_type": "stream",
     "text": [
      "game:  891 , mean loss: 0.99 , recent outcomes:  [1, 1, 1, 1, 1, 1, 1, 1, 1, 1]\n"
     ]
    },
    {
     "name": "stderr",
     "output_type": "stream",
     "text": [
      "training loop:  45% |###################                        | ETA:  1:43:22\r"
     ]
    },
    {
     "name": "stdout",
     "output_type": "stream",
     "text": [
      "game:  901 , mean loss: 6.78 , recent outcomes:  [1, 1, 1, 1, 1, 1, 1, 1, 1, -1]\n"
     ]
    },
    {
     "name": "stderr",
     "output_type": "stream",
     "text": [
      "training loop:  45% |###################                        | ETA:  1:42:53\r"
     ]
    },
    {
     "name": "stdout",
     "output_type": "stream",
     "text": [
      "game:  911 , mean loss: 7.73 , recent outcomes:  [1, 1, 1, 1, 1, 1, 1, 1, 1, 1]\n"
     ]
    },
    {
     "name": "stderr",
     "output_type": "stream",
     "text": [
      "training loop:  46% |###################                        | ETA:  1:42:17\r"
     ]
    },
    {
     "name": "stdout",
     "output_type": "stream",
     "text": [
      "game:  921 , mean loss: 1.95 , recent outcomes:  [1, 1, 1, 1, 1, 1, 1, 1, 1, 1]\n"
     ]
    },
    {
     "name": "stderr",
     "output_type": "stream",
     "text": [
      "training loop:  46% |####################                       | ETA:  1:41:41\r"
     ]
    },
    {
     "name": "stdout",
     "output_type": "stream",
     "text": [
      "game:  931 , mean loss: 3.24 , recent outcomes:  [1, 1, 1, 1, -1, 1, 1, 1, 1, 1]\n"
     ]
    },
    {
     "name": "stderr",
     "output_type": "stream",
     "text": [
      "training loop:  47% |####################                       | ETA:  1:41:39\r"
     ]
    },
    {
     "name": "stdout",
     "output_type": "stream",
     "text": [
      "game:  941 , mean loss: 10.75 , recent outcomes:  [1, 1, 1, 1, -1, 1, 1, -1, 1, 1]\n"
     ]
    },
    {
     "name": "stderr",
     "output_type": "stream",
     "text": [
      "training loop:  47% |####################                       | ETA:  1:41:31\r"
     ]
    },
    {
     "name": "stdout",
     "output_type": "stream",
     "text": [
      "game:  951 , mean loss: 12.92 , recent outcomes:  [-1, 1, 1, 1, 1, 1, 1, 1, 1, 1]\n"
     ]
    },
    {
     "name": "stderr",
     "output_type": "stream",
     "text": [
      "training loop:  48% |####################                       | ETA:  1:41:24\r"
     ]
    },
    {
     "name": "stdout",
     "output_type": "stream",
     "text": [
      "game:  961 , mean loss: 8.71 , recent outcomes:  [1, 1, 1, 1, 1, 1, 1, -1, 1, 1]\n"
     ]
    },
    {
     "name": "stderr",
     "output_type": "stream",
     "text": [
      "training loop:  48% |####################                       | ETA:  1:40:53\r"
     ]
    },
    {
     "name": "stdout",
     "output_type": "stream",
     "text": [
      "game:  971 , mean loss: 4.46 , recent outcomes:  [1, 1, 1, 1, 1, 1, 1, 1, 1, 1]\n"
     ]
    },
    {
     "name": "stderr",
     "output_type": "stream",
     "text": [
      "training loop:  49% |#####################                      | ETA:  1:40:13\r"
     ]
    },
    {
     "name": "stdout",
     "output_type": "stream",
     "text": [
      "game:  981 , mean loss: 3.42 , recent outcomes:  [1, 1, 1, 1, -1, 1, 1, 1, 1, 1]\n"
     ]
    },
    {
     "name": "stderr",
     "output_type": "stream",
     "text": [
      "training loop:  49% |#####################                      | ETA:  1:39:20\r"
     ]
    },
    {
     "name": "stdout",
     "output_type": "stream",
     "text": [
      "game:  991 , mean loss: 3.29 , recent outcomes:  [1, 1, 1, 1, 1, 1, 1, 1, 1, 1]\n"
     ]
    },
    {
     "name": "stderr",
     "output_type": "stream",
     "text": [
      "training loop:  50% |#####################                      | ETA:  1:38:33\r"
     ]
    },
    {
     "name": "stdout",
     "output_type": "stream",
     "text": [
      "game:  1001 , mean loss: 0.76 , recent outcomes:  [1, 1, 1, 1, 1, 1, 1, 1, 1, 1]\n"
     ]
    },
    {
     "name": "stderr",
     "output_type": "stream",
     "text": [
      "training loop:  50% |#####################                      | ETA:  1:37:58\r"
     ]
    },
    {
     "name": "stdout",
     "output_type": "stream",
     "text": [
      "game:  1011 , mean loss: 1.23 , recent outcomes:  [1, 1, 1, 1, 1, 1, 1, 1, 1, 1]\n"
     ]
    },
    {
     "name": "stderr",
     "output_type": "stream",
     "text": [
      "training loop:  51% |#####################                      | ETA:  1:37:09\r"
     ]
    },
    {
     "name": "stdout",
     "output_type": "stream",
     "text": [
      "game:  1021 , mean loss: 1.15 , recent outcomes:  [1, 1, 1, 1, 1, 1, 1, 1, 1, 1]\n"
     ]
    },
    {
     "name": "stderr",
     "output_type": "stream",
     "text": [
      "training loop:  51% |######################                     | ETA:  1:36:14\r"
     ]
    },
    {
     "name": "stdout",
     "output_type": "stream",
     "text": [
      "game:  1031 , mean loss: 0.52 , recent outcomes:  [1, 1, 1, 1, 1, 1, 1, 1, 1, 1]\n"
     ]
    },
    {
     "name": "stderr",
     "output_type": "stream",
     "text": [
      "training loop:  52% |######################                     | ETA:  1:35:30\r"
     ]
    },
    {
     "name": "stdout",
     "output_type": "stream",
     "text": [
      "game:  1041 , mean loss: 0.88 , recent outcomes:  [1, 1, 1, 1, 1, 1, 1, 1, 1, 1]\n"
     ]
    },
    {
     "name": "stderr",
     "output_type": "stream",
     "text": [
      "training loop:  52% |######################                     | ETA:  1:34:23\r"
     ]
    },
    {
     "name": "stdout",
     "output_type": "stream",
     "text": [
      "game:  1051 , mean loss: 0.88 , recent outcomes:  [1, 1, 1, 1, 1, 1, 1, 1, 1, 1]\n"
     ]
    },
    {
     "name": "stderr",
     "output_type": "stream",
     "text": [
      "training loop:  53% |######################                     | ETA:  1:33:23\r"
     ]
    },
    {
     "name": "stdout",
     "output_type": "stream",
     "text": [
      "game:  1061 , mean loss: 0.53 , recent outcomes:  [1, 1, 1, 1, 1, 1, 1, 1, 1, 1]\n"
     ]
    },
    {
     "name": "stderr",
     "output_type": "stream",
     "text": [
      "training loop:  53% |#######################                    | ETA:  1:32:27\r"
     ]
    },
    {
     "name": "stdout",
     "output_type": "stream",
     "text": [
      "game:  1071 , mean loss: 0.58 , recent outcomes:  [1, 1, 1, 1, 1, 1, 1, 1, 1, 1]\n"
     ]
    },
    {
     "name": "stderr",
     "output_type": "stream",
     "text": [
      "training loop:  54% |#######################                    | ETA:  1:31:24\r"
     ]
    },
    {
     "name": "stdout",
     "output_type": "stream",
     "text": [
      "game:  1081 , mean loss: 0.48 , recent outcomes:  [1, 1, 1, 1, 1, 1, 1, 1, 1, 1]\n"
     ]
    },
    {
     "name": "stderr",
     "output_type": "stream",
     "text": [
      "training loop:  54% |#######################                    | ETA:  1:30:16\r"
     ]
    },
    {
     "name": "stdout",
     "output_type": "stream",
     "text": [
      "game:  1091 , mean loss: 0.31 , recent outcomes:  [1, 1, 1, 1, 1, 1, 1, 1, 1, 1]\n"
     ]
    },
    {
     "name": "stderr",
     "output_type": "stream",
     "text": [
      "training loop:  55% |#######################                    | ETA:  1:29:11\r"
     ]
    },
    {
     "name": "stdout",
     "output_type": "stream",
     "text": [
      "game:  1101 , mean loss: 0.25 , recent outcomes:  [1, 1, 1, 1, 1, 1, 1, 1, 1, 1]\n"
     ]
    },
    {
     "name": "stderr",
     "output_type": "stream",
     "text": [
      "training loop:  55% |#######################                    | ETA:  1:28:05\r"
     ]
    },
    {
     "name": "stdout",
     "output_type": "stream",
     "text": [
      "game:  1111 , mean loss: 0.31 , recent outcomes:  [1, 1, 1, 1, 1, 1, 1, 1, 1, 1]\n"
     ]
    },
    {
     "name": "stderr",
     "output_type": "stream",
     "text": [
      "training loop:  56% |########################                   | ETA:  1:27:02\r"
     ]
    },
    {
     "name": "stdout",
     "output_type": "stream",
     "text": [
      "game:  1121 , mean loss: 0.30 , recent outcomes:  [1, 1, 1, 1, 1, 1, 1, 1, 1, 1]\n"
     ]
    },
    {
     "name": "stderr",
     "output_type": "stream",
     "text": [
      "training loop:  56% |########################                   | ETA:  1:26:07\r"
     ]
    },
    {
     "name": "stdout",
     "output_type": "stream",
     "text": [
      "game:  1131 , mean loss: 0.32 , recent outcomes:  [1, 1, 1, 1, 1, 1, 1, 1, 1, 1]\n"
     ]
    },
    {
     "name": "stderr",
     "output_type": "stream",
     "text": [
      "training loop:  57% |########################                   | ETA:  1:25:11\r"
     ]
    },
    {
     "name": "stdout",
     "output_type": "stream",
     "text": [
      "game:  1141 , mean loss: 4.74 , recent outcomes:  [1, 1, 1, -1, 1, 1, 1, 1, -1, 1]\n"
     ]
    },
    {
     "name": "stderr",
     "output_type": "stream",
     "text": [
      "training loop:  57% |########################                   | ETA:  1:24:17\r"
     ]
    },
    {
     "name": "stdout",
     "output_type": "stream",
     "text": [
      "game:  1151 , mean loss: 4.78 , recent outcomes:  [1, 1, 1, 1, 1, 1, 1, 1, 1, 1]\n"
     ]
    },
    {
     "name": "stderr",
     "output_type": "stream",
     "text": [
      "training loop:  58% |########################                   | ETA:  1:23:15\r"
     ]
    },
    {
     "name": "stdout",
     "output_type": "stream",
     "text": [
      "game:  1161 , mean loss: 0.34 , recent outcomes:  [1, 1, 1, 1, 1, 1, 1, 1, 1, 1]\n"
     ]
    },
    {
     "name": "stderr",
     "output_type": "stream",
     "text": [
      "training loop:  58% |#########################                  | ETA:  1:22:13\r"
     ]
    },
    {
     "name": "stdout",
     "output_type": "stream",
     "text": [
      "game:  1171 , mean loss: 0.18 , recent outcomes:  [1, 1, 1, 1, 1, 1, 1, 1, 1, 1]\n"
     ]
    },
    {
     "name": "stderr",
     "output_type": "stream",
     "text": [
      "training loop:  59% |#########################                  | ETA:  1:21:14\r"
     ]
    },
    {
     "name": "stdout",
     "output_type": "stream",
     "text": [
      "game:  1181 , mean loss: 0.39 , recent outcomes:  [1, 1, 1, 1, 1, 1, 1, 1, 1, 1]\n"
     ]
    },
    {
     "name": "stderr",
     "output_type": "stream",
     "text": [
      "training loop:  59% |#########################                  | ETA:  1:20:08\r"
     ]
    },
    {
     "name": "stdout",
     "output_type": "stream",
     "text": [
      "game:  1191 , mean loss: 0.41 , recent outcomes:  [1, 1, 1, 1, 1, 1, 1, 1, 1, 1]\n"
     ]
    },
    {
     "name": "stderr",
     "output_type": "stream",
     "text": [
      "training loop:  60% |#########################                  | ETA:  1:19:02\r"
     ]
    },
    {
     "name": "stdout",
     "output_type": "stream",
     "text": [
      "game:  1201 , mean loss: 0.20 , recent outcomes:  [1, 1, 1, 1, 1, 1, 1, 1, 1, 1]\n"
     ]
    },
    {
     "name": "stderr",
     "output_type": "stream",
     "text": [
      "training loop:  60% |##########################                 | ETA:  1:17:56\r"
     ]
    },
    {
     "name": "stdout",
     "output_type": "stream",
     "text": [
      "game:  1211 , mean loss: 0.18 , recent outcomes:  [1, 1, 1, 1, 1, 1, 1, 1, 1, 1]\n"
     ]
    },
    {
     "name": "stderr",
     "output_type": "stream",
     "text": [
      "training loop:  61% |##########################                 | ETA:  1:16:50\r"
     ]
    },
    {
     "name": "stdout",
     "output_type": "stream",
     "text": [
      "game:  1221 , mean loss: 0.22 , recent outcomes:  [1, 1, 1, 1, 1, 1, 1, 1, 1, 1]\n"
     ]
    },
    {
     "name": "stderr",
     "output_type": "stream",
     "text": [
      "training loop:  61% |##########################                 | ETA:  1:15:43\r"
     ]
    },
    {
     "name": "stdout",
     "output_type": "stream",
     "text": [
      "game:  1231 , mean loss: 0.25 , recent outcomes:  [1, 1, 1, 1, 1, 1, 1, 1, 1, 1]\n"
     ]
    },
    {
     "name": "stderr",
     "output_type": "stream",
     "text": [
      "training loop:  62% |##########################                 | ETA:  1:14:37\r"
     ]
    },
    {
     "name": "stdout",
     "output_type": "stream",
     "text": [
      "game:  1241 , mean loss: 0.99 , recent outcomes:  [1, 1, -1, 1, 1, 1, 1, 1, 1, 1]\n"
     ]
    },
    {
     "name": "stderr",
     "output_type": "stream",
     "text": [
      "training loop:  62% |##########################                 | ETA:  1:13:31\r"
     ]
    },
    {
     "name": "stdout",
     "output_type": "stream",
     "text": [
      "game:  1251 , mean loss: 1.05 , recent outcomes:  [1, 1, 1, 1, 1, 1, 1, 1, 1, 1]\n"
     ]
    },
    {
     "name": "stderr",
     "output_type": "stream",
     "text": [
      "training loop:  63% |###########################                | ETA:  1:12:24\r"
     ]
    },
    {
     "name": "stdout",
     "output_type": "stream",
     "text": [
      "game:  1261 , mean loss: 1.10 , recent outcomes:  [1, 1, 1, 1, 1, 1, 1, 1, 1, 1]\n"
     ]
    },
    {
     "name": "stderr",
     "output_type": "stream",
     "text": [
      "training loop:  63% |###########################                | ETA:  1:11:31\r"
     ]
    },
    {
     "name": "stdout",
     "output_type": "stream",
     "text": [
      "game:  1271 , mean loss: 5.90 , recent outcomes:  [1, 1, 1, 1, 1, 1, 1, 1, 1, -1]\n"
     ]
    },
    {
     "name": "stderr",
     "output_type": "stream",
     "text": [
      "training loop:  64% |###########################                | ETA:  1:10:36\r"
     ]
    },
    {
     "name": "stdout",
     "output_type": "stream",
     "text": [
      "game:  1281 , mean loss: 5.35 , recent outcomes:  [1, 1, 1, 1, 1, 1, 1, 1, 1, 1]\n"
     ]
    },
    {
     "name": "stderr",
     "output_type": "stream",
     "text": [
      "training loop:  64% |###########################                | ETA:  1:09:35\r"
     ]
    },
    {
     "name": "stdout",
     "output_type": "stream",
     "text": [
      "game:  1291 , mean loss: 0.73 , recent outcomes:  [1, 1, 1, 1, 1, 1, 1, 1, 1, 1]\n"
     ]
    },
    {
     "name": "stderr",
     "output_type": "stream",
     "text": [
      "training loop:  65% |###########################                | ETA:  1:08:33\r"
     ]
    },
    {
     "name": "stdout",
     "output_type": "stream",
     "text": [
      "game:  1301 , mean loss: 0.68 , recent outcomes:  [1, 1, 1, 1, 1, 1, 1, 1, 1, 1]\n"
     ]
    },
    {
     "name": "stderr",
     "output_type": "stream",
     "text": [
      "training loop:  65% |############################               | ETA:  1:07:31\r"
     ]
    },
    {
     "name": "stdout",
     "output_type": "stream",
     "text": [
      "game:  1311 , mean loss: 3.80 , recent outcomes:  [1, 1, 1, 1, 1, 1, -1, 1, 1, 1]\n"
     ]
    },
    {
     "name": "stderr",
     "output_type": "stream",
     "text": [
      "training loop:  66% |############################               | ETA:  1:06:28\r"
     ]
    },
    {
     "name": "stdout",
     "output_type": "stream",
     "text": [
      "game:  1321 , mean loss: 3.72 , recent outcomes:  [1, 1, 1, 1, 1, 1, 1, 1, 1, 1]\n"
     ]
    },
    {
     "name": "stderr",
     "output_type": "stream",
     "text": [
      "training loop:  66% |############################               | ETA:  1:05:27\r"
     ]
    },
    {
     "name": "stdout",
     "output_type": "stream",
     "text": [
      "game:  1331 , mean loss: 0.51 , recent outcomes:  [1, 1, 1, 1, 1, 1, 1, 1, 1, 1]\n"
     ]
    },
    {
     "name": "stderr",
     "output_type": "stream",
     "text": [
      "training loop:  67% |############################               | ETA:  1:04:33\r"
     ]
    },
    {
     "name": "stdout",
     "output_type": "stream",
     "text": [
      "game:  1341 , mean loss: 0.96 , recent outcomes:  [1, 1, 1, 1, 1, 1, 1, 1, 1, 1]\n"
     ]
    },
    {
     "name": "stderr",
     "output_type": "stream",
     "text": [
      "training loop:  67% |#############################              | ETA:  1:03:32\r"
     ]
    },
    {
     "name": "stdout",
     "output_type": "stream",
     "text": [
      "game:  1351 , mean loss: 0.85 , recent outcomes:  [1, 1, 1, 1, 1, 1, 1, 1, 1, 1]\n"
     ]
    },
    {
     "name": "stderr",
     "output_type": "stream",
     "text": [
      "training loop:  68% |#############################              | ETA:  1:02:34\r"
     ]
    },
    {
     "name": "stdout",
     "output_type": "stream",
     "text": [
      "game:  1361 , mean loss: 0.47 , recent outcomes:  [1, 1, 1, 1, 1, 1, 1, 1, 1, 1]\n"
     ]
    },
    {
     "name": "stderr",
     "output_type": "stream",
     "text": [
      "training loop:  68% |#############################              | ETA:  1:01:35\r"
     ]
    },
    {
     "name": "stdout",
     "output_type": "stream",
     "text": [
      "game:  1371 , mean loss: 0.62 , recent outcomes:  [1, 1, 1, 1, 1, 1, 1, 1, 1, 1]\n"
     ]
    },
    {
     "name": "stderr",
     "output_type": "stream",
     "text": [
      "training loop:  69% |#############################              | ETA:  1:00:34\r"
     ]
    },
    {
     "name": "stdout",
     "output_type": "stream",
     "text": [
      "game:  1381 , mean loss: 1.11 , recent outcomes:  [1, 1, 1, 1, 1, 1, 1, 1, 1, 1]\n"
     ]
    },
    {
     "name": "stderr",
     "output_type": "stream",
     "text": [
      "training loop:  69% |#############################              | ETA:  0:59:28\r"
     ]
    },
    {
     "name": "stdout",
     "output_type": "stream",
     "text": [
      "game:  1391 , mean loss: 1.11 , recent outcomes:  [1, 1, 1, 1, 1, 1, 1, 1, 1, 1]\n"
     ]
    },
    {
     "name": "stderr",
     "output_type": "stream",
     "text": [
      "training loop:  70% |##############################             | ETA:  0:58:26\r"
     ]
    },
    {
     "name": "stdout",
     "output_type": "stream",
     "text": [
      "game:  1401 , mean loss: 0.45 , recent outcomes:  [1, 1, 1, 1, 1, 1, 1, 1, 1, 1]\n"
     ]
    },
    {
     "name": "stderr",
     "output_type": "stream",
     "text": [
      "training loop:  70% |##############################             | ETA:  0:57:23\r"
     ]
    },
    {
     "name": "stdout",
     "output_type": "stream",
     "text": [
      "game:  1411 , mean loss: 0.43 , recent outcomes:  [1, 1, 1, 1, 1, 1, 1, 1, 1, 1]\n"
     ]
    },
    {
     "name": "stderr",
     "output_type": "stream",
     "text": [
      "training loop:  71% |##############################             | ETA:  0:56:17\r"
     ]
    },
    {
     "name": "stdout",
     "output_type": "stream",
     "text": [
      "game:  1421 , mean loss: 0.64 , recent outcomes:  [1, 1, 1, 1, 1, 1, 1, 1, 1, 1]\n"
     ]
    },
    {
     "name": "stderr",
     "output_type": "stream",
     "text": [
      "training loop:  71% |##############################             | ETA:  0:55:16\r"
     ]
    },
    {
     "name": "stdout",
     "output_type": "stream",
     "text": [
      "game:  1431 , mean loss: 0.63 , recent outcomes:  [1, 1, 1, 1, 1, 1, 1, 1, 1, 1]\n"
     ]
    },
    {
     "name": "stderr",
     "output_type": "stream",
     "text": [
      "training loop:  72% |##############################             | ETA:  0:54:11\r"
     ]
    },
    {
     "name": "stdout",
     "output_type": "stream",
     "text": [
      "game:  1441 , mean loss: 0.61 , recent outcomes:  [1, 1, 1, 1, 1, 1, 1, 1, 1, 1]\n"
     ]
    },
    {
     "name": "stderr",
     "output_type": "stream",
     "text": [
      "training loop:  72% |###############################            | ETA:  0:53:07\r"
     ]
    },
    {
     "name": "stdout",
     "output_type": "stream",
     "text": [
      "game:  1451 , mean loss: 0.72 , recent outcomes:  [1, 1, 1, 1, 1, 1, 1, 1, 1, 1]\n"
     ]
    },
    {
     "name": "stderr",
     "output_type": "stream",
     "text": [
      "training loop:  73% |###############################            | ETA:  0:52:05\r"
     ]
    },
    {
     "name": "stdout",
     "output_type": "stream",
     "text": [
      "game:  1461 , mean loss: 3.04 , recent outcomes:  [1, 1, 1, 1, -1, 1, 1, 1, 1, 1]\n"
     ]
    },
    {
     "name": "stderr",
     "output_type": "stream",
     "text": [
      "training loop:  73% |###############################            | ETA:  0:51:05\r"
     ]
    },
    {
     "name": "stdout",
     "output_type": "stream",
     "text": [
      "game:  1471 , mean loss: 2.78 , recent outcomes:  [1, 1, 1, 1, 1, 1, 1, 1, 1, 1]\n"
     ]
    },
    {
     "name": "stderr",
     "output_type": "stream",
     "text": [
      "training loop:  74% |###############################            | ETA:  0:50:02\r"
     ]
    },
    {
     "name": "stdout",
     "output_type": "stream",
     "text": [
      "game:  1481 , mean loss: 0.42 , recent outcomes:  [1, 1, 1, 1, 1, 1, 1, 1, 1, 1]\n"
     ]
    },
    {
     "name": "stderr",
     "output_type": "stream",
     "text": [
      "training loop:  74% |################################           | ETA:  0:49:01\r"
     ]
    },
    {
     "name": "stdout",
     "output_type": "stream",
     "text": [
      "game:  1491 , mean loss: 0.40 , recent outcomes:  [1, 1, 1, 1, 1, 1, 1, 1, 1, 1]\n"
     ]
    },
    {
     "name": "stderr",
     "output_type": "stream",
     "text": [
      "training loop:  75% |################################           | ETA:  0:47:57\r"
     ]
    },
    {
     "name": "stdout",
     "output_type": "stream",
     "text": [
      "game:  1501 , mean loss: 0.24 , recent outcomes:  [1, 1, 1, 1, 1, 1, 1, 1, 1, 1]\n"
     ]
    },
    {
     "name": "stderr",
     "output_type": "stream",
     "text": [
      "training loop:  75% |################################           | ETA:  0:46:54\r"
     ]
    },
    {
     "name": "stdout",
     "output_type": "stream",
     "text": [
      "game:  1511 , mean loss: 1.39 , recent outcomes:  [1, 1, 1, -1, 1, 1, 1, 1, 1, 1]\n"
     ]
    },
    {
     "name": "stderr",
     "output_type": "stream",
     "text": [
      "training loop:  76% |################################           | ETA:  0:45:55\r"
     ]
    },
    {
     "name": "stdout",
     "output_type": "stream",
     "text": [
      "game:  1521 , mean loss: 4.18 , recent outcomes:  [1, 1, 1, 1, 1, 1, 1, 1, -1, 1]\n"
     ]
    },
    {
     "name": "stderr",
     "output_type": "stream",
     "text": [
      "training loop:  76% |################################           | ETA:  0:44:54\r"
     ]
    },
    {
     "name": "stdout",
     "output_type": "stream",
     "text": [
      "game:  1531 , mean loss: 8.42 , recent outcomes:  [1, 1, -1, 1, 1, 1, 1, 1, 1, 1]\n"
     ]
    },
    {
     "name": "stderr",
     "output_type": "stream",
     "text": [
      "training loop:  77% |#################################          | ETA:  0:43:55\r"
     ]
    },
    {
     "name": "stdout",
     "output_type": "stream",
     "text": [
      "game:  1541 , mean loss: 6.61 , recent outcomes:  [1, 1, 1, 1, 1, 1, 1, 1, 1, 1]\n"
     ]
    },
    {
     "name": "stderr",
     "output_type": "stream",
     "text": [
      "training loop:  77% |#################################          | ETA:  0:42:59\r"
     ]
    },
    {
     "name": "stdout",
     "output_type": "stream",
     "text": [
      "game:  1551 , mean loss: 4.20 , recent outcomes:  [1, 1, 1, 1, 1, 1, 1, -1, 1, 1]\n"
     ]
    },
    {
     "name": "stderr",
     "output_type": "stream",
     "text": [
      "training loop:  78% |#################################          | ETA:  0:41:59\r"
     ]
    },
    {
     "name": "stdout",
     "output_type": "stream",
     "text": [
      "game:  1561 , mean loss: 3.77 , recent outcomes:  [1, 1, 1, 1, 1, 1, 1, 1, 1, 1]\n"
     ]
    },
    {
     "name": "stderr",
     "output_type": "stream",
     "text": [
      "training loop:  78% |#################################          | ETA:  0:40:59\r"
     ]
    },
    {
     "name": "stdout",
     "output_type": "stream",
     "text": [
      "game:  1571 , mean loss: 1.37 , recent outcomes:  [1, 1, 1, 1, 1, 1, 1, 1, 1, 1]\n"
     ]
    },
    {
     "name": "stderr",
     "output_type": "stream",
     "text": [
      "training loop:  79% |#################################          | ETA:  0:39:59\r"
     ]
    },
    {
     "name": "stdout",
     "output_type": "stream",
     "text": [
      "game:  1581 , mean loss: 1.64 , recent outcomes:  [1, 1, 1, 1, 1, 1, 1, 1, 1, 1]\n"
     ]
    },
    {
     "name": "stderr",
     "output_type": "stream",
     "text": [
      "training loop:  79% |##################################         | ETA:  0:39:01\r"
     ]
    },
    {
     "name": "stdout",
     "output_type": "stream",
     "text": [
      "game:  1591 , mean loss: 1.59 , recent outcomes:  [1, 1, 1, 1, 1, 1, 1, 1, 1, 1]\n"
     ]
    },
    {
     "name": "stderr",
     "output_type": "stream",
     "text": [
      "training loop:  80% |##################################         | ETA:  0:38:03\r"
     ]
    },
    {
     "name": "stdout",
     "output_type": "stream",
     "text": [
      "game:  1601 , mean loss: 1.02 , recent outcomes:  [1, 1, 1, 1, 1, 1, 1, 1, 1, 1]\n"
     ]
    },
    {
     "name": "stderr",
     "output_type": "stream",
     "text": [
      "training loop:  80% |##################################         | ETA:  0:37:01\r"
     ]
    },
    {
     "name": "stdout",
     "output_type": "stream",
     "text": [
      "game:  1611 , mean loss: 4.49 , recent outcomes:  [-1, 1, 1, 1, 1, 1, 1, 1, 1, 1]\n"
     ]
    },
    {
     "name": "stderr",
     "output_type": "stream",
     "text": [
      "training loop:  81% |##################################         | ETA:  0:36:00\r"
     ]
    },
    {
     "name": "stdout",
     "output_type": "stream",
     "text": [
      "game:  1621 , mean loss: 9.40 , recent outcomes:  [1, 1, -1, 1, 1, 1, 1, 1, 1, 1]\n"
     ]
    },
    {
     "name": "stderr",
     "output_type": "stream",
     "text": [
      "training loop:  81% |###################################        | ETA:  0:35:03\r"
     ]
    },
    {
     "name": "stdout",
     "output_type": "stream",
     "text": [
      "game:  1631 , mean loss: 7.59 , recent outcomes:  [1, 1, 1, 1, 1, 1, 1, 1, 1, 1]\n"
     ]
    },
    {
     "name": "stderr",
     "output_type": "stream",
     "text": [
      "training loop:  82% |###################################        | ETA:  0:34:06\r"
     ]
    },
    {
     "name": "stdout",
     "output_type": "stream",
     "text": [
      "game:  1641 , mean loss: 5.81 , recent outcomes:  [1, 1, -1, 1, 1, 1, 1, 1, 1, 1]\n"
     ]
    },
    {
     "name": "stderr",
     "output_type": "stream",
     "text": [
      "training loop:  82% |###################################        | ETA:  0:33:09\r"
     ]
    },
    {
     "name": "stdout",
     "output_type": "stream",
     "text": [
      "game:  1651 , mean loss: 6.01 , recent outcomes:  [1, 1, 1, 1, 1, 1, 1, 1, 1, 1]\n"
     ]
    },
    {
     "name": "stderr",
     "output_type": "stream",
     "text": [
      "training loop:  83% |###################################        | ETA:  0:32:13\r"
     ]
    },
    {
     "name": "stdout",
     "output_type": "stream",
     "text": [
      "game:  1661 , mean loss: 6.16 , recent outcomes:  [1, 1, 1, 1, 1, 1, -1, 1, 1, 1]\n"
     ]
    },
    {
     "name": "stderr",
     "output_type": "stream",
     "text": [
      "training loop:  83% |###################################        | ETA:  0:31:17\r"
     ]
    },
    {
     "name": "stdout",
     "output_type": "stream",
     "text": [
      "game:  1671 , mean loss: 6.40 , recent outcomes:  [1, 1, 1, 1, 1, 1, 1, -1, 1, 1]\n"
     ]
    },
    {
     "name": "stderr",
     "output_type": "stream",
     "text": [
      "training loop:  84% |####################################       | ETA:  0:30:22\r"
     ]
    },
    {
     "name": "stdout",
     "output_type": "stream",
     "text": [
      "game:  1681 , mean loss: 4.22 , recent outcomes:  [1, 1, 1, 1, 1, 1, 1, 1, 1, 1]\n"
     ]
    },
    {
     "name": "stderr",
     "output_type": "stream",
     "text": [
      "training loop:  84% |####################################       | ETA:  0:29:28\r"
     ]
    },
    {
     "name": "stdout",
     "output_type": "stream",
     "text": [
      "game:  1691 , mean loss: 3.22 , recent outcomes:  [1, 1, 1, 1, 1, 1, 1, 1, 1, 1]\n"
     ]
    },
    {
     "name": "stderr",
     "output_type": "stream",
     "text": [
      "training loop:  85% |####################################       | ETA:  0:28:32\r"
     ]
    },
    {
     "name": "stdout",
     "output_type": "stream",
     "text": [
      "game:  1701 , mean loss: 2.54 , recent outcomes:  [1, 1, 1, 1, 1, 1, 1, 1, 1, 1]\n"
     ]
    },
    {
     "name": "stderr",
     "output_type": "stream",
     "text": [
      "training loop:  85% |####################################       | ETA:  0:27:38\r"
     ]
    },
    {
     "name": "stdout",
     "output_type": "stream",
     "text": [
      "game:  1711 , mean loss: 1.25 , recent outcomes:  [1, 1, 1, 1, 1, 1, 1, 1, 1, 1]\n"
     ]
    },
    {
     "name": "stderr",
     "output_type": "stream",
     "text": [
      "training loop:  86% |#####################################      | ETA:  0:26:42\r"
     ]
    },
    {
     "name": "stdout",
     "output_type": "stream",
     "text": [
      "game:  1721 , mean loss: 0.71 , recent outcomes:  [1, 1, 1, 1, 1, 1, 1, 1, 1, 1]\n"
     ]
    },
    {
     "name": "stderr",
     "output_type": "stream",
     "text": [
      "training loop:  86% |#####################################      | ETA:  0:25:46\r"
     ]
    },
    {
     "name": "stdout",
     "output_type": "stream",
     "text": [
      "game:  1731 , mean loss: 3.34 , recent outcomes:  [1, 1, 1, 1, 1, 1, 1, 1, 1, -1]\n"
     ]
    },
    {
     "name": "stderr",
     "output_type": "stream",
     "text": [
      "training loop:  87% |#####################################      | ETA:  0:24:50\r"
     ]
    },
    {
     "name": "stdout",
     "output_type": "stream",
     "text": [
      "game:  1741 , mean loss: 4.03 , recent outcomes:  [1, 1, 1, 1, 1, 1, 1, 1, 1, 1]\n"
     ]
    },
    {
     "name": "stderr",
     "output_type": "stream",
     "text": [
      "training loop:  87% |#####################################      | ETA:  0:23:55\r"
     ]
    },
    {
     "name": "stdout",
     "output_type": "stream",
     "text": [
      "game:  1751 , mean loss: 2.44 , recent outcomes:  [1, -1, 1, 1, 1, 1, 1, 1, 1, 1]\n"
     ]
    },
    {
     "name": "stderr",
     "output_type": "stream",
     "text": [
      "training loop:  88% |#####################################      | ETA:  0:22:58\r"
     ]
    },
    {
     "name": "stdout",
     "output_type": "stream",
     "text": [
      "game:  1761 , mean loss: 1.87 , recent outcomes:  [1, 1, 1, 1, 1, 1, 1, 1, 1, 1]\n"
     ]
    },
    {
     "name": "stderr",
     "output_type": "stream",
     "text": [
      "training loop:  88% |######################################     | ETA:  0:22:01\r"
     ]
    },
    {
     "name": "stdout",
     "output_type": "stream",
     "text": [
      "game:  1771 , mean loss: 3.77 , recent outcomes:  [1, 1, 1, 1, 1, 1, 1, 1, 1, -1]\n"
     ]
    },
    {
     "name": "stderr",
     "output_type": "stream",
     "text": [
      "training loop:  89% |######################################     | ETA:  0:21:04\r"
     ]
    },
    {
     "name": "stdout",
     "output_type": "stream",
     "text": [
      "game:  1781 , mean loss: 4.25 , recent outcomes:  [1, 1, 1, 1, 1, 1, 1, 1, 1, 1]\n"
     ]
    },
    {
     "name": "stderr",
     "output_type": "stream",
     "text": [
      "training loop:  89% |######################################     | ETA:  0:20:05\r"
     ]
    },
    {
     "name": "stdout",
     "output_type": "stream",
     "text": [
      "game:  1791 , mean loss: 2.66 , recent outcomes:  [1, 1, 1, 1, 1, 1, 1, 1, 1, 1]\n"
     ]
    },
    {
     "name": "stderr",
     "output_type": "stream",
     "text": [
      "training loop:  90% |######################################     | ETA:  0:19:08\r"
     ]
    },
    {
     "name": "stdout",
     "output_type": "stream",
     "text": [
      "game:  1801 , mean loss: 10.08 , recent outcomes:  [1, 1, 1, -1, 1, 1, -1, 1, 1, -1]\n"
     ]
    },
    {
     "name": "stderr",
     "output_type": "stream",
     "text": [
      "training loop:  90% |######################################     | ETA:  0:18:12\r"
     ]
    },
    {
     "name": "stdout",
     "output_type": "stream",
     "text": [
      "game:  1811 , mean loss: 13.17 , recent outcomes:  [1, 1, 1, 1, 1, 1, -1, -1, 1, 1]\n"
     ]
    },
    {
     "name": "stderr",
     "output_type": "stream",
     "text": [
      "training loop:  91% |#######################################    | ETA:  0:17:15\r"
     ]
    },
    {
     "name": "stdout",
     "output_type": "stream",
     "text": [
      "game:  1821 , mean loss: 8.47 , recent outcomes:  [1, 1, 1, 1, 1, 1, 1, -1, 1, 1]\n"
     ]
    },
    {
     "name": "stderr",
     "output_type": "stream",
     "text": [
      "training loop:  91% |#######################################    | ETA:  0:16:20\r"
     ]
    },
    {
     "name": "stdout",
     "output_type": "stream",
     "text": [
      "game:  1831 , mean loss: 14.25 , recent outcomes:  [-1, 1, 1, -1, -1, 1, -1, 1, 1, 1]\n"
     ]
    },
    {
     "name": "stderr",
     "output_type": "stream",
     "text": [
      "training loop:  92% |#######################################    | ETA:  0:15:23\r"
     ]
    },
    {
     "name": "stdout",
     "output_type": "stream",
     "text": [
      "game:  1841 , mean loss: 13.18 , recent outcomes:  [-1, 1, 1, 1, 1, 1, 1, 1, 1, 1]\n"
     ]
    },
    {
     "name": "stderr",
     "output_type": "stream",
     "text": [
      "training loop:  92% |#######################################    | ETA:  0:14:27\r"
     ]
    },
    {
     "name": "stdout",
     "output_type": "stream",
     "text": [
      "game:  1851 , mean loss: 4.18 , recent outcomes:  [1, 1, 1, 1, 1, 1, 1, 1, 1, 1]\n"
     ]
    },
    {
     "name": "stderr",
     "output_type": "stream",
     "text": [
      "training loop:  93% |########################################   | ETA:  0:13:31\r"
     ]
    },
    {
     "name": "stdout",
     "output_type": "stream",
     "text": [
      "game:  1861 , mean loss: 4.70 , recent outcomes:  [1, 1, 1, 1, -1, 1, 1, 1, 1, 1]\n"
     ]
    },
    {
     "name": "stderr",
     "output_type": "stream",
     "text": [
      "training loop:  93% |########################################   | ETA:  0:12:33\r"
     ]
    },
    {
     "name": "stdout",
     "output_type": "stream",
     "text": [
      "game:  1871 , mean loss: 3.97 , recent outcomes:  [1, 1, 1, 1, 1, 1, 1, 1, 1, 1]\n"
     ]
    },
    {
     "name": "stderr",
     "output_type": "stream",
     "text": [
      "training loop:  94% |########################################   | ETA:  0:11:35\r"
     ]
    },
    {
     "name": "stdout",
     "output_type": "stream",
     "text": [
      "game:  1881 , mean loss: 1.20 , recent outcomes:  [1, 1, 1, 1, 1, 1, 1, 1, 1, 1]\n"
     ]
    },
    {
     "name": "stderr",
     "output_type": "stream",
     "text": [
      "training loop:  94% |########################################   | ETA:  0:10:37\r"
     ]
    },
    {
     "name": "stdout",
     "output_type": "stream",
     "text": [
      "game:  1891 , mean loss: 2.51 , recent outcomes:  [1, 1, 1, 1, -1, 1, 1, 1, 1, 1]\n"
     ]
    },
    {
     "name": "stderr",
     "output_type": "stream",
     "text": [
      "training loop:  95% |########################################   | ETA:  0:09:38\r"
     ]
    },
    {
     "name": "stdout",
     "output_type": "stream",
     "text": [
      "game:  1901 , mean loss: 2.78 , recent outcomes:  [1, 1, 1, 1, 1, 1, 1, 1, 1, 1]\n"
     ]
    },
    {
     "name": "stderr",
     "output_type": "stream",
     "text": [
      "training loop:  95% |#########################################  | ETA:  0:08:40\r"
     ]
    },
    {
     "name": "stdout",
     "output_type": "stream",
     "text": [
      "game:  1911 , mean loss: 3.49 , recent outcomes:  [1, 1, 1, 1, 1, 1, 1, 1, 1, -1]\n"
     ]
    },
    {
     "name": "stderr",
     "output_type": "stream",
     "text": [
      "training loop:  96% |#########################################  | ETA:  0:07:41\r"
     ]
    },
    {
     "name": "stdout",
     "output_type": "stream",
     "text": [
      "game:  1921 , mean loss: 3.68 , recent outcomes:  [1, 1, 1, 1, 1, 1, 1, 1, 1, 1]\n"
     ]
    },
    {
     "name": "stderr",
     "output_type": "stream",
     "text": [
      "training loop:  96% |#########################################  | ETA:  0:06:43\r"
     ]
    },
    {
     "name": "stdout",
     "output_type": "stream",
     "text": [
      "game:  1931 , mean loss: 1.16 , recent outcomes:  [1, 1, 1, 1, 1, 1, 1, 1, 1, 1]\n"
     ]
    },
    {
     "name": "stderr",
     "output_type": "stream",
     "text": [
      "training loop:  97% |#########################################  | ETA:  0:05:44\r"
     ]
    },
    {
     "name": "stdout",
     "output_type": "stream",
     "text": [
      "game:  1941 , mean loss: 0.71 , recent outcomes:  [1, 1, 1, 1, 1, 1, 1, 1, 1, 1]\n"
     ]
    },
    {
     "name": "stderr",
     "output_type": "stream",
     "text": [
      "training loop:  97% |#########################################  | ETA:  0:04:46\r"
     ]
    },
    {
     "name": "stdout",
     "output_type": "stream",
     "text": [
      "game:  1951 , mean loss: 1.28 , recent outcomes:  [1, 1, 1, 1, 1, 1, 1, -1, 1, 1]\n"
     ]
    },
    {
     "name": "stderr",
     "output_type": "stream",
     "text": [
      "training loop:  98% |########################################## | ETA:  0:03:47\r"
     ]
    },
    {
     "name": "stdout",
     "output_type": "stream",
     "text": [
      "game:  1961 , mean loss: 4.98 , recent outcomes:  [1, 1, 1, 1, 1, 1, -1, 1, 1, 1]\n"
     ]
    },
    {
     "name": "stderr",
     "output_type": "stream",
     "text": [
      "training loop:  98% |########################################## | ETA:  0:02:49\r"
     ]
    },
    {
     "name": "stdout",
     "output_type": "stream",
     "text": [
      "game:  1971 , mean loss: 4.76 , recent outcomes:  [1, 1, 1, 1, 1, 1, 1, 1, 1, 1]\n"
     ]
    },
    {
     "name": "stderr",
     "output_type": "stream",
     "text": [
      "training loop:  99% |########################################## | ETA:  0:01:50\r"
     ]
    },
    {
     "name": "stdout",
     "output_type": "stream",
     "text": [
      "game:  1981 , mean loss: 1.81 , recent outcomes:  [1, 1, 1, 1, 1, 1, 1, 1, 1, 1]\n"
     ]
    },
    {
     "name": "stderr",
     "output_type": "stream",
     "text": [
      "training loop:  99% |########################################## | ETA:  0:00:52\r"
     ]
    },
    {
     "name": "stdout",
     "output_type": "stream",
     "text": [
      "game:  1991 , mean loss: 3.88 , recent outcomes:  [1, 1, -1, 1, 1, 1, 1, 1, 1, 1]\n"
     ]
    },
    {
     "name": "stderr",
     "output_type": "stream",
     "text": [
      "training loop: 100% |###########################################| Time: 3:14:38\n"
     ]
    }
   ],
   "source": [
    "# train our agent\n",
    "\n",
    "from collections import deque\n",
    "import MCTS\n",
    "\n",
    "# try a higher number\n",
    "episodes = 2000\n",
    "\n",
    "import progressbar as pb\n",
    "widget = ['training loop: ', pb.Percentage(), ' ', \n",
    "          pb.Bar(), ' ', pb.ETA() ]\n",
    "timer = pb.ProgressBar(widgets=widget, maxval=episodes).start()\n",
    "\n",
    "outcomes = []\n",
    "policy_loss = []\n",
    "\n",
    "Nmax = 1000\n",
    "\n",
    "for e in range(episodes):\n",
    "\n",
    "    mytree = MCTS.Node(game)\n",
    "    logterm = []\n",
    "    vterm = []\n",
    "    \n",
    "    while mytree.outcome is None:\n",
    "        for _ in range(Nmax):\n",
    "            mytree.explore(policy)\n",
    "            if mytree.N >= Nmax:\n",
    "                break\n",
    "            \n",
    "        current_player = mytree.game.player\n",
    "        mytree, (v, nn_v, p, nn_p) = mytree.next()\n",
    "        mytree.detach_mother()\n",
    "        \n",
    "        loglist = torch.log(nn_p)*p\n",
    "        constant = torch.where(p>0, p*torch.log(p),torch.tensor(0.))\n",
    "        logterm.append(-torch.sum(loglist-constant))\n",
    "\n",
    "        vterm.append(nn_v*current_player)\n",
    "        \n",
    "    # we compute the \"policy_loss\" for computing gradient\n",
    "    outcome = mytree.outcome\n",
    "    outcomes.append(outcome)\n",
    "    \n",
    "    loss = torch.sum( (torch.stack(vterm)-outcome)**2 + torch.stack(logterm) )\n",
    "    optimizer.zero_grad()\n",
    "    loss.backward()\n",
    "    policy_loss.append(float(loss))\n",
    "\n",
    "    optimizer.step()\n",
    "    \n",
    "    if e%10==0:\n",
    "        print(\"game: \",e+1, \", mean loss: {:3.2f}\".format(np.mean(policy_loss[-20:])),\n",
    "              \", recent outcomes: \", outcomes[-10:])\n",
    "    \n",
    "    if e%500==0:\n",
    "        torch.save(policy,'6-6-4-pie-{:d}.mypolicy'.format(e))\n",
    "    del loss\n",
    "    \n",
    "    timer.update(e+1)\n",
    "    \n",
    "timer.finish()\n"
   ]
  },
  {
   "cell_type": "markdown",
   "metadata": {},
   "source": [
    "# setup environment to pit your AI against the challenge policy '6-6-4-pie.policy'"
   ]
  },
  {
   "cell_type": "code",
   "execution_count": 9,
   "metadata": {},
   "outputs": [
    {
     "name": "stderr",
     "output_type": "stream",
     "text": [
      "/opt/conda/lib/python3.6/site-packages/torch/serialization.py:367: SourceChangeWarning: source code of class 'torch.nn.modules.conv.Conv2d' has changed. you can retrieve the original source code by accessing the object's source attribute or set `torch.nn.Module.dump_patches = True` and use the patch tool to revert the changes.\n",
      "  warnings.warn(msg, SourceChangeWarning)\n",
      "/opt/conda/lib/python3.6/site-packages/torch/serialization.py:367: SourceChangeWarning: source code of class 'torch.nn.modules.linear.Linear' has changed. you can retrieve the original source code by accessing the object's source attribute or set `torch.nn.Module.dump_patches = True` and use the patch tool to revert the changes.\n",
      "  warnings.warn(msg, SourceChangeWarning)\n"
     ]
    }
   ],
   "source": [
    "challenge_policy = torch.load('6-6-4-pie.policy')\n",
    "\n",
    "def Challenge_Player_MCTS(game):\n",
    "    mytree = MCTS.Node(copy(game))\n",
    "    for _ in range(1000):\n",
    "        mytree.explore(challenge_policy)\n",
    "       \n",
    "    mytreenext, (v, nn_v, p, nn_p) = mytree.next(temperature=0.1)\n",
    "    \n",
    "    return mytreenext.game.last_move\n",
    "\n"
   ]
  },
  {
   "cell_type": "markdown",
   "metadata": {},
   "source": [
    "# Let the game begin!"
   ]
  },
  {
   "cell_type": "code",
   "execution_count": 11,
   "metadata": {},
   "outputs": [
    {
     "data": {
      "application/javascript": [
       "/* Put everything inside the global mpl namespace */\n",
       "window.mpl = {};\n",
       "\n",
       "\n",
       "mpl.get_websocket_type = function() {\n",
       "    if (typeof(WebSocket) !== 'undefined') {\n",
       "        return WebSocket;\n",
       "    } else if (typeof(MozWebSocket) !== 'undefined') {\n",
       "        return MozWebSocket;\n",
       "    } else {\n",
       "        alert('Your browser does not have WebSocket support.' +\n",
       "              'Please try Chrome, Safari or Firefox ≥ 6. ' +\n",
       "              'Firefox 4 and 5 are also supported but you ' +\n",
       "              'have to enable WebSockets in about:config.');\n",
       "    };\n",
       "}\n",
       "\n",
       "mpl.figure = function(figure_id, websocket, ondownload, parent_element) {\n",
       "    this.id = figure_id;\n",
       "\n",
       "    this.ws = websocket;\n",
       "\n",
       "    this.supports_binary = (this.ws.binaryType != undefined);\n",
       "\n",
       "    if (!this.supports_binary) {\n",
       "        var warnings = document.getElementById(\"mpl-warnings\");\n",
       "        if (warnings) {\n",
       "            warnings.style.display = 'block';\n",
       "            warnings.textContent = (\n",
       "                \"This browser does not support binary websocket messages. \" +\n",
       "                    \"Performance may be slow.\");\n",
       "        }\n",
       "    }\n",
       "\n",
       "    this.imageObj = new Image();\n",
       "\n",
       "    this.context = undefined;\n",
       "    this.message = undefined;\n",
       "    this.canvas = undefined;\n",
       "    this.rubberband_canvas = undefined;\n",
       "    this.rubberband_context = undefined;\n",
       "    this.format_dropdown = undefined;\n",
       "\n",
       "    this.image_mode = 'full';\n",
       "\n",
       "    this.root = $('<div/>');\n",
       "    this._root_extra_style(this.root)\n",
       "    this.root.attr('style', 'display: inline-block');\n",
       "\n",
       "    $(parent_element).append(this.root);\n",
       "\n",
       "    this._init_header(this);\n",
       "    this._init_canvas(this);\n",
       "    this._init_toolbar(this);\n",
       "\n",
       "    var fig = this;\n",
       "\n",
       "    this.waiting = false;\n",
       "\n",
       "    this.ws.onopen =  function () {\n",
       "            fig.send_message(\"supports_binary\", {value: fig.supports_binary});\n",
       "            fig.send_message(\"send_image_mode\", {});\n",
       "            if (mpl.ratio != 1) {\n",
       "                fig.send_message(\"set_dpi_ratio\", {'dpi_ratio': mpl.ratio});\n",
       "            }\n",
       "            fig.send_message(\"refresh\", {});\n",
       "        }\n",
       "\n",
       "    this.imageObj.onload = function() {\n",
       "            if (fig.image_mode == 'full') {\n",
       "                // Full images could contain transparency (where diff images\n",
       "                // almost always do), so we need to clear the canvas so that\n",
       "                // there is no ghosting.\n",
       "                fig.context.clearRect(0, 0, fig.canvas.width, fig.canvas.height);\n",
       "            }\n",
       "            fig.context.drawImage(fig.imageObj, 0, 0);\n",
       "        };\n",
       "\n",
       "    this.imageObj.onunload = function() {\n",
       "        fig.ws.close();\n",
       "    }\n",
       "\n",
       "    this.ws.onmessage = this._make_on_message_function(this);\n",
       "\n",
       "    this.ondownload = ondownload;\n",
       "}\n",
       "\n",
       "mpl.figure.prototype._init_header = function() {\n",
       "    var titlebar = $(\n",
       "        '<div class=\"ui-dialog-titlebar ui-widget-header ui-corner-all ' +\n",
       "        'ui-helper-clearfix\"/>');\n",
       "    var titletext = $(\n",
       "        '<div class=\"ui-dialog-title\" style=\"width: 100%; ' +\n",
       "        'text-align: center; padding: 3px;\"/>');\n",
       "    titlebar.append(titletext)\n",
       "    this.root.append(titlebar);\n",
       "    this.header = titletext[0];\n",
       "}\n",
       "\n",
       "\n",
       "\n",
       "mpl.figure.prototype._canvas_extra_style = function(canvas_div) {\n",
       "\n",
       "}\n",
       "\n",
       "\n",
       "mpl.figure.prototype._root_extra_style = function(canvas_div) {\n",
       "\n",
       "}\n",
       "\n",
       "mpl.figure.prototype._init_canvas = function() {\n",
       "    var fig = this;\n",
       "\n",
       "    var canvas_div = $('<div/>');\n",
       "\n",
       "    canvas_div.attr('style', 'position: relative; clear: both; outline: 0');\n",
       "\n",
       "    function canvas_keyboard_event(event) {\n",
       "        return fig.key_event(event, event['data']);\n",
       "    }\n",
       "\n",
       "    canvas_div.keydown('key_press', canvas_keyboard_event);\n",
       "    canvas_div.keyup('key_release', canvas_keyboard_event);\n",
       "    this.canvas_div = canvas_div\n",
       "    this._canvas_extra_style(canvas_div)\n",
       "    this.root.append(canvas_div);\n",
       "\n",
       "    var canvas = $('<canvas/>');\n",
       "    canvas.addClass('mpl-canvas');\n",
       "    canvas.attr('style', \"left: 0; top: 0; z-index: 0; outline: 0\")\n",
       "\n",
       "    this.canvas = canvas[0];\n",
       "    this.context = canvas[0].getContext(\"2d\");\n",
       "\n",
       "    var backingStore = this.context.backingStorePixelRatio ||\n",
       "\tthis.context.webkitBackingStorePixelRatio ||\n",
       "\tthis.context.mozBackingStorePixelRatio ||\n",
       "\tthis.context.msBackingStorePixelRatio ||\n",
       "\tthis.context.oBackingStorePixelRatio ||\n",
       "\tthis.context.backingStorePixelRatio || 1;\n",
       "\n",
       "    mpl.ratio = (window.devicePixelRatio || 1) / backingStore;\n",
       "\n",
       "    var rubberband = $('<canvas/>');\n",
       "    rubberband.attr('style', \"position: absolute; left: 0; top: 0; z-index: 1;\")\n",
       "\n",
       "    var pass_mouse_events = true;\n",
       "\n",
       "    canvas_div.resizable({\n",
       "        start: function(event, ui) {\n",
       "            pass_mouse_events = false;\n",
       "        },\n",
       "        resize: function(event, ui) {\n",
       "            fig.request_resize(ui.size.width, ui.size.height);\n",
       "        },\n",
       "        stop: function(event, ui) {\n",
       "            pass_mouse_events = true;\n",
       "            fig.request_resize(ui.size.width, ui.size.height);\n",
       "        },\n",
       "    });\n",
       "\n",
       "    function mouse_event_fn(event) {\n",
       "        if (pass_mouse_events)\n",
       "            return fig.mouse_event(event, event['data']);\n",
       "    }\n",
       "\n",
       "    rubberband.mousedown('button_press', mouse_event_fn);\n",
       "    rubberband.mouseup('button_release', mouse_event_fn);\n",
       "    // Throttle sequential mouse events to 1 every 20ms.\n",
       "    rubberband.mousemove('motion_notify', mouse_event_fn);\n",
       "\n",
       "    rubberband.mouseenter('figure_enter', mouse_event_fn);\n",
       "    rubberband.mouseleave('figure_leave', mouse_event_fn);\n",
       "\n",
       "    canvas_div.on(\"wheel\", function (event) {\n",
       "        event = event.originalEvent;\n",
       "        event['data'] = 'scroll'\n",
       "        if (event.deltaY < 0) {\n",
       "            event.step = 1;\n",
       "        } else {\n",
       "            event.step = -1;\n",
       "        }\n",
       "        mouse_event_fn(event);\n",
       "    });\n",
       "\n",
       "    canvas_div.append(canvas);\n",
       "    canvas_div.append(rubberband);\n",
       "\n",
       "    this.rubberband = rubberband;\n",
       "    this.rubberband_canvas = rubberband[0];\n",
       "    this.rubberband_context = rubberband[0].getContext(\"2d\");\n",
       "    this.rubberband_context.strokeStyle = \"#000000\";\n",
       "\n",
       "    this._resize_canvas = function(width, height) {\n",
       "        // Keep the size of the canvas, canvas container, and rubber band\n",
       "        // canvas in synch.\n",
       "        canvas_div.css('width', width)\n",
       "        canvas_div.css('height', height)\n",
       "\n",
       "        canvas.attr('width', width * mpl.ratio);\n",
       "        canvas.attr('height', height * mpl.ratio);\n",
       "        canvas.attr('style', 'width: ' + width + 'px; height: ' + height + 'px;');\n",
       "\n",
       "        rubberband.attr('width', width);\n",
       "        rubberband.attr('height', height);\n",
       "    }\n",
       "\n",
       "    // Set the figure to an initial 600x600px, this will subsequently be updated\n",
       "    // upon first draw.\n",
       "    this._resize_canvas(600, 600);\n",
       "\n",
       "    // Disable right mouse context menu.\n",
       "    $(this.rubberband_canvas).bind(\"contextmenu\",function(e){\n",
       "        return false;\n",
       "    });\n",
       "\n",
       "    function set_focus () {\n",
       "        canvas.focus();\n",
       "        canvas_div.focus();\n",
       "    }\n",
       "\n",
       "    window.setTimeout(set_focus, 100);\n",
       "}\n",
       "\n",
       "mpl.figure.prototype._init_toolbar = function() {\n",
       "    var fig = this;\n",
       "\n",
       "    var nav_element = $('<div/>')\n",
       "    nav_element.attr('style', 'width: 100%');\n",
       "    this.root.append(nav_element);\n",
       "\n",
       "    // Define a callback function for later on.\n",
       "    function toolbar_event(event) {\n",
       "        return fig.toolbar_button_onclick(event['data']);\n",
       "    }\n",
       "    function toolbar_mouse_event(event) {\n",
       "        return fig.toolbar_button_onmouseover(event['data']);\n",
       "    }\n",
       "\n",
       "    for(var toolbar_ind in mpl.toolbar_items) {\n",
       "        var name = mpl.toolbar_items[toolbar_ind][0];\n",
       "        var tooltip = mpl.toolbar_items[toolbar_ind][1];\n",
       "        var image = mpl.toolbar_items[toolbar_ind][2];\n",
       "        var method_name = mpl.toolbar_items[toolbar_ind][3];\n",
       "\n",
       "        if (!name) {\n",
       "            // put a spacer in here.\n",
       "            continue;\n",
       "        }\n",
       "        var button = $('<button/>');\n",
       "        button.addClass('ui-button ui-widget ui-state-default ui-corner-all ' +\n",
       "                        'ui-button-icon-only');\n",
       "        button.attr('role', 'button');\n",
       "        button.attr('aria-disabled', 'false');\n",
       "        button.click(method_name, toolbar_event);\n",
       "        button.mouseover(tooltip, toolbar_mouse_event);\n",
       "\n",
       "        var icon_img = $('<span/>');\n",
       "        icon_img.addClass('ui-button-icon-primary ui-icon');\n",
       "        icon_img.addClass(image);\n",
       "        icon_img.addClass('ui-corner-all');\n",
       "\n",
       "        var tooltip_span = $('<span/>');\n",
       "        tooltip_span.addClass('ui-button-text');\n",
       "        tooltip_span.html(tooltip);\n",
       "\n",
       "        button.append(icon_img);\n",
       "        button.append(tooltip_span);\n",
       "\n",
       "        nav_element.append(button);\n",
       "    }\n",
       "\n",
       "    var fmt_picker_span = $('<span/>');\n",
       "\n",
       "    var fmt_picker = $('<select/>');\n",
       "    fmt_picker.addClass('mpl-toolbar-option ui-widget ui-widget-content');\n",
       "    fmt_picker_span.append(fmt_picker);\n",
       "    nav_element.append(fmt_picker_span);\n",
       "    this.format_dropdown = fmt_picker[0];\n",
       "\n",
       "    for (var ind in mpl.extensions) {\n",
       "        var fmt = mpl.extensions[ind];\n",
       "        var option = $(\n",
       "            '<option/>', {selected: fmt === mpl.default_extension}).html(fmt);\n",
       "        fmt_picker.append(option)\n",
       "    }\n",
       "\n",
       "    // Add hover states to the ui-buttons\n",
       "    $( \".ui-button\" ).hover(\n",
       "        function() { $(this).addClass(\"ui-state-hover\");},\n",
       "        function() { $(this).removeClass(\"ui-state-hover\");}\n",
       "    );\n",
       "\n",
       "    var status_bar = $('<span class=\"mpl-message\"/>');\n",
       "    nav_element.append(status_bar);\n",
       "    this.message = status_bar[0];\n",
       "}\n",
       "\n",
       "mpl.figure.prototype.request_resize = function(x_pixels, y_pixels) {\n",
       "    // Request matplotlib to resize the figure. Matplotlib will then trigger a resize in the client,\n",
       "    // which will in turn request a refresh of the image.\n",
       "    this.send_message('resize', {'width': x_pixels, 'height': y_pixels});\n",
       "}\n",
       "\n",
       "mpl.figure.prototype.send_message = function(type, properties) {\n",
       "    properties['type'] = type;\n",
       "    properties['figure_id'] = this.id;\n",
       "    this.ws.send(JSON.stringify(properties));\n",
       "}\n",
       "\n",
       "mpl.figure.prototype.send_draw_message = function() {\n",
       "    if (!this.waiting) {\n",
       "        this.waiting = true;\n",
       "        this.ws.send(JSON.stringify({type: \"draw\", figure_id: this.id}));\n",
       "    }\n",
       "}\n",
       "\n",
       "\n",
       "mpl.figure.prototype.handle_save = function(fig, msg) {\n",
       "    var format_dropdown = fig.format_dropdown;\n",
       "    var format = format_dropdown.options[format_dropdown.selectedIndex].value;\n",
       "    fig.ondownload(fig, format);\n",
       "}\n",
       "\n",
       "\n",
       "mpl.figure.prototype.handle_resize = function(fig, msg) {\n",
       "    var size = msg['size'];\n",
       "    if (size[0] != fig.canvas.width || size[1] != fig.canvas.height) {\n",
       "        fig._resize_canvas(size[0], size[1]);\n",
       "        fig.send_message(\"refresh\", {});\n",
       "    };\n",
       "}\n",
       "\n",
       "mpl.figure.prototype.handle_rubberband = function(fig, msg) {\n",
       "    var x0 = msg['x0'] / mpl.ratio;\n",
       "    var y0 = (fig.canvas.height - msg['y0']) / mpl.ratio;\n",
       "    var x1 = msg['x1'] / mpl.ratio;\n",
       "    var y1 = (fig.canvas.height - msg['y1']) / mpl.ratio;\n",
       "    x0 = Math.floor(x0) + 0.5;\n",
       "    y0 = Math.floor(y0) + 0.5;\n",
       "    x1 = Math.floor(x1) + 0.5;\n",
       "    y1 = Math.floor(y1) + 0.5;\n",
       "    var min_x = Math.min(x0, x1);\n",
       "    var min_y = Math.min(y0, y1);\n",
       "    var width = Math.abs(x1 - x0);\n",
       "    var height = Math.abs(y1 - y0);\n",
       "\n",
       "    fig.rubberband_context.clearRect(\n",
       "        0, 0, fig.canvas.width, fig.canvas.height);\n",
       "\n",
       "    fig.rubberband_context.strokeRect(min_x, min_y, width, height);\n",
       "}\n",
       "\n",
       "mpl.figure.prototype.handle_figure_label = function(fig, msg) {\n",
       "    // Updates the figure title.\n",
       "    fig.header.textContent = msg['label'];\n",
       "}\n",
       "\n",
       "mpl.figure.prototype.handle_cursor = function(fig, msg) {\n",
       "    var cursor = msg['cursor'];\n",
       "    switch(cursor)\n",
       "    {\n",
       "    case 0:\n",
       "        cursor = 'pointer';\n",
       "        break;\n",
       "    case 1:\n",
       "        cursor = 'default';\n",
       "        break;\n",
       "    case 2:\n",
       "        cursor = 'crosshair';\n",
       "        break;\n",
       "    case 3:\n",
       "        cursor = 'move';\n",
       "        break;\n",
       "    }\n",
       "    fig.rubberband_canvas.style.cursor = cursor;\n",
       "}\n",
       "\n",
       "mpl.figure.prototype.handle_message = function(fig, msg) {\n",
       "    fig.message.textContent = msg['message'];\n",
       "}\n",
       "\n",
       "mpl.figure.prototype.handle_draw = function(fig, msg) {\n",
       "    // Request the server to send over a new figure.\n",
       "    fig.send_draw_message();\n",
       "}\n",
       "\n",
       "mpl.figure.prototype.handle_image_mode = function(fig, msg) {\n",
       "    fig.image_mode = msg['mode'];\n",
       "}\n",
       "\n",
       "mpl.figure.prototype.updated_canvas_event = function() {\n",
       "    // Called whenever the canvas gets updated.\n",
       "    this.send_message(\"ack\", {});\n",
       "}\n",
       "\n",
       "// A function to construct a web socket function for onmessage handling.\n",
       "// Called in the figure constructor.\n",
       "mpl.figure.prototype._make_on_message_function = function(fig) {\n",
       "    return function socket_on_message(evt) {\n",
       "        if (evt.data instanceof Blob) {\n",
       "            /* FIXME: We get \"Resource interpreted as Image but\n",
       "             * transferred with MIME type text/plain:\" errors on\n",
       "             * Chrome.  But how to set the MIME type?  It doesn't seem\n",
       "             * to be part of the websocket stream */\n",
       "            evt.data.type = \"image/png\";\n",
       "\n",
       "            /* Free the memory for the previous frames */\n",
       "            if (fig.imageObj.src) {\n",
       "                (window.URL || window.webkitURL).revokeObjectURL(\n",
       "                    fig.imageObj.src);\n",
       "            }\n",
       "\n",
       "            fig.imageObj.src = (window.URL || window.webkitURL).createObjectURL(\n",
       "                evt.data);\n",
       "            fig.updated_canvas_event();\n",
       "            fig.waiting = false;\n",
       "            return;\n",
       "        }\n",
       "        else if (typeof evt.data === 'string' && evt.data.slice(0, 21) == \"data:image/png;base64\") {\n",
       "            fig.imageObj.src = evt.data;\n",
       "            fig.updated_canvas_event();\n",
       "            fig.waiting = false;\n",
       "            return;\n",
       "        }\n",
       "\n",
       "        var msg = JSON.parse(evt.data);\n",
       "        var msg_type = msg['type'];\n",
       "\n",
       "        // Call the  \"handle_{type}\" callback, which takes\n",
       "        // the figure and JSON message as its only arguments.\n",
       "        try {\n",
       "            var callback = fig[\"handle_\" + msg_type];\n",
       "        } catch (e) {\n",
       "            console.log(\"No handler for the '\" + msg_type + \"' message type: \", msg);\n",
       "            return;\n",
       "        }\n",
       "\n",
       "        if (callback) {\n",
       "            try {\n",
       "                // console.log(\"Handling '\" + msg_type + \"' message: \", msg);\n",
       "                callback(fig, msg);\n",
       "            } catch (e) {\n",
       "                console.log(\"Exception inside the 'handler_\" + msg_type + \"' callback:\", e, e.stack, msg);\n",
       "            }\n",
       "        }\n",
       "    };\n",
       "}\n",
       "\n",
       "// from http://stackoverflow.com/questions/1114465/getting-mouse-location-in-canvas\n",
       "mpl.findpos = function(e) {\n",
       "    //this section is from http://www.quirksmode.org/js/events_properties.html\n",
       "    var targ;\n",
       "    if (!e)\n",
       "        e = window.event;\n",
       "    if (e.target)\n",
       "        targ = e.target;\n",
       "    else if (e.srcElement)\n",
       "        targ = e.srcElement;\n",
       "    if (targ.nodeType == 3) // defeat Safari bug\n",
       "        targ = targ.parentNode;\n",
       "\n",
       "    // jQuery normalizes the pageX and pageY\n",
       "    // pageX,Y are the mouse positions relative to the document\n",
       "    // offset() returns the position of the element relative to the document\n",
       "    var x = e.pageX - $(targ).offset().left;\n",
       "    var y = e.pageY - $(targ).offset().top;\n",
       "\n",
       "    return {\"x\": x, \"y\": y};\n",
       "};\n",
       "\n",
       "/*\n",
       " * return a copy of an object with only non-object keys\n",
       " * we need this to avoid circular references\n",
       " * http://stackoverflow.com/a/24161582/3208463\n",
       " */\n",
       "function simpleKeys (original) {\n",
       "  return Object.keys(original).reduce(function (obj, key) {\n",
       "    if (typeof original[key] !== 'object')\n",
       "        obj[key] = original[key]\n",
       "    return obj;\n",
       "  }, {});\n",
       "}\n",
       "\n",
       "mpl.figure.prototype.mouse_event = function(event, name) {\n",
       "    var canvas_pos = mpl.findpos(event)\n",
       "\n",
       "    if (name === 'button_press')\n",
       "    {\n",
       "        this.canvas.focus();\n",
       "        this.canvas_div.focus();\n",
       "    }\n",
       "\n",
       "    var x = canvas_pos.x * mpl.ratio;\n",
       "    var y = canvas_pos.y * mpl.ratio;\n",
       "\n",
       "    this.send_message(name, {x: x, y: y, button: event.button,\n",
       "                             step: event.step,\n",
       "                             guiEvent: simpleKeys(event)});\n",
       "\n",
       "    /* This prevents the web browser from automatically changing to\n",
       "     * the text insertion cursor when the button is pressed.  We want\n",
       "     * to control all of the cursor setting manually through the\n",
       "     * 'cursor' event from matplotlib */\n",
       "    event.preventDefault();\n",
       "    return false;\n",
       "}\n",
       "\n",
       "mpl.figure.prototype._key_event_extra = function(event, name) {\n",
       "    // Handle any extra behaviour associated with a key event\n",
       "}\n",
       "\n",
       "mpl.figure.prototype.key_event = function(event, name) {\n",
       "\n",
       "    // Prevent repeat events\n",
       "    if (name == 'key_press')\n",
       "    {\n",
       "        if (event.which === this._key)\n",
       "            return;\n",
       "        else\n",
       "            this._key = event.which;\n",
       "    }\n",
       "    if (name == 'key_release')\n",
       "        this._key = null;\n",
       "\n",
       "    var value = '';\n",
       "    if (event.ctrlKey && event.which != 17)\n",
       "        value += \"ctrl+\";\n",
       "    if (event.altKey && event.which != 18)\n",
       "        value += \"alt+\";\n",
       "    if (event.shiftKey && event.which != 16)\n",
       "        value += \"shift+\";\n",
       "\n",
       "    value += 'k';\n",
       "    value += event.which.toString();\n",
       "\n",
       "    this._key_event_extra(event, name);\n",
       "\n",
       "    this.send_message(name, {key: value,\n",
       "                             guiEvent: simpleKeys(event)});\n",
       "    return false;\n",
       "}\n",
       "\n",
       "mpl.figure.prototype.toolbar_button_onclick = function(name) {\n",
       "    if (name == 'download') {\n",
       "        this.handle_save(this, null);\n",
       "    } else {\n",
       "        this.send_message(\"toolbar_button\", {name: name});\n",
       "    }\n",
       "};\n",
       "\n",
       "mpl.figure.prototype.toolbar_button_onmouseover = function(tooltip) {\n",
       "    this.message.textContent = tooltip;\n",
       "};\n",
       "mpl.toolbar_items = [[\"Home\", \"Reset original view\", \"fa fa-home icon-home\", \"home\"], [\"Back\", \"Back to  previous view\", \"fa fa-arrow-left icon-arrow-left\", \"back\"], [\"Forward\", \"Forward to next view\", \"fa fa-arrow-right icon-arrow-right\", \"forward\"], [\"\", \"\", \"\", \"\"], [\"Pan\", \"Pan axes with left mouse, zoom with right\", \"fa fa-arrows icon-move\", \"pan\"], [\"Zoom\", \"Zoom to rectangle\", \"fa fa-square-o icon-check-empty\", \"zoom\"], [\"\", \"\", \"\", \"\"], [\"Download\", \"Download plot\", \"fa fa-floppy-o icon-save\", \"download\"]];\n",
       "\n",
       "mpl.extensions = [\"eps\", \"jpeg\", \"pdf\", \"png\", \"ps\", \"raw\", \"svg\", \"tif\"];\n",
       "\n",
       "mpl.default_extension = \"png\";var comm_websocket_adapter = function(comm) {\n",
       "    // Create a \"websocket\"-like object which calls the given IPython comm\n",
       "    // object with the appropriate methods. Currently this is a non binary\n",
       "    // socket, so there is still some room for performance tuning.\n",
       "    var ws = {};\n",
       "\n",
       "    ws.close = function() {\n",
       "        comm.close()\n",
       "    };\n",
       "    ws.send = function(m) {\n",
       "        //console.log('sending', m);\n",
       "        comm.send(m);\n",
       "    };\n",
       "    // Register the callback with on_msg.\n",
       "    comm.on_msg(function(msg) {\n",
       "        //console.log('receiving', msg['content']['data'], msg);\n",
       "        // Pass the mpl event to the overriden (by mpl) onmessage function.\n",
       "        ws.onmessage(msg['content']['data'])\n",
       "    });\n",
       "    return ws;\n",
       "}\n",
       "\n",
       "mpl.mpl_figure_comm = function(comm, msg) {\n",
       "    // This is the function which gets called when the mpl process\n",
       "    // starts-up an IPython Comm through the \"matplotlib\" channel.\n",
       "\n",
       "    var id = msg.content.data.id;\n",
       "    // Get hold of the div created by the display call when the Comm\n",
       "    // socket was opened in Python.\n",
       "    var element = $(\"#\" + id);\n",
       "    var ws_proxy = comm_websocket_adapter(comm)\n",
       "\n",
       "    function ondownload(figure, format) {\n",
       "        window.open(figure.imageObj.src);\n",
       "    }\n",
       "\n",
       "    var fig = new mpl.figure(id, ws_proxy,\n",
       "                           ondownload,\n",
       "                           element.get(0));\n",
       "\n",
       "    // Call onopen now - mpl needs it, as it is assuming we've passed it a real\n",
       "    // web socket which is closed, not our websocket->open comm proxy.\n",
       "    ws_proxy.onopen();\n",
       "\n",
       "    fig.parent_element = element.get(0);\n",
       "    fig.cell_info = mpl.find_output_cell(\"<div id='\" + id + \"'></div>\");\n",
       "    if (!fig.cell_info) {\n",
       "        console.error(\"Failed to find cell for figure\", id, fig);\n",
       "        return;\n",
       "    }\n",
       "\n",
       "    var output_index = fig.cell_info[2]\n",
       "    var cell = fig.cell_info[0];\n",
       "\n",
       "};\n",
       "\n",
       "mpl.figure.prototype.handle_close = function(fig, msg) {\n",
       "    var width = fig.canvas.width/mpl.ratio\n",
       "    fig.root.unbind('remove')\n",
       "\n",
       "    // Update the output cell to use the data from the current canvas.\n",
       "    fig.push_to_output();\n",
       "    var dataURL = fig.canvas.toDataURL();\n",
       "    // Re-enable the keyboard manager in IPython - without this line, in FF,\n",
       "    // the notebook keyboard shortcuts fail.\n",
       "    IPython.keyboard_manager.enable()\n",
       "    $(fig.parent_element).html('<img src=\"' + dataURL + '\" width=\"' + width + '\">');\n",
       "    fig.close_ws(fig, msg);\n",
       "}\n",
       "\n",
       "mpl.figure.prototype.close_ws = function(fig, msg){\n",
       "    fig.send_message('closing', msg);\n",
       "    // fig.ws.close()\n",
       "}\n",
       "\n",
       "mpl.figure.prototype.push_to_output = function(remove_interactive) {\n",
       "    // Turn the data on the canvas into data in the output cell.\n",
       "    var width = this.canvas.width/mpl.ratio\n",
       "    var dataURL = this.canvas.toDataURL();\n",
       "    this.cell_info[1]['text/html'] = '<img src=\"' + dataURL + '\" width=\"' + width + '\">';\n",
       "}\n",
       "\n",
       "mpl.figure.prototype.updated_canvas_event = function() {\n",
       "    // Tell IPython that the notebook contents must change.\n",
       "    IPython.notebook.set_dirty(true);\n",
       "    this.send_message(\"ack\", {});\n",
       "    var fig = this;\n",
       "    // Wait a second, then push the new image to the DOM so\n",
       "    // that it is saved nicely (might be nice to debounce this).\n",
       "    setTimeout(function () { fig.push_to_output() }, 1000);\n",
       "}\n",
       "\n",
       "mpl.figure.prototype._init_toolbar = function() {\n",
       "    var fig = this;\n",
       "\n",
       "    var nav_element = $('<div/>')\n",
       "    nav_element.attr('style', 'width: 100%');\n",
       "    this.root.append(nav_element);\n",
       "\n",
       "    // Define a callback function for later on.\n",
       "    function toolbar_event(event) {\n",
       "        return fig.toolbar_button_onclick(event['data']);\n",
       "    }\n",
       "    function toolbar_mouse_event(event) {\n",
       "        return fig.toolbar_button_onmouseover(event['data']);\n",
       "    }\n",
       "\n",
       "    for(var toolbar_ind in mpl.toolbar_items){\n",
       "        var name = mpl.toolbar_items[toolbar_ind][0];\n",
       "        var tooltip = mpl.toolbar_items[toolbar_ind][1];\n",
       "        var image = mpl.toolbar_items[toolbar_ind][2];\n",
       "        var method_name = mpl.toolbar_items[toolbar_ind][3];\n",
       "\n",
       "        if (!name) { continue; };\n",
       "\n",
       "        var button = $('<button class=\"btn btn-default\" href=\"#\" title=\"' + name + '\"><i class=\"fa ' + image + ' fa-lg\"></i></button>');\n",
       "        button.click(method_name, toolbar_event);\n",
       "        button.mouseover(tooltip, toolbar_mouse_event);\n",
       "        nav_element.append(button);\n",
       "    }\n",
       "\n",
       "    // Add the status bar.\n",
       "    var status_bar = $('<span class=\"mpl-message\" style=\"text-align:right; float: right;\"/>');\n",
       "    nav_element.append(status_bar);\n",
       "    this.message = status_bar[0];\n",
       "\n",
       "    // Add the close button to the window.\n",
       "    var buttongrp = $('<div class=\"btn-group inline pull-right\"></div>');\n",
       "    var button = $('<button class=\"btn btn-mini btn-primary\" href=\"#\" title=\"Stop Interaction\"><i class=\"fa fa-power-off icon-remove icon-large\"></i></button>');\n",
       "    button.click(function (evt) { fig.handle_close(fig, {}); } );\n",
       "    button.mouseover('Stop Interaction', toolbar_mouse_event);\n",
       "    buttongrp.append(button);\n",
       "    var titlebar = this.root.find($('.ui-dialog-titlebar'));\n",
       "    titlebar.prepend(buttongrp);\n",
       "}\n",
       "\n",
       "mpl.figure.prototype._root_extra_style = function(el){\n",
       "    var fig = this\n",
       "    el.on(\"remove\", function(){\n",
       "\tfig.close_ws(fig, {});\n",
       "    });\n",
       "}\n",
       "\n",
       "mpl.figure.prototype._canvas_extra_style = function(el){\n",
       "    // this is important to make the div 'focusable\n",
       "    el.attr('tabindex', 0)\n",
       "    // reach out to IPython and tell the keyboard manager to turn it's self\n",
       "    // off when our div gets focus\n",
       "\n",
       "    // location in version 3\n",
       "    if (IPython.notebook.keyboard_manager) {\n",
       "        IPython.notebook.keyboard_manager.register_events(el);\n",
       "    }\n",
       "    else {\n",
       "        // location in version 2\n",
       "        IPython.keyboard_manager.register_events(el);\n",
       "    }\n",
       "\n",
       "}\n",
       "\n",
       "mpl.figure.prototype._key_event_extra = function(event, name) {\n",
       "    var manager = IPython.notebook.keyboard_manager;\n",
       "    if (!manager)\n",
       "        manager = IPython.keyboard_manager;\n",
       "\n",
       "    // Check for shift+enter\n",
       "    if (event.shiftKey && event.which == 13) {\n",
       "        this.canvas_div.blur();\n",
       "        event.shiftKey = false;\n",
       "        // Send a \"J\" for go to next cell\n",
       "        event.which = 74;\n",
       "        event.keyCode = 74;\n",
       "        manager.command_mode();\n",
       "        manager.handle_keydown(event);\n",
       "    }\n",
       "}\n",
       "\n",
       "mpl.figure.prototype.handle_save = function(fig, msg) {\n",
       "    fig.ondownload(fig, null);\n",
       "}\n",
       "\n",
       "\n",
       "mpl.find_output_cell = function(html_output) {\n",
       "    // Return the cell and output element which can be found *uniquely* in the notebook.\n",
       "    // Note - this is a bit hacky, but it is done because the \"notebook_saving.Notebook\"\n",
       "    // IPython event is triggered only after the cells have been serialised, which for\n",
       "    // our purposes (turning an active figure into a static one), is too late.\n",
       "    var cells = IPython.notebook.get_cells();\n",
       "    var ncells = cells.length;\n",
       "    for (var i=0; i<ncells; i++) {\n",
       "        var cell = cells[i];\n",
       "        if (cell.cell_type === 'code'){\n",
       "            for (var j=0; j<cell.output_area.outputs.length; j++) {\n",
       "                var data = cell.output_area.outputs[j];\n",
       "                if (data.data) {\n",
       "                    // IPython >= 3 moved mimebundle to data attribute of output\n",
       "                    data = data.data;\n",
       "                }\n",
       "                if (data['text/html'] == html_output) {\n",
       "                    return [cell, data, j];\n",
       "                }\n",
       "            }\n",
       "        }\n",
       "    }\n",
       "}\n",
       "\n",
       "// Register the function which deals with the matplotlib target/channel.\n",
       "// The kernel may be null if the page has been refreshed.\n",
       "if (IPython.notebook.kernel != null) {\n",
       "    IPython.notebook.kernel.comm_manager.register_target('matplotlib', mpl.mpl_figure_comm);\n",
       "}\n"
      ],
      "text/plain": [
       "<IPython.core.display.Javascript object>"
      ]
     },
     "metadata": {},
     "output_type": "display_data"
    },
    {
     "data": {
      "text/html": [
       "<img src=\"data:image/png;base64,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\" width=\"285.5\">"
      ],
      "text/plain": [
       "<IPython.core.display.HTML object>"
      ]
     },
     "metadata": {},
     "output_type": "display_data"
    }
   ],
   "source": [
    "% matplotlib notebook\n",
    "gameplay=Play(ConnectN(**game_setting), \n",
    "              player2=Policy_Player_MCTS, \n",
    "              player1=Challenge_Player_MCTS)"
   ]
  },
  {
   "cell_type": "code",
   "execution_count": null,
   "metadata": {},
   "outputs": [],
   "source": []
  }
 ],
 "metadata": {
  "kernelspec": {
   "display_name": "Python 3",
   "language": "python",
   "name": "python3"
  },
  "language_info": {
   "codemirror_mode": {
    "name": "ipython",
    "version": 3
   },
   "file_extension": ".py",
   "mimetype": "text/x-python",
   "name": "python",
   "nbconvert_exporter": "python",
   "pygments_lexer": "ipython3",
   "version": "3.6.3"
  }
 },
 "nbformat": 4,
 "nbformat_minor": 2
}
