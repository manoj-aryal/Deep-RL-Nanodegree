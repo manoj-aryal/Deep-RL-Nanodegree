{
 "cells": [
  {
   "cell_type": "markdown",
   "metadata": {},
   "source": [
    "# Continuous Control\n",
    "\n",
    "---\n",
    "\n",
    "You are welcome to use this coding environment to train your agent for the project.  Follow the instructions below to get started!\n",
    "\n",
    "### 1. Start the Environment\n",
    "\n",
    "Run the next code cell to install a few packages.  This line will take a few minutes to run!"
   ]
  },
  {
   "cell_type": "code",
   "execution_count": 5,
   "metadata": {},
   "outputs": [
    {
     "name": "stdout",
     "output_type": "stream",
     "text": [
      "\u001b[31mipython 6.5.0 has requirement prompt-toolkit<2.0.0,>=1.0.15, but you'll have prompt-toolkit 3.0.5 which is incompatible.\u001b[0m\r\n",
      "\u001b[31mtensorflow 1.7.1 has requirement numpy>=1.13.3, but you'll have numpy 1.12.1 which is incompatible.\u001b[0m\r\n"
     ]
    }
   ],
   "source": [
    "!pip -q install ./python"
   ]
  },
  {
   "cell_type": "markdown",
   "metadata": {},
   "source": [
    "The environments corresponding to both versions of the environment are already saved in the Workspace and can be accessed at the file paths provided below.  \n",
    "\n",
    "Please select one of the two options below for loading the environment."
   ]
  },
  {
   "cell_type": "code",
   "execution_count": 6,
   "metadata": {},
   "outputs": [
    {
     "name": "stderr",
     "output_type": "stream",
     "text": [
      "INFO:unityagents:\n",
      "'Academy' started successfully!\n",
      "Unity Academy name: Academy\n",
      "        Number of Brains: 1\n",
      "        Number of External Brains : 1\n",
      "        Lesson number : 0\n",
      "        Reset Parameters :\n",
      "\t\tgoal_speed -> 1.0\n",
      "\t\tgoal_size -> 5.0\n",
      "Unity brain name: ReacherBrain\n",
      "        Number of Visual Observations (per agent): 0\n",
      "        Vector Observation space type: continuous\n",
      "        Vector Observation space size (per agent): 33\n",
      "        Number of stacked Vector Observation: 1\n",
      "        Vector Action space type: continuous\n",
      "        Vector Action space size (per agent): 4\n",
      "        Vector Action descriptions: , , , \n"
     ]
    }
   ],
   "source": [
    "from unityagents import UnityEnvironment\n",
    "import numpy as np\n",
    "\n",
    "# select this option to load version 1 (with a single agent) of the environment\n",
    "# env = UnityEnvironment(file_name='/data/Reacher_One_Linux_NoVis/Reacher_One_Linux_NoVis.x86_64')\n",
    "\n",
    "# select this option to load version 2 (with 20 agents) of the environment\n",
    "env = UnityEnvironment(file_name='/data/Reacher_Linux_NoVis/Reacher.x86_64')"
   ]
  },
  {
   "cell_type": "markdown",
   "metadata": {},
   "source": [
    "Environments contain **_brains_** which are responsible for deciding the actions of their associated agents. Here we check for the first brain available, and set it as the default brain we will be controlling from Python."
   ]
  },
  {
   "cell_type": "code",
   "execution_count": 7,
   "metadata": {},
   "outputs": [],
   "source": [
    "# get the default brain\n",
    "brain_name = env.brain_names[0]\n",
    "brain = env.brains[brain_name]"
   ]
  },
  {
   "cell_type": "markdown",
   "metadata": {},
   "source": [
    "### 2. Examine the State and Action Spaces\n",
    "\n",
    "Run the code cell below to print some information about the environment."
   ]
  },
  {
   "cell_type": "code",
   "execution_count": 8,
   "metadata": {},
   "outputs": [
    {
     "name": "stdout",
     "output_type": "stream",
     "text": [
      "Number of agents: 20\n",
      "Size of each action: 4\n",
      "There are 20 agents. Each observes a state with length: 33\n",
      "The state for the first agent looks like: [  0.00000000e+00  -4.00000000e+00   0.00000000e+00   1.00000000e+00\n",
      "  -0.00000000e+00  -0.00000000e+00  -4.37113883e-08   0.00000000e+00\n",
      "   0.00000000e+00   0.00000000e+00   0.00000000e+00   0.00000000e+00\n",
      "   0.00000000e+00   0.00000000e+00  -1.00000000e+01   0.00000000e+00\n",
      "   1.00000000e+00  -0.00000000e+00  -0.00000000e+00  -4.37113883e-08\n",
      "   0.00000000e+00   0.00000000e+00   0.00000000e+00   0.00000000e+00\n",
      "   0.00000000e+00   0.00000000e+00   5.75471878e+00  -1.00000000e+00\n",
      "   5.55726624e+00   0.00000000e+00   1.00000000e+00   0.00000000e+00\n",
      "  -1.68164849e-01]\n"
     ]
    }
   ],
   "source": [
    "# reset the environment\n",
    "env_info = env.reset(train_mode=True)[brain_name]\n",
    "\n",
    "# number of agents\n",
    "num_agents = len(env_info.agents)\n",
    "print('Number of agents:', num_agents)\n",
    "\n",
    "# size of each action\n",
    "action_size = brain.vector_action_space_size\n",
    "print('Size of each action:', action_size)\n",
    "\n",
    "# examine the state space \n",
    "states = env_info.vector_observations\n",
    "state_size = states.shape[1]\n",
    "print('There are {} agents. Each observes a state with length: {}'.format(states.shape[0], state_size))\n",
    "print('The state for the first agent looks like:', states[0])"
   ]
  },
  {
   "cell_type": "markdown",
   "metadata": {},
   "source": [
    "### 3. Take Random Actions in the Environment\n",
    "\n",
    "In the next code cell, you will learn how to use the Python API to control the agent and receive feedback from the environment.\n",
    "\n",
    "Note that **in this coding environment, you will not be able to watch the agents while they are training**, and you should set `train_mode=True` to restart the environment."
   ]
  },
  {
   "cell_type": "code",
   "execution_count": 9,
   "metadata": {},
   "outputs": [
    {
     "name": "stdout",
     "output_type": "stream",
     "text": [
      "Total score (averaged over agents) this episode: 0.06649999851360917\n"
     ]
    }
   ],
   "source": [
    "env_info = env.reset(train_mode=True)[brain_name]      # reset the environment    \n",
    "states = env_info.vector_observations                  # get the current state (for each agent)\n",
    "scores = np.zeros(num_agents)                          # initialize the score (for each agent)\n",
    "while True:\n",
    "    actions = np.random.randn(num_agents, action_size) # select an action (for each agent)\n",
    "    actions = np.clip(actions, -1, 1)                  # all actions between -1 and 1\n",
    "    env_info = env.step(actions)[brain_name]           # send all actions to tne environment\n",
    "    next_states = env_info.vector_observations         # get next state (for each agent)\n",
    "    rewards = env_info.rewards                         # get reward (for each agent)\n",
    "    dones = env_info.local_done                        # see if episode finished\n",
    "    scores += env_info.rewards                         # update the score (for each agent)\n",
    "    states = next_states                               # roll over states to next time step\n",
    "    if np.any(dones):                                  # exit loop if episode finished\n",
    "        break\n",
    "print('Total score (averaged over agents) this episode: {}'.format(np.mean(scores)))"
   ]
  },
  {
   "cell_type": "markdown",
   "metadata": {},
   "source": [
    "### 4. Train your agent\n",
    "**A few important notes:**\n",
    "\n",
    "When training the environment, set train_mode=True, so that the line for resetting the environment looks like the following:\n",
    "env_info = env.reset(train_mode=True)[brain_name]\n",
    "In this coding environment, you will not be able to watch the agents while they are training. However, after training the agents, you can download the saved model weights to watch the agents on your own machine!\n",
    "\n",
    "**Learning algorithm - DDPG**\n",
    "Deep Deterministic Policy Gradient was proposed in Continuous control with deep reinforcement learning (Lillicrap et al, 2015) which is an off policy algorithm. DDPG is an actor critic algorithm and simultaneously learns a function and a policy using two networks. The algorithm also applies experience replay and target networks to stabilize the training. \n",
    "\n",
    "**Model architecture**\n",
    "The Actor network consist of three fully connected layer with batch normalization applied at the first layer. The network maps states to actions. It uses ReLU as activation function except the last layer where it use tanh.\n",
    "\n",
    "The critic network also consist of three fully connected layer with batchnormalization applied at the first layer. The network maps maps state,action pairs to Q-values. It uses ReLU as activation function in the first two layers and no activation function for the last layer.\n",
    "\n",
    "**Hyperparameters**\n",
    "- fc1_units=400 # Number of nodes in the first hidden layer\n",
    "- fc2_units=300 # Number of nodes in the second hidden layer\n",
    "- BUFFER_SIZE = int(1e6) # replay buffer size\n",
    "- BATCH_SIZE = 128 # minibatch size\n",
    "- GAMMA = 0.99 # discount factor\n",
    "- TAU = 1e-3 # for soft update of target parameters\n",
    "- LR_ACTOR = 1e-3 # learning rate of the actor\n",
    "- LR_CRITIC = 1e-3 # learning rate of the critic\n",
    "- WEIGHT_DECAY = 0 # L2 weight decay\n",
    "- LEARN_EVERY = 20 # learning timestep interval\n",
    "- LEARN_NUM = 10 # number of learning passes\n",
    "- GRAD_CLIPPING = 1.0 # gradient clipping\n",
    "- OU_SIGMA = 0.2 # OU noise parameter\n",
    "- OU_THETA = 0.15 # OU noise parameter\n",
    "- EPSILON = 1.0 # for epsilon in the noise process (act step)\n",
    "- EPSILON_DECAY = 1e-6 3 epsilon decay rate\n",
    "- num_episodes=2500 # maximum number of training episodes\n",
    "- max_t=1000 # maximum number of timesteps per episode"
   ]
  },
  {
   "cell_type": "code",
   "execution_count": 10,
   "metadata": {},
   "outputs": [],
   "source": [
    "import numpy as np\n",
    "import random\n",
    "import time\n",
    "import torch\n",
    "\n",
    "import matplotlib.pyplot as plt\n",
    "%matplotlib inline\n",
    "\n",
    "from collections import deque\n",
    "from ddpg_agent import Agent\n",
    "from unityagents import UnityEnvironment"
   ]
  },
  {
   "cell_type": "code",
   "execution_count": 11,
   "metadata": {},
   "outputs": [],
   "source": [
    "seed = 11\n",
    "def ddpg(num_episodes=2500, max_t=1000, print_every=1, actor_weights_name='actor.pth', critic_weights_name='critic.pth'):\n",
    "    mean_scores = [] # mean scores from each episode\n",
    "    moving_avgs = [] # moving averages\n",
    "    best_score = -np.inf\n",
    "    scores_window = deque(maxlen=100)\n",
    "    \n",
    "    for i_episode in range(1, num_episodes + 1):\n",
    "        env_info = env.reset(train_mode=True)[brain_name]\n",
    "        states = env_info.vector_observations \n",
    "        scores = np.zeros(num_agents)\n",
    "        agent.reset()\n",
    "        start_time = time.time()\n",
    "        for t in range(max_t):\n",
    "            actions = agent.act(states, add_noise=True) \n",
    "            env_info = env.step(actions)[brain_name]  \n",
    "            next_states = env_info.vector_observations \n",
    "            rewards = env_info.rewards \n",
    "            dones = env_info.local_done \n",
    "            for state, action, reward, next_state, done in zip(states, actions, rewards, next_states, dones):\n",
    "                agent.step(state, action, reward, next_state, done, t)\n",
    "            states = next_states\n",
    "            scores += rewards\n",
    "            if np.any(dones):\n",
    "                break\n",
    "        duration = time.time() - start_time\n",
    "        mean_scores.append(np.mean(scores)) \n",
    "        scores_window.append(mean_scores[-1])\n",
    "        moving_avgs.append(np.mean(scores_window))\n",
    "        \n",
    "        if i_episode % print_every == 0:\n",
    "            print(\"\\rEpisode {} ({}s)\\tMean: {:.1f}\\tMoving Avg: {:.1f}\"\\\n",
    "                  .format(i_episode, round(duration), mean_scores[-1], moving_avgs[-1]))\n",
    "        if moving_avgs[-1] >= 30.0:\n",
    "            print(\"\\nEnvironment solved in {:d} episodes.\\tAverage score: {:.2f}\"\\\n",
    "                 .format(i_episode, moving_avgs[-1]))\n",
    "            torch.save(agent.actor_local.state_dict(), actor_weights_name)\n",
    "            torch.save(agent.critic_local.state_dict(), critic_weights_name)\n",
    "            break\n",
    "            \n",
    "    return mean_scores, moving_avgs"
   ]
  },
  {
   "cell_type": "code",
   "execution_count": 12,
   "metadata": {},
   "outputs": [
    {
     "name": "stdout",
     "output_type": "stream",
     "text": [
      "Episode 1 (111s)\tMean: 1.4\tMoving Avg: 1.4\n",
      "Episode 2 (114s)\tMean: 2.7\tMoving Avg: 2.0\n",
      "Episode 3 (115s)\tMean: 3.4\tMoving Avg: 2.5\n",
      "Episode 4 (115s)\tMean: 3.8\tMoving Avg: 2.8\n",
      "Episode 5 (117s)\tMean: 3.2\tMoving Avg: 2.9\n",
      "Episode 6 (117s)\tMean: 4.6\tMoving Avg: 3.2\n",
      "Episode 7 (118s)\tMean: 4.9\tMoving Avg: 3.4\n",
      "Episode 8 (119s)\tMean: 5.0\tMoving Avg: 3.6\n",
      "Episode 9 (120s)\tMean: 6.1\tMoving Avg: 3.9\n",
      "Episode 10 (122s)\tMean: 6.3\tMoving Avg: 4.1\n",
      "Episode 11 (123s)\tMean: 7.5\tMoving Avg: 4.4\n",
      "Episode 12 (124s)\tMean: 9.0\tMoving Avg: 4.8\n",
      "Episode 13 (126s)\tMean: 9.1\tMoving Avg: 5.2\n",
      "Episode 14 (127s)\tMean: 10.2\tMoving Avg: 5.5\n",
      "Episode 15 (129s)\tMean: 10.2\tMoving Avg: 5.8\n",
      "Episode 16 (131s)\tMean: 12.6\tMoving Avg: 6.2\n",
      "Episode 17 (132s)\tMean: 13.5\tMoving Avg: 6.7\n",
      "Episode 18 (134s)\tMean: 16.2\tMoving Avg: 7.2\n",
      "Episode 19 (135s)\tMean: 16.8\tMoving Avg: 7.7\n",
      "Episode 20 (136s)\tMean: 19.3\tMoving Avg: 8.3\n",
      "Episode 21 (140s)\tMean: 19.0\tMoving Avg: 8.8\n",
      "Episode 22 (141s)\tMean: 20.3\tMoving Avg: 9.3\n",
      "Episode 23 (144s)\tMean: 19.5\tMoving Avg: 9.8\n",
      "Episode 24 (147s)\tMean: 20.3\tMoving Avg: 10.2\n",
      "Episode 25 (150s)\tMean: 22.4\tMoving Avg: 10.7\n",
      "Episode 26 (150s)\tMean: 24.4\tMoving Avg: 11.2\n",
      "Episode 27 (153s)\tMean: 25.9\tMoving Avg: 11.8\n",
      "Episode 28 (154s)\tMean: 23.8\tMoving Avg: 12.2\n",
      "Episode 29 (160s)\tMean: 23.9\tMoving Avg: 12.6\n",
      "Episode 30 (161s)\tMean: 24.5\tMoving Avg: 13.0\n",
      "Episode 31 (163s)\tMean: 26.1\tMoving Avg: 13.4\n",
      "Episode 32 (165s)\tMean: 29.1\tMoving Avg: 13.9\n",
      "Episode 33 (168s)\tMean: 26.3\tMoving Avg: 14.3\n",
      "Episode 34 (170s)\tMean: 29.3\tMoving Avg: 14.7\n",
      "Episode 35 (171s)\tMean: 29.0\tMoving Avg: 15.1\n",
      "Episode 36 (173s)\tMean: 28.5\tMoving Avg: 15.5\n",
      "Episode 37 (176s)\tMean: 29.1\tMoving Avg: 15.9\n",
      "Episode 38 (179s)\tMean: 29.8\tMoving Avg: 16.2\n",
      "Episode 39 (181s)\tMean: 31.9\tMoving Avg: 16.6\n",
      "Episode 40 (184s)\tMean: 33.1\tMoving Avg: 17.0\n",
      "Episode 41 (186s)\tMean: 32.4\tMoving Avg: 17.4\n",
      "Episode 42 (189s)\tMean: 36.1\tMoving Avg: 17.9\n",
      "Episode 43 (192s)\tMean: 33.7\tMoving Avg: 18.2\n",
      "Episode 44 (196s)\tMean: 35.5\tMoving Avg: 18.6\n",
      "Episode 45 (200s)\tMean: 35.2\tMoving Avg: 19.0\n",
      "Episode 46 (199s)\tMean: 37.5\tMoving Avg: 19.4\n",
      "Episode 47 (205s)\tMean: 37.4\tMoving Avg: 19.8\n",
      "Episode 48 (209s)\tMean: 38.5\tMoving Avg: 20.2\n",
      "Episode 49 (211s)\tMean: 37.5\tMoving Avg: 20.5\n",
      "Episode 50 (214s)\tMean: 37.9\tMoving Avg: 20.9\n",
      "Episode 51 (215s)\tMean: 38.5\tMoving Avg: 21.2\n",
      "Episode 52 (215s)\tMean: 37.8\tMoving Avg: 21.5\n",
      "Episode 53 (215s)\tMean: 38.4\tMoving Avg: 21.9\n",
      "Episode 54 (215s)\tMean: 38.8\tMoving Avg: 22.2\n",
      "Episode 55 (215s)\tMean: 39.1\tMoving Avg: 22.5\n",
      "Episode 56 (214s)\tMean: 37.9\tMoving Avg: 22.8\n",
      "Episode 57 (215s)\tMean: 38.7\tMoving Avg: 23.0\n",
      "Episode 58 (215s)\tMean: 38.8\tMoving Avg: 23.3\n",
      "Episode 59 (215s)\tMean: 38.9\tMoving Avg: 23.6\n",
      "Episode 60 (214s)\tMean: 39.0\tMoving Avg: 23.8\n",
      "Episode 61 (216s)\tMean: 39.2\tMoving Avg: 24.1\n",
      "Episode 62 (216s)\tMean: 39.1\tMoving Avg: 24.3\n",
      "Episode 63 (215s)\tMean: 39.0\tMoving Avg: 24.6\n",
      "Episode 64 (216s)\tMean: 38.9\tMoving Avg: 24.8\n",
      "Episode 65 (216s)\tMean: 38.5\tMoving Avg: 25.0\n",
      "Episode 66 (216s)\tMean: 38.8\tMoving Avg: 25.2\n",
      "Episode 67 (215s)\tMean: 38.8\tMoving Avg: 25.4\n",
      "Episode 68 (216s)\tMean: 37.9\tMoving Avg: 25.6\n",
      "Episode 69 (215s)\tMean: 38.5\tMoving Avg: 25.8\n",
      "Episode 70 (215s)\tMean: 39.0\tMoving Avg: 26.0\n",
      "Episode 71 (217s)\tMean: 38.7\tMoving Avg: 26.1\n",
      "Episode 72 (216s)\tMean: 38.3\tMoving Avg: 26.3\n",
      "Episode 73 (215s)\tMean: 38.3\tMoving Avg: 26.5\n",
      "Episode 74 (217s)\tMean: 38.5\tMoving Avg: 26.6\n",
      "Episode 75 (217s)\tMean: 38.2\tMoving Avg: 26.8\n",
      "Episode 76 (218s)\tMean: 38.4\tMoving Avg: 26.9\n",
      "Episode 77 (219s)\tMean: 38.7\tMoving Avg: 27.1\n",
      "Episode 78 (218s)\tMean: 37.6\tMoving Avg: 27.2\n",
      "Episode 79 (218s)\tMean: 38.1\tMoving Avg: 27.4\n",
      "Episode 80 (219s)\tMean: 38.5\tMoving Avg: 27.5\n",
      "Episode 81 (218s)\tMean: 37.9\tMoving Avg: 27.6\n",
      "Episode 82 (218s)\tMean: 37.5\tMoving Avg: 27.8\n",
      "Episode 83 (218s)\tMean: 38.2\tMoving Avg: 27.9\n",
      "Episode 84 (216s)\tMean: 38.3\tMoving Avg: 28.0\n",
      "Episode 85 (211s)\tMean: 38.2\tMoving Avg: 28.1\n",
      "Episode 86 (216s)\tMean: 38.1\tMoving Avg: 28.2\n",
      "Episode 87 (215s)\tMean: 38.2\tMoving Avg: 28.4\n",
      "Episode 88 (214s)\tMean: 38.1\tMoving Avg: 28.5\n",
      "Episode 89 (214s)\tMean: 37.7\tMoving Avg: 28.6\n",
      "Episode 90 (214s)\tMean: 38.0\tMoving Avg: 28.7\n",
      "Episode 91 (214s)\tMean: 37.6\tMoving Avg: 28.8\n",
      "Episode 92 (212s)\tMean: 37.2\tMoving Avg: 28.9\n",
      "Episode 93 (214s)\tMean: 38.1\tMoving Avg: 29.0\n",
      "Episode 94 (216s)\tMean: 37.5\tMoving Avg: 29.1\n",
      "Episode 95 (222s)\tMean: 37.1\tMoving Avg: 29.1\n",
      "Episode 96 (221s)\tMean: 36.9\tMoving Avg: 29.2\n",
      "Episode 97 (220s)\tMean: 38.5\tMoving Avg: 29.3\n",
      "Episode 98 (221s)\tMean: 38.8\tMoving Avg: 29.4\n",
      "Episode 99 (221s)\tMean: 38.0\tMoving Avg: 29.5\n",
      "Episode 100 (221s)\tMean: 38.1\tMoving Avg: 29.6\n",
      "Episode 101 (221s)\tMean: 37.6\tMoving Avg: 29.9\n",
      "Episode 102 (221s)\tMean: 37.9\tMoving Avg: 30.3\n",
      "\n",
      "Environment solved in 102 episodes.\tAverage score: 30.30\n"
     ]
    }
   ],
   "source": [
    "import workspace_utils\n",
    "agent = Agent(state_size=state_size, action_size=action_size, random_seed=seed)\n",
    "from workspace_utils import active_session\n",
    " \n",
    "with active_session():\n",
    "    scores, avgs = ddpg(actor_weights_name ='actor.pth', critic_weights_name='critic.pth')"
   ]
  },
  {
   "cell_type": "code",
   "execution_count": 14,
   "metadata": {},
   "outputs": [
    {
     "data": {
      "image/png": "[encoded data removed]",
      "text/plain": [
       "<matplotlib.figure.Figure at 0x7f7df86c0518>"
      ]
     },
     "metadata": {
      "needs_background": "light"
     },
     "output_type": "display_data"
    }
   ],
   "source": [
    "fig = plt.figure()\n",
    "ax = fig.add_subplot(111)\n",
    "plt.plot(np.arange(len(scores)), scores, label='DDPG')\n",
    "plt.plot(np.arange(len(scores)), avgs, c='r', label='Moving AVG')\n",
    "plt.ylabel('Score')\n",
    "plt.xlabel('Episodes')\n",
    "plt.legend(loc='upper left');\n",
    "plt.show()"
   ]
  },
  {
   "cell_type": "markdown",
   "metadata": {},
   "source": [
    "## Future ideas to improve the agent's performance\n",
    "\n",
    "We can try using prioritized experience replay and also fine-tuning of hperparameters can lead to better results."
   ]
  }
 ],
 "metadata": {
  "kernelspec": {
   "display_name": "Python 3",
   "language": "python",
   "name": "python3"
  },
  "language_info": {
   "codemirror_mode": {
    "name": "ipython",
    "version": 3
   },
   "file_extension": ".py",
   "mimetype": "text/x-python",
   "name": "python",
   "nbconvert_exporter": "python",
   "pygments_lexer": "ipython3",
   "version": "3.6.3"
  }
 },
 "nbformat": 4,
 "nbformat_minor": 2
}
